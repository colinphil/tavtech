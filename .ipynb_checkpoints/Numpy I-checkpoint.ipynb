{
 "cells": [
  {
   "cell_type": "markdown",
   "metadata": {
    "colab_type": "text",
    "id": "nRkLH6ZRqgCZ"
   },
   "source": [
    "# Numerical Python: NumPy\n"
   ]
  },
  {
   "cell_type": "markdown",
   "metadata": {
    "colab_type": "text",
    "id": "UzyaYe9wqgCd"
   },
   "source": [
    "[NumPy](http://www.numpy.org/) is the fundamental package for scientific computing with Python. It contains arrays, math functions, linear algebra, random number capabilities and much more.\n",
    "\n",
    "# [![Numpy logo](https://numfocus.org/wp-content/uploads/2016/07/numpy-logo-300.png)](https://matplotlib.org/gallery/mplot3d/voxels_numpy_logo.html)"
   ]
  },
  {
   "cell_type": "markdown",
   "metadata": {
    "colab_type": "text",
    "id": "pc_DuULTqgCe"
   },
   "source": [
    "## Data Types in Python\n",
    "***\n",
    "Python is what's called a dynamiclly typed language ↓. This means that every time we preform an action\n",
    "> _Dynamic typed language - Types are checked during execution of the code.<br>\n",
    "Static typed language - Types are checked before run-time_\n",
    "\n",
    "with a variable, the interpeter needs to first check the type of the variable and only then prefrom the action.  \n",
    "When we need to execute tons of operations this overhead(checking the type) takes a loooooot of time (we will see this soon).\n",
    "\n",
    "### Python integers disguise \n",
    "Every time we store an integer in python `x = 10` \"behind the scenes\" python is storing much more than just the value 10. It's actually storing 4 different values inside a C struct (C struct is the equivalent of a python class):\n",
    "1. digit - The value of the digit.\n",
    "1. size - The size of the variable.\n",
    "1. type - The type of the object.\n",
    "1. reference count - Helps python with handling memroy allocation\n"
   ]
  },
  {
   "cell_type": "markdown",
   "metadata": {
    "colab_type": "text",
    "id": "P1nhsF18qgCg"
   },
   "source": [
    "### Python lists are a wolf in sheep's clothing\n",
    "A python integer is a walk in the park compared to what happens in a python list.  \n",
    "As we know we can create heterogeneous lists in python:"
   ]
  },
  {
   "cell_type": "code",
   "execution_count": 0,
   "metadata": {
    "colab": {},
    "colab_type": "code",
    "id": "FhnVHS0nqgCh"
   },
   "outputs": [],
   "source": [
    "l = [1, \"string\", True, 122.3]"
   ]
  },
  {
   "cell_type": "markdown",
   "metadata": {
    "colab_type": "text",
    "id": "ki9yC2HGqgCy"
   },
   "source": [
    "While this flexibilty is convenient it also comes at a price. Every element in the list is a python object containing all the extra data we saw for a python integer. And with every iteration, we need to check the type of the element. So this cost us time and memory both.  \n",
    "In case we are holding a list of the same type this overhead is redundant."
   ]
  },
  {
   "cell_type": "markdown",
   "metadata": {
    "colab_type": "text",
    "id": "NBqEpZoxqgC1"
   },
   "source": [
    "In order to overcome this problem we are going to switch to __Numpy Arrays!__"
   ]
  },
  {
   "cell_type": "markdown",
   "metadata": {
    "colab_type": "text",
    "id": "-7Ip2_jXqgC3"
   },
   "source": [
    "## Importing NumPy\n",
    "***\n",
    "\n",
    "The convention is `import numpy as np`. This loads the entire NumPy package once, and uses an alias `np` so that we don't pollute our code with too much `numpy`.\n",
    "\n",
    "If you only need specific NumPy objects you can load them using `from numpy import array, ones` etc."
   ]
  },
  {
   "cell_type": "code",
   "execution_count": 0,
   "metadata": {
    "colab": {
     "base_uri": "https://localhost:8080/",
     "height": 34
    },
    "colab_type": "code",
    "executionInfo": {
     "elapsed": 4618,
     "status": "ok",
     "timestamp": 1572875284056,
     "user": {
      "displayName": "Keren-Audrey Ouaknine",
      "photoUrl": "https://lh3.googleusercontent.com/a-/AAuE7mBQjOKX9Dq4HNrk47eKKKTmWpg4hZOmNe3UGntusA=s64",
      "userId": "10590988939558804557"
     },
     "user_tz": -120
    },
    "id": "NLb3LGyqqgC5",
    "outputId": "5e3ea88f-1d59-4431-f313-b056bbaa9e36"
   },
   "outputs": [
    {
     "name": "stdout",
     "output_type": "stream",
     "text": [
      "Numpy version: 1.17.3\n"
     ]
    }
   ],
   "source": [
    "import numpy as np\n",
    "print(\"Numpy version:\", np.__version__)"
   ]
  },
  {
   "cell_type": "markdown",
   "metadata": {
    "colab_type": "text",
    "id": "RSeQa9FTqgDC"
   },
   "source": [
    "## Numpy Arrays\n",
    "***\n",
    "You can think of a numpy array as a list where all the elements **must** be of the same type. Meaning, all the elements in a numpy array will be treated equally, no type checking should take place."
   ]
  },
  {
   "cell_type": "markdown",
   "metadata": {
    "colab_type": "text",
    "id": "2nKuqM9kqgDF"
   },
   "source": [
    "Let's create our first numpy array:"
   ]
  },
  {
   "cell_type": "code",
   "execution_count": 0,
   "metadata": {
    "colab": {
     "base_uri": "https://localhost:8080/",
     "height": 34
    },
    "colab_type": "code",
    "executionInfo": {
     "elapsed": 4601,
     "status": "ok",
     "timestamp": 1572875284057,
     "user": {
      "displayName": "Keren-Audrey Ouaknine",
      "photoUrl": "https://lh3.googleusercontent.com/a-/AAuE7mBQjOKX9Dq4HNrk47eKKKTmWpg4hZOmNe3UGntusA=s64",
      "userId": "10590988939558804557"
     },
     "user_tz": -120
    },
    "id": "vX7xHVaKqgDQ",
    "outputId": "5eef30a7-4fe3-45d5-a025-63ba4bb89f54"
   },
   "outputs": [
    {
     "data": {
      "text/plain": [
       "(numpy.ndarray, array([1., 2., 3., 4.]))"
      ]
     },
     "execution_count": 3,
     "metadata": {
      "tags": []
     },
     "output_type": "execute_result"
    }
   ],
   "source": [
    "a  = np.array([1., 2, 3, 4])\n",
    "type(a), a"
   ]
  },
  {
   "cell_type": "markdown",
   "metadata": {
    "colab_type": "text",
    "id": "h1fIG9eSqgDc"
   },
   "source": []
  },
  {
   "cell_type": "markdown",
   "metadata": {
    "colab_type": "text",
    "id": "bbFjgMtTqgDe"
   },
   "source": [
    "We can see the type of the array is numpy.ndarray. The ndarray stands for n-dimension array.  \n",
    "We can also specify the type we want our array to be using the `dtype` parameter:"
   ]
  },
  {
   "cell_type": "code",
   "execution_count": 0,
   "metadata": {
    "colab": {
     "base_uri": "https://localhost:8080/",
     "height": 34
    },
    "colab_type": "code",
    "executionInfo": {
     "elapsed": 4574,
     "status": "ok",
     "timestamp": 1572875284059,
     "user": {
      "displayName": "Keren-Audrey Ouaknine",
      "photoUrl": "https://lh3.googleusercontent.com/a-/AAuE7mBQjOKX9Dq4HNrk47eKKKTmWpg4hZOmNe3UGntusA=s64",
      "userId": "10590988939558804557"
     },
     "user_tz": -120
    },
    "id": "1PHJzKaDqgDg",
    "outputId": "d42c337b-5e31-41ab-aa54-c6c60fc0a31d"
   },
   "outputs": [
    {
     "data": {
      "text/plain": [
       "(numpy.ndarray, array([1., 2., 3., 4.]))"
      ]
     },
     "execution_count": 4,
     "metadata": {
      "tags": []
     },
     "output_type": "execute_result"
    }
   ],
   "source": [
    "a = np.array([1, 2, 3, 4], dtype=np.float)\n",
    "type(a), a"
   ]
  },
  {
   "cell_type": "code",
   "execution_count": 0,
   "metadata": {
    "colab": {
     "base_uri": "https://localhost:8080/",
     "height": 34
    },
    "colab_type": "code",
    "executionInfo": {
     "elapsed": 4555,
     "status": "ok",
     "timestamp": 1572875284060,
     "user": {
      "displayName": "Keren-Audrey Ouaknine",
      "photoUrl": "https://lh3.googleusercontent.com/a-/AAuE7mBQjOKX9Dq4HNrk47eKKKTmWpg4hZOmNe3UGntusA=s64",
      "userId": "10590988939558804557"
     },
     "user_tz": -120
    },
    "id": "k7o5ZWdGqgDn",
    "outputId": "e8637be7-f704-4e82-9201-f06a9777a4f8"
   },
   "outputs": [
    {
     "data": {
      "text/plain": [
       "(numpy.ndarray, array([False,  True,  True,  True]))"
      ]
     },
     "execution_count": 5,
     "metadata": {
      "tags": []
     },
     "output_type": "execute_result"
    }
   ],
   "source": [
    "a = np.array([0, 1, 2, 3], dtype=np.bool)\n",
    "type(a), a"
   ]
  },
  {
   "cell_type": "markdown",
   "metadata": {
    "colab_type": "text",
    "id": "DNVbB2qZqgDx"
   },
   "source": [
    "### Creating arrays from lists\n",
    "As we just saw we can create numpy arrays from python lists.  "
   ]
  },
  {
   "cell_type": "code",
   "execution_count": 0,
   "metadata": {
    "colab": {
     "base_uri": "https://localhost:8080/",
     "height": 102
    },
    "colab_type": "code",
    "executionInfo": {
     "elapsed": 4536,
     "status": "ok",
     "timestamp": 1572875284061,
     "user": {
      "displayName": "Keren-Audrey Ouaknine",
      "photoUrl": "https://lh3.googleusercontent.com/a-/AAuE7mBQjOKX9Dq4HNrk47eKKKTmWpg4hZOmNe3UGntusA=s64",
      "userId": "10590988939558804557"
     },
     "user_tz": -120
    },
    "id": "CTUBn290qgD3",
    "outputId": "cce2b9eb-2199-4135-fe96-124f4e00e40d"
   },
   "outputs": [
    {
     "name": "stdout",
     "output_type": "stream",
     "text": [
      "[1 2 3 4]\n",
      "==========\n",
      "[[1 2 3]\n",
      " [4 5 6]\n",
      " [7 8 9]]\n"
     ]
    }
   ],
   "source": [
    "a = np.array([1,2,3,4]) # Creating a 1d Array.\n",
    "b = np.array([[1,2,3], [4, 5, 6], [7, 8, 9]]) # Creating a 2d Array.\n",
    "\n",
    "print(a)\n",
    "print('='*10)\n",
    "print(b)"
   ]
  },
  {
   "cell_type": "markdown",
   "metadata": {
    "colab_type": "text",
    "id": "10aRmz5PqgED"
   },
   "source": [
    "#### Array Types\n",
    "As mentioned before, if we don't set the array type, numpy will infer the type for us.  \n",
    "We can set the type explicitly should we want to.   \n",
    "To further query the types in numpy visit : [Numpy Data Types](https://www.numpy.org/devdocs/user/basics.types.html)"
   ]
  },
  {
   "cell_type": "code",
   "execution_count": 0,
   "metadata": {
    "colab": {
     "base_uri": "https://localhost:8080/",
     "height": 34
    },
    "colab_type": "code",
    "executionInfo": {
     "elapsed": 4495,
     "status": "ok",
     "timestamp": 1572875284062,
     "user": {
      "displayName": "Keren-Audrey Ouaknine",
      "photoUrl": "https://lh3.googleusercontent.com/a-/AAuE7mBQjOKX9Dq4HNrk47eKKKTmWpg4hZOmNe3UGntusA=s64",
      "userId": "10590988939558804557"
     },
     "user_tz": -120
    },
    "id": "p7s2aiMnqgEF",
    "outputId": "1eeed5e7-8412-4af2-a00d-c78ca5d975e1"
   },
   "outputs": [
    {
     "data": {
      "text/plain": [
       "(numpy.ndarray, array([1, 2, 3, 4], dtype=int16))"
      ]
     },
     "execution_count": 7,
     "metadata": {
      "tags": []
     },
     "output_type": "execute_result"
    }
   ],
   "source": [
    "a = np.array([1, 2, 3, 4], dtype=np.short)\n",
    "type(a), a"
   ]
  },
  {
   "cell_type": "markdown",
   "metadata": {
    "colab_type": "text",
    "id": "x2xdcJSmqgEN"
   },
   "source": [
    "This brings out a question - Why would we like to explicitly define our type and not let numpy do the work for us?"
   ]
  },
  {
   "cell_type": "markdown",
   "metadata": {
    "colab_type": "text",
    "id": "KkJOIWC3qgEQ"
   },
   "source": [
    "### Creating arrays with numpy methods\n",
    "We can also create arrays using different numpy methods:"
   ]
  },
  {
   "cell_type": "code",
   "execution_count": 0,
   "metadata": {
    "colab": {
     "base_uri": "https://localhost:8080/",
     "height": 34
    },
    "colab_type": "code",
    "executionInfo": {
     "elapsed": 4463,
     "status": "ok",
     "timestamp": 1572875284063,
     "user": {
      "displayName": "Keren-Audrey Ouaknine",
      "photoUrl": "https://lh3.googleusercontent.com/a-/AAuE7mBQjOKX9Dq4HNrk47eKKKTmWpg4hZOmNe3UGntusA=s64",
      "userId": "10590988939558804557"
     },
     "user_tz": -120
    },
    "id": "pISRVjXLqgER",
    "outputId": "c431810c-a3b0-4bf2-e225-f14ddfb0d0eb"
   },
   "outputs": [
    {
     "data": {
      "text/plain": [
       "array([0., 0., 0., 0., 0., 0., 0., 0., 0., 0.])"
      ]
     },
     "execution_count": 8,
     "metadata": {
      "tags": []
     },
     "output_type": "execute_result"
    }
   ],
   "source": [
    "np.zeros(10) # Will create a 1d array of zeros."
   ]
  },
  {
   "cell_type": "code",
   "execution_count": 0,
   "metadata": {
    "colab": {
     "base_uri": "https://localhost:8080/",
     "height": 102
    },
    "colab_type": "code",
    "executionInfo": {
     "elapsed": 4438,
     "status": "ok",
     "timestamp": 1572875284065,
     "user": {
      "displayName": "Keren-Audrey Ouaknine",
      "photoUrl": "https://lh3.googleusercontent.com/a-/AAuE7mBQjOKX9Dq4HNrk47eKKKTmWpg4hZOmNe3UGntusA=s64",
      "userId": "10590988939558804557"
     },
     "user_tz": -120
    },
    "id": "cIIEXFUzqgEV",
    "outputId": "7b4062a8-542c-49dc-9959-2e833b972380"
   },
   "outputs": [
    {
     "data": {
      "text/plain": [
       "array([[0., 0., 0., 0., 0.],\n",
       "       [0., 0., 0., 0., 0.],\n",
       "       [0., 0., 0., 0., 0.],\n",
       "       [0., 0., 0., 0., 0.],\n",
       "       [0., 0., 0., 0., 0.]])"
      ]
     },
     "execution_count": 9,
     "metadata": {
      "tags": []
     },
     "output_type": "execute_result"
    }
   ],
   "source": [
    "np.zeros((5, 5)) # Will create a 5*5 matrix of zeros."
   ]
  },
  {
   "cell_type": "code",
   "execution_count": 0,
   "metadata": {
    "colab": {
     "base_uri": "https://localhost:8080/",
     "height": 136
    },
    "colab_type": "code",
    "executionInfo": {
     "elapsed": 4413,
     "status": "ok",
     "timestamp": 1572875284066,
     "user": {
      "displayName": "Keren-Audrey Ouaknine",
      "photoUrl": "https://lh3.googleusercontent.com/a-/AAuE7mBQjOKX9Dq4HNrk47eKKKTmWpg4hZOmNe3UGntusA=s64",
      "userId": "10590988939558804557"
     },
     "user_tz": -120
    },
    "id": "wJa1BJrTqgEZ",
    "outputId": "3eff4984-8876-4c97-bf8f-27f722378475"
   },
   "outputs": [
    {
     "data": {
      "text/plain": [
       "array([[1., 1., 1., 1., 1., 1., 1.],\n",
       "       [1., 1., 1., 1., 1., 1., 1.],\n",
       "       [1., 1., 1., 1., 1., 1., 1.],\n",
       "       [1., 1., 1., 1., 1., 1., 1.],\n",
       "       [1., 1., 1., 1., 1., 1., 1.],\n",
       "       [1., 1., 1., 1., 1., 1., 1.],\n",
       "       [1., 1., 1., 1., 1., 1., 1.]])"
      ]
     },
     "execution_count": 10,
     "metadata": {
      "tags": []
     },
     "output_type": "execute_result"
    }
   ],
   "source": [
    "np.ones((7, 7)) # Will create a 10*10 matrix of ones."
   ]
  },
  {
   "cell_type": "code",
   "execution_count": 0,
   "metadata": {
    "colab": {
     "base_uri": "https://localhost:8080/",
     "height": 68
    },
    "colab_type": "code",
    "executionInfo": {
     "elapsed": 4383,
     "status": "ok",
     "timestamp": 1572875284067,
     "user": {
      "displayName": "Keren-Audrey Ouaknine",
      "photoUrl": "https://lh3.googleusercontent.com/a-/AAuE7mBQjOKX9Dq4HNrk47eKKKTmWpg4hZOmNe3UGntusA=s64",
      "userId": "10590988939558804557"
     },
     "user_tz": -120
    },
    "id": "TYEFHdhdqgEd",
    "outputId": "57e03ab3-07f0-4376-c15d-1d20b79e1fb6"
   },
   "outputs": [
    {
     "data": {
      "text/plain": [
       "array([[5, 5, 5],\n",
       "       [5, 5, 5],\n",
       "       [5, 5, 5]])"
      ]
     },
     "execution_count": 11,
     "metadata": {
      "tags": []
     },
     "output_type": "execute_result"
    }
   ],
   "source": [
    "np.full((3, 3), 5) # Will create a 3x3 matrix filled with 5."
   ]
  },
  {
   "cell_type": "code",
   "execution_count": 0,
   "metadata": {
    "colab": {
     "base_uri": "https://localhost:8080/",
     "height": 51
    },
    "colab_type": "code",
    "executionInfo": {
     "elapsed": 4352,
     "status": "ok",
     "timestamp": 1572875284068,
     "user": {
      "displayName": "Keren-Audrey Ouaknine",
      "photoUrl": "https://lh3.googleusercontent.com/a-/AAuE7mBQjOKX9Dq4HNrk47eKKKTmWpg4hZOmNe3UGntusA=s64",
      "userId": "10590988939558804557"
     },
     "user_tz": -120
    },
    "id": "lWNeR8lLqgEj",
    "outputId": "1fcd60f9-f5d4-4318-b7b5-5a7c02e58cb6"
   },
   "outputs": [
    {
     "data": {
      "text/plain": [
       "array([[4.9e-324, 9.9e-324],\n",
       "       [1.5e-323, 2.0e-323]])"
      ]
     },
     "execution_count": 12,
     "metadata": {
      "tags": []
     },
     "output_type": "execute_result"
    }
   ],
   "source": [
    "np.empty((2, 2)) # Creates an uninitalized matrix of 2x2"
   ]
  },
  {
   "cell_type": "markdown",
   "metadata": {
    "colab_type": "text",
    "id": "zILTrollqgEn"
   },
   "source": [
    "Why would we want an uninitialized array? \n",
    "\n",
    "\n"
   ]
  },
  {
   "cell_type": "code",
   "execution_count": 0,
   "metadata": {
    "colab": {
     "base_uri": "https://localhost:8080/",
     "height": 34
    },
    "colab_type": "code",
    "executionInfo": {
     "elapsed": 4309,
     "status": "ok",
     "timestamp": 1572875284069,
     "user": {
      "displayName": "Keren-Audrey Ouaknine",
      "photoUrl": "https://lh3.googleusercontent.com/a-/AAuE7mBQjOKX9Dq4HNrk47eKKKTmWpg4hZOmNe3UGntusA=s64",
      "userId": "10590988939558804557"
     },
     "user_tz": -120
    },
    "id": "bNqrpZOIqgEo",
    "outputId": "8b9e3ede-69ea-42d3-e1d7-edb0514c348b"
   },
   "outputs": [
    {
     "data": {
      "text/plain": [
       "array([0, 1, 2, 3, 4])"
      ]
     },
     "execution_count": 13,
     "metadata": {
      "tags": []
     },
     "output_type": "execute_result"
    }
   ],
   "source": [
    "np.arange(5) # Create an array with value 0 to 5 (not including), same as range"
   ]
  },
  {
   "cell_type": "code",
   "execution_count": 0,
   "metadata": {
    "colab": {
     "base_uri": "https://localhost:8080/",
     "height": 34
    },
    "colab_type": "code",
    "executionInfo": {
     "elapsed": 4275,
     "status": "ok",
     "timestamp": 1572875284069,
     "user": {
      "displayName": "Keren-Audrey Ouaknine",
      "photoUrl": "https://lh3.googleusercontent.com/a-/AAuE7mBQjOKX9Dq4HNrk47eKKKTmWpg4hZOmNe3UGntusA=s64",
      "userId": "10590988939558804557"
     },
     "user_tz": -120
    },
    "id": "BVIHfq-5qgEv",
    "outputId": "8ffe0f95-d7b3-44eb-a392-bd7186557f83"
   },
   "outputs": [
    {
     "data": {
      "text/plain": [
       "array([0, 2, 4, 6, 8])"
      ]
     },
     "execution_count": 14,
     "metadata": {
      "tags": []
     },
     "output_type": "execute_result"
    }
   ],
   "source": [
    "np.arange(0, 10, 2)"
   ]
  },
  {
   "cell_type": "code",
   "execution_count": 0,
   "metadata": {
    "colab": {
     "base_uri": "https://localhost:8080/",
     "height": 34
    },
    "colab_type": "code",
    "executionInfo": {
     "elapsed": 4238,
     "status": "ok",
     "timestamp": 1572875284070,
     "user": {
      "displayName": "Keren-Audrey Ouaknine",
      "photoUrl": "https://lh3.googleusercontent.com/a-/AAuE7mBQjOKX9Dq4HNrk47eKKKTmWpg4hZOmNe3UGntusA=s64",
      "userId": "10590988939558804557"
     },
     "user_tz": -120
    },
    "id": "nV01UScgqgEz",
    "outputId": "7622bc7f-398a-4718-f86a-39eda239596f"
   },
   "outputs": [
    {
     "data": {
      "text/plain": [
       "array([ 0. ,  2.5,  5. ,  7.5, 10. ])"
      ]
     },
     "execution_count": 15,
     "metadata": {
      "tags": []
     },
     "output_type": "execute_result"
    }
   ],
   "source": [
    "np.linspace(0, 10 , 5) # Creates an array with 5 values from 0 to 10 (including) with equal spacing"
   ]
  },
  {
   "cell_type": "markdown",
   "metadata": {
    "colab_type": "text",
    "id": "XIjq_F3DqgE3"
   },
   "source": [
    "These are just a few examples. There are many more ways of creating numpy array which you will find out when searching for them on google."
   ]
  },
  {
   "cell_type": "markdown",
   "metadata": {
    "colab_type": "text",
    "id": "s6IljG3-qgE5"
   },
   "source": [
    "### Creating arrays with numpy random methods\n",
    "<img src=\"https://cdn.pixabay.com/photo/2012/04/05/01/24/dice-25637__340.png\" width=\"200\" height=\"\">\n",
    "\n",
    "Another very useful way of creating numpy arrays is by using the numpy random library.<br>\n",
    "To access the library all you need to do is type `np.random`\n"
   ]
  },
  {
   "cell_type": "code",
   "execution_count": 0,
   "metadata": {
    "colab": {
     "base_uri": "https://localhost:8080/"
    },
    "colab_type": "code",
    "executionInfo": {
     "elapsed": 4202,
     "status": "ok",
     "timestamp": 1572875284071,
     "user": {
      "displayName": "Keren-Audrey Ouaknine",
      "photoUrl": "https://lh3.googleusercontent.com/a-/AAuE7mBQjOKX9Dq4HNrk47eKKKTmWpg4hZOmNe3UGntusA=s64",
      "userId": "10590988939558804557"
     },
     "user_tz": -120
    },
    "id": "FGaGv4CBqgE-",
    "outputId": "dafe2bd3-251e-4e24-b307-53e4bf72304c"
   },
   "outputs": [
    {
     "data": {
      "text/plain": [
       "array([[0.015427  , 0.9669237 , 0.46219129],\n",
       "       [0.40180893, 0.67594985, 0.23326621],\n",
       "       [0.70281896, 0.39998683, 0.6396613 ]])"
      ]
     },
     "execution_count": 16,
     "metadata": {
      "tags": []
     },
     "output_type": "execute_result"
    }
   ],
   "source": [
    "np.random.rand(3, 3) # Creates a 3x3 random matrix, each value uniformly from 0 to 1 \n",
    "                     # (notice the shape of the matrix is not sent as a tuple)"
   ]
  },
  {
   "cell_type": "code",
   "execution_count": 0,
   "metadata": {
    "colab": {
     "base_uri": "https://localhost:8080/"
    },
    "colab_type": "code",
    "executionInfo": {
     "elapsed": 4182,
     "status": "ok",
     "timestamp": 1572875284072,
     "user": {
      "displayName": "Keren-Audrey Ouaknine",
      "photoUrl": "https://lh3.googleusercontent.com/a-/AAuE7mBQjOKX9Dq4HNrk47eKKKTmWpg4hZOmNe3UGntusA=s64",
      "userId": "10590988939558804557"
     },
     "user_tz": -120
    },
    "id": "FYF7pNkEqgFM",
    "outputId": "c2b2d470-f937-48e9-e08a-086c2c9f0e09"
   },
   "outputs": [
    {
     "data": {
      "text/plain": [
       "array([[17, 17, 26, 33],\n",
       "       [23, 48, 14, 42],\n",
       "       [31, 39, 41, 15],\n",
       "       [31, 27, 13, 35]])"
      ]
     },
     "execution_count": 17,
     "metadata": {
      "tags": []
     },
     "output_type": "execute_result"
    }
   ],
   "source": [
    "np.random.randint(low=10, high=50, size=(4, 4))"
   ]
  },
  {
   "cell_type": "code",
   "execution_count": 0,
   "metadata": {
    "colab": {
     "base_uri": "https://localhost:8080/"
    },
    "colab_type": "code",
    "executionInfo": {
     "elapsed": 4162,
     "status": "ok",
     "timestamp": 1572875284072,
     "user": {
      "displayName": "Keren-Audrey Ouaknine",
      "photoUrl": "https://lh3.googleusercontent.com/a-/AAuE7mBQjOKX9Dq4HNrk47eKKKTmWpg4hZOmNe3UGntusA=s64",
      "userId": "10590988939558804557"
     },
     "user_tz": -120
    },
    "id": "bZvaqitYqgFR",
    "outputId": "c6bf2055-6d58-42b8-fe97-ca6b3c742917"
   },
   "outputs": [
    {
     "data": {
      "text/plain": [
       "array([[ 1.09505061, -0.87480659],\n",
       "       [ 0.90784671, -0.67899263],\n",
       "       [ 1.24423746, -0.00911744],\n",
       "       [ 0.57423265, -0.12573859],\n",
       "       [-0.12515104,  0.33273386],\n",
       "       [ 0.90234473, -0.58728087]])"
      ]
     },
     "execution_count": 18,
     "metadata": {
      "tags": []
     },
     "output_type": "execute_result"
    }
   ],
   "source": [
    "np.random.normal(loc=0, scale=1, size=(6, 2)) # Creates a 6x2 random matrix, each value is drawn from a\n",
    "                                              # Normal distribution with mu=0 and var=1"
   ]
  },
  {
   "cell_type": "code",
   "execution_count": 0,
   "metadata": {
    "colab": {},
    "colab_type": "code",
    "id": "FGiQyrtDqgFV"
   },
   "outputs": [],
   "source": [
    "# You can run the following code to see all of the numpy random functions.\n",
    "np.random?"
   ]
  },
  {
   "cell_type": "markdown",
   "metadata": {
    "colab_type": "text",
    "id": "P8p3WQghqgFY"
   },
   "source": [
    "***\n",
    "Side Note - Random Generators seed.\n",
    "***\n",
    "Every random generator as a seed, which is some base from which it start generating numbers.  \n",
    "If we want to obtain the same results over and over again we should set the same seed.\n",
    "\n",
    "Below is an example of this behavior"
   ]
  },
  {
   "cell_type": "code",
   "execution_count": 0,
   "metadata": {
    "colab": {
     "base_uri": "https://localhost:8080/"
    },
    "colab_type": "code",
    "executionInfo": {
     "elapsed": 4142,
     "status": "ok",
     "timestamp": 1572875284082,
     "user": {
      "displayName": "Keren-Audrey Ouaknine",
      "photoUrl": "https://lh3.googleusercontent.com/a-/AAuE7mBQjOKX9Dq4HNrk47eKKKTmWpg4hZOmNe3UGntusA=s64",
      "userId": "10590988939558804557"
     },
     "user_tz": -120
    },
    "id": "g7YPXbikqgFd",
    "outputId": "2a8c9d27-ecd5-4c62-8d25-51e349375587"
   },
   "outputs": [
    {
     "data": {
      "text/plain": [
       "array([[0.52191572, 0.69940637],\n",
       "       [0.26986897, 0.67448187]])"
      ]
     },
     "execution_count": 20,
     "metadata": {
      "tags": []
     },
     "output_type": "execute_result"
    }
   ],
   "source": [
    "# Re-run this cell again and again (You can use Ctrl-Enter for that)\n",
    "np.random.seed(80)\n",
    "np.random.rand(2,2)"
   ]
  },
  {
   "cell_type": "code",
   "execution_count": 0,
   "metadata": {
    "colab": {
     "base_uri": "https://localhost:8080/"
    },
    "colab_type": "code",
    "executionInfo": {
     "elapsed": 4115,
     "status": "ok",
     "timestamp": 1572875284083,
     "user": {
      "displayName": "Keren-Audrey Ouaknine",
      "photoUrl": "https://lh3.googleusercontent.com/a-/AAuE7mBQjOKX9Dq4HNrk47eKKKTmWpg4hZOmNe3UGntusA=s64",
      "userId": "10590988939558804557"
     },
     "user_tz": -120
    },
    "id": "vFZLPnokqgFg",
    "outputId": "d57de59c-f522-49c9-9bb0-3b4d3f58fcc7"
   },
   "outputs": [
    {
     "data": {
      "text/plain": [
       "array([[0.90807208, 0.6851502 ],\n",
       "       [0.21165334, 0.31726607]])"
      ]
     },
     "execution_count": 21,
     "metadata": {
      "tags": []
     },
     "output_type": "execute_result"
    }
   ],
   "source": [
    "# Re-run this cell again and again\n",
    "np.random.rand(2,2)"
   ]
  },
  {
   "cell_type": "markdown",
   "metadata": {
    "colab_type": "text",
    "id": "Sb-RhWw9qgFk"
   },
   "source": [
    "***\n",
    "### Exercise\n",
    "***\n",
    "__Create a 2x2x2 ones array__\n",
    "```py\n",
    "array([[[1., 1.],\n",
    "        [1., 1.]],\n",
    "\n",
    "       [[1., 1.],\n",
    "        [1., 1.]]])\n",
    "```"
   ]
  },
  {
   "cell_type": "code",
   "execution_count": 0,
   "metadata": {
    "colab": {
     "base_uri": "https://localhost:8080/"
    },
    "colab_type": "code",
    "executionInfo": {
     "elapsed": 4095,
     "status": "ok",
     "timestamp": 1572875284084,
     "user": {
      "displayName": "Keren-Audrey Ouaknine",
      "photoUrl": "https://lh3.googleusercontent.com/a-/AAuE7mBQjOKX9Dq4HNrk47eKKKTmWpg4hZOmNe3UGntusA=s64",
      "userId": "10590988939558804557"
     },
     "user_tz": -120
    },
    "id": "xNeLD_JvqgFl",
    "outputId": "4c79bce8-c08e-42c4-eb9f-6c4eaaba7c37"
   },
   "outputs": [
    {
     "data": {
      "text/plain": [
       "array([[[1., 1.],\n",
       "        [1., 1.]],\n",
       "\n",
       "       [[1., 1.],\n",
       "        [1., 1.]]])"
      ]
     },
     "execution_count": 22,
     "metadata": {
      "tags": []
     },
     "output_type": "execute_result"
    }
   ],
   "source": [
    "# Your code starts here\n",
    "# Your code ends here"
   ]
  },
  {
   "cell_type": "markdown",
   "metadata": {
    "colab_type": "text",
    "id": "VnN5bQJOqgFp"
   },
   "source": [
    "__Create the following array from a list__\n",
    "```py\n",
    "array([[1],\n",
    "       [2],\n",
    "       [3],\n",
    "       [4]])\n",
    "```"
   ]
  },
  {
   "cell_type": "code",
   "execution_count": 0,
   "metadata": {
    "colab": {
     "base_uri": "https://localhost:8080/"
    },
    "colab_type": "code",
    "executionInfo": {
     "elapsed": 4070,
     "status": "ok",
     "timestamp": 1572875284085,
     "user": {
      "displayName": "Keren-Audrey Ouaknine",
      "photoUrl": "https://lh3.googleusercontent.com/a-/AAuE7mBQjOKX9Dq4HNrk47eKKKTmWpg4hZOmNe3UGntusA=s64",
      "userId": "10590988939558804557"
     },
     "user_tz": -120
    },
    "id": "FIl_e4mWqgFq",
    "outputId": "7c6389d6-18d8-4e95-9522-d14d77076340"
   },
   "outputs": [
    {
     "data": {
      "text/plain": [
       "array([1, 2, 3, 4])"
      ]
     },
     "execution_count": 23,
     "metadata": {
      "tags": []
     },
     "output_type": "execute_result"
    }
   ],
   "source": [
    "# Your code starts here\n",
    "# Your code ends here"
   ]
  },
  {
   "cell_type": "markdown",
   "metadata": {
    "colab_type": "text",
    "id": "A_9e1X9jqgFv"
   },
   "source": [
    "__Create a 3x3 random matrix with values uniformly distributed between 0 to 2__\n",
    "```py\n",
    "array([[1.29723842, 0.98061885, 1.43601699],\n",
    "       [0.96945455, 1.05210706, 1.70699554],\n",
    "       [0.33119019, 1.8379815 , 1.23162847]])\n",
    "```"
   ]
  },
  {
   "cell_type": "code",
   "execution_count": 0,
   "metadata": {
    "colab": {
     "base_uri": "https://localhost:8080/"
    },
    "colab_type": "code",
    "executionInfo": {
     "elapsed": 4051,
     "status": "ok",
     "timestamp": 1572875284087,
     "user": {
      "displayName": "Keren-Audrey Ouaknine",
      "photoUrl": "https://lh3.googleusercontent.com/a-/AAuE7mBQjOKX9Dq4HNrk47eKKKTmWpg4hZOmNe3UGntusA=s64",
      "userId": "10590988939558804557"
     },
     "user_tz": -120
    },
    "id": "CTRRvEcuqgFw",
    "outputId": "ccc1cd7d-e29a-4707-c24d-c17bee73121d"
   },
   "outputs": [
    {
     "data": {
      "text/plain": [
       "array([[0.53459881, 0.24101264, 1.99371379],\n",
       "       [0.16087938, 0.5691995 , 1.0705004 ],\n",
       "       [1.69160422, 0.40024827, 1.6240871 ]])"
      ]
     },
     "execution_count": 24,
     "metadata": {
      "tags": []
     },
     "output_type": "execute_result"
    }
   ],
   "source": [
    "# Your code starts here\n",
    "# Your code ends here"
   ]
  },
  {
   "cell_type": "markdown",
   "metadata": {
    "colab_type": "text",
    "id": "Z4jbRDcPqgF3"
   },
   "source": [
    "## Numpy Arrays Fundamentals \n",
    "***\n",
    "<img src=\"http://www.liberaldictionary.com/wp-content/uploads/2019/01/basic-5981.jpg\" width=\"150\">\n",
    "\n",
    "We will now discuss fundamentals topics of the numpy array:\n",
    "\n",
    "### Attributes of arrays\n",
    "Each numpy array as a set of attributes we can query :\n",
    "1. The number of dimensions.\n",
    "1. The shape (This number of values in each dimension)\n",
    "1. The size  (The total number of elements in the array)\n",
    "1. The type of elements in the array.\n",
    "1. The size of each element."
   ]
  },
  {
   "cell_type": "code",
   "execution_count": 0,
   "metadata": {
    "colab": {
     "base_uri": "https://localhost:8080/",
     "height": 102
    },
    "colab_type": "code",
    "executionInfo": {
     "elapsed": 4032,
     "status": "ok",
     "timestamp": 1572875284088,
     "user": {
      "displayName": "Keren-Audrey Ouaknine",
      "photoUrl": "https://lh3.googleusercontent.com/a-/AAuE7mBQjOKX9Dq4HNrk47eKKKTmWpg4hZOmNe3UGntusA=s64",
      "userId": "10590988939558804557"
     },
     "user_tz": -120
    },
    "id": "ee7fLbxGqgF5",
    "outputId": "57492759-9b1f-40e0-b666-3e496c397c6d"
   },
   "outputs": [
    {
     "data": {
      "text/plain": [
       "array([[0.30793495, 0.51939148],\n",
       "       [0.76829766, 0.78922074],\n",
       "       [0.87056206, 0.18792139],\n",
       "       [0.26950525, 0.49619214],\n",
       "       [0.73912175, 0.19495199]])"
      ]
     },
     "execution_count": 25,
     "metadata": {
      "tags": []
     },
     "output_type": "execute_result"
    }
   ],
   "source": [
    "np.random.seed(26)\n",
    "a = np.random.rand(5, 2)\n",
    "a"
   ]
  },
  {
   "cell_type": "code",
   "execution_count": 0,
   "metadata": {
    "colab": {
     "base_uri": "https://localhost:8080/",
     "height": 102
    },
    "colab_type": "code",
    "executionInfo": {
     "elapsed": 4010,
     "status": "ok",
     "timestamp": 1572875284089,
     "user": {
      "displayName": "Keren-Audrey Ouaknine",
      "photoUrl": "https://lh3.googleusercontent.com/a-/AAuE7mBQjOKX9Dq4HNrk47eKKKTmWpg4hZOmNe3UGntusA=s64",
      "userId": "10590988939558804557"
     },
     "user_tz": -120
    },
    "id": "10_tYbJLqgF_",
    "outputId": "1113e518-6c16-449c-d3da-804464b3a95d"
   },
   "outputs": [
    {
     "name": "stdout",
     "output_type": "stream",
     "text": [
      "Number of dim = 2 \n",
      "Shape =  (5, 2) \n",
      "Size = 10 \n",
      "Type = float64 \n",
      "Element size = 8\n"
     ]
    }
   ],
   "source": [
    "print(\"Number of dim =\", a.ndim, \n",
    "      \"\\nShape = \", a.shape,\n",
    "      \"\\nSize =\",  a.size, \n",
    "      \"\\nType =\", a.dtype, \n",
    "      \"\\nElement size =\", a.itemsize)"
   ]
  },
  {
   "cell_type": "markdown",
   "metadata": {
    "colab_type": "text",
    "id": "xShyiww-qgGD"
   },
   "source": [
    "### Array Indexing\n",
    "The convenient way of accessing single elements using square brackets work with numpy array as well"
   ]
  },
  {
   "cell_type": "code",
   "execution_count": 0,
   "metadata": {
    "colab": {
     "base_uri": "https://localhost:8080/"
    },
    "colab_type": "code",
    "executionInfo": {
     "elapsed": 3989,
     "status": "ok",
     "timestamp": 1572875284089,
     "user": {
      "displayName": "Keren-Audrey Ouaknine",
      "photoUrl": "https://lh3.googleusercontent.com/a-/AAuE7mBQjOKX9Dq4HNrk47eKKKTmWpg4hZOmNe3UGntusA=s64",
      "userId": "10590988939558804557"
     },
     "user_tz": -120
    },
    "id": "4ZBIOofEqgGE",
    "outputId": "a828b5e4-db93-48dd-df17-fd6328556bc9"
   },
   "outputs": [
    {
     "data": {
      "text/plain": [
       "array([ 0,  1,  2,  3,  4,  5,  6,  7,  8,  9, 10, 11])"
      ]
     },
     "execution_count": 27,
     "metadata": {
      "tags": []
     },
     "output_type": "execute_result"
    }
   ],
   "source": [
    "a = np.arange(12)\n",
    "a"
   ]
  },
  {
   "cell_type": "code",
   "execution_count": 0,
   "metadata": {
    "colab": {
     "base_uri": "https://localhost:8080/"
    },
    "colab_type": "code",
    "executionInfo": {
     "elapsed": 3969,
     "status": "ok",
     "timestamp": 1572875284090,
     "user": {
      "displayName": "Keren-Audrey Ouaknine",
      "photoUrl": "https://lh3.googleusercontent.com/a-/AAuE7mBQjOKX9Dq4HNrk47eKKKTmWpg4hZOmNe3UGntusA=s64",
      "userId": "10590988939558804557"
     },
     "user_tz": -120
    },
    "id": "AdS5FGoDqgGH",
    "outputId": "eb9fe65a-4e99-4141-a557-fe88b3cd9cf7"
   },
   "outputs": [
    {
     "data": {
      "text/plain": [
       "(3, 10)"
      ]
     },
     "execution_count": 28,
     "metadata": {
      "tags": []
     },
     "output_type": "execute_result"
    }
   ],
   "source": [
    "# Using the square brackets\n",
    "a[3], a[-2]"
   ]
  },
  {
   "cell_type": "code",
   "execution_count": 0,
   "metadata": {
    "colab": {
     "base_uri": "https://localhost:8080/"
    },
    "colab_type": "code",
    "executionInfo": {
     "elapsed": 3950,
     "status": "ok",
     "timestamp": 1572875284091,
     "user": {
      "displayName": "Keren-Audrey Ouaknine",
      "photoUrl": "https://lh3.googleusercontent.com/a-/AAuE7mBQjOKX9Dq4HNrk47eKKKTmWpg4hZOmNe3UGntusA=s64",
      "userId": "10590988939558804557"
     },
     "user_tz": -120
    },
    "id": "0gsO6zoVqgGL",
    "outputId": "b8671977-6dbe-4a70-b464-830d603bb493"
   },
   "outputs": [
    {
     "data": {
      "text/plain": [
       "array([[0.30793495, 0.51939148, 0.76829766],\n",
       "       [0.78922074, 0.87056206, 0.18792139],\n",
       "       [0.26950525, 0.49619214, 0.73912175]])"
      ]
     },
     "execution_count": 29,
     "metadata": {
      "tags": []
     },
     "output_type": "execute_result"
    }
   ],
   "source": [
    "# Accessing 2d array\n",
    "np.random.seed(26)\n",
    "b = np.random.rand(3, 3)\n",
    "b"
   ]
  },
  {
   "cell_type": "code",
   "execution_count": 0,
   "metadata": {
    "colab": {
     "base_uri": "https://localhost:8080/"
    },
    "colab_type": "code",
    "executionInfo": {
     "elapsed": 3928,
     "status": "ok",
     "timestamp": 1572875284092,
     "user": {
      "displayName": "Keren-Audrey Ouaknine",
      "photoUrl": "https://lh3.googleusercontent.com/a-/AAuE7mBQjOKX9Dq4HNrk47eKKKTmWpg4hZOmNe3UGntusA=s64",
      "userId": "10590988939558804557"
     },
     "user_tz": -120
    },
    "id": "KwtJpDkiqgGQ",
    "outputId": "43bb772e-8595-424d-8b0d-5cd12a47881a"
   },
   "outputs": [
    {
     "data": {
      "text/plain": [
       "(0.30793495262497084, 0.8705620624758235, 0.7391217471137107)"
      ]
     },
     "execution_count": 30,
     "metadata": {
      "tags": []
     },
     "output_type": "execute_result"
    }
   ],
   "source": [
    "b[0, 0], b[1, 1], b[2, 2]"
   ]
  },
  {
   "cell_type": "markdown",
   "metadata": {
    "colab_type": "text",
    "id": "AAhJaXchqgGT"
   },
   "source": [
    "Notice if we only give one index, we will get an entire row"
   ]
  },
  {
   "cell_type": "code",
   "execution_count": 0,
   "metadata": {
    "colab": {
     "base_uri": "https://localhost:8080/"
    },
    "colab_type": "code",
    "executionInfo": {
     "elapsed": 3909,
     "status": "ok",
     "timestamp": 1572875284093,
     "user": {
      "displayName": "Keren-Audrey Ouaknine",
      "photoUrl": "https://lh3.googleusercontent.com/a-/AAuE7mBQjOKX9Dq4HNrk47eKKKTmWpg4hZOmNe3UGntusA=s64",
      "userId": "10590988939558804557"
     },
     "user_tz": -120
    },
    "id": "w_TI24xuqgGV",
    "outputId": "cfdd0933-35ec-4f35-94e8-d63d7bb6de87"
   },
   "outputs": [
    {
     "data": {
      "text/plain": [
       "array([0.30793495, 0.51939148, 0.76829766])"
      ]
     },
     "execution_count": 31,
     "metadata": {
      "tags": []
     },
     "output_type": "execute_result"
    }
   ],
   "source": [
    "b[0]"
   ]
  },
  {
   "cell_type": "markdown",
   "metadata": {
    "colab_type": "text",
    "id": "OS_-oBwjqgGd"
   },
   "source": [
    "### Array slicing\n",
    "The familiar way of slicing lists using the <font color=blue>[start:stop:step]</font> works with numpy. Same as with indexing you use the comma (,) to separate between dimensions.  "
   ]
  },
  {
   "cell_type": "code",
   "execution_count": 0,
   "metadata": {
    "colab": {
     "base_uri": "https://localhost:8080/"
    },
    "colab_type": "code",
    "executionInfo": {
     "elapsed": 3890,
     "status": "ok",
     "timestamp": 1572875284094,
     "user": {
      "displayName": "Keren-Audrey Ouaknine",
      "photoUrl": "https://lh3.googleusercontent.com/a-/AAuE7mBQjOKX9Dq4HNrk47eKKKTmWpg4hZOmNe3UGntusA=s64",
      "userId": "10590988939558804557"
     },
     "user_tz": -120
    },
    "id": "VwVVcmshqgGg",
    "outputId": "43c4ee0c-4b47-45f4-8a08-3d5075c8b479"
   },
   "outputs": [
    {
     "data": {
      "text/plain": [
       "array([ 0,  1,  2,  3,  4,  5,  6,  7,  8,  9, 10, 11, 12, 13, 14, 15, 16,\n",
       "       17, 18, 19])"
      ]
     },
     "execution_count": 32,
     "metadata": {
      "tags": []
     },
     "output_type": "execute_result"
    }
   ],
   "source": [
    "a = np.arange(20)\n",
    "a"
   ]
  },
  {
   "cell_type": "code",
   "execution_count": 0,
   "metadata": {
    "colab": {
     "base_uri": "https://localhost:8080/"
    },
    "colab_type": "code",
    "executionInfo": {
     "elapsed": 3871,
     "status": "ok",
     "timestamp": 1572875284094,
     "user": {
      "displayName": "Keren-Audrey Ouaknine",
      "photoUrl": "https://lh3.googleusercontent.com/a-/AAuE7mBQjOKX9Dq4HNrk47eKKKTmWpg4hZOmNe3UGntusA=s64",
      "userId": "10590988939558804557"
     },
     "user_tz": -120
    },
    "id": "QwTfVAMxqgGj",
    "outputId": "22f2c252-193e-48b6-e5fd-5cd480fedad4"
   },
   "outputs": [
    {
     "data": {
      "text/plain": [
       "array([15, 17, 19])"
      ]
     },
     "execution_count": 33,
     "metadata": {
      "tags": []
     },
     "output_type": "execute_result"
    }
   ],
   "source": [
    "a[-5::2]"
   ]
  },
  {
   "cell_type": "code",
   "execution_count": 0,
   "metadata": {
    "colab": {
     "base_uri": "https://localhost:8080/"
    },
    "colab_type": "code",
    "executionInfo": {
     "elapsed": 3848,
     "status": "ok",
     "timestamp": 1572875284095,
     "user": {
      "displayName": "Keren-Audrey Ouaknine",
      "photoUrl": "https://lh3.googleusercontent.com/a-/AAuE7mBQjOKX9Dq4HNrk47eKKKTmWpg4hZOmNe3UGntusA=s64",
      "userId": "10590988939558804557"
     },
     "user_tz": -120
    },
    "id": "J8Cd1EL5qgGm",
    "outputId": "c5653984-3f4c-48b7-a52a-4ab7d08e9cd9"
   },
   "outputs": [
    {
     "data": {
      "text/plain": [
       "array([19, 18, 17, 16, 15, 14, 13, 12, 11, 10,  9,  8,  7,  6,  5,  4,  3,\n",
       "        2,  1,  0])"
      ]
     },
     "execution_count": 34,
     "metadata": {
      "tags": []
     },
     "output_type": "execute_result"
    }
   ],
   "source": [
    "a[::-1]"
   ]
  },
  {
   "cell_type": "markdown",
   "metadata": {
    "colab_type": "text",
    "id": "PsEanuCbqgGp"
   },
   "source": [
    "__Slicing a 2d array__"
   ]
  },
  {
   "cell_type": "code",
   "execution_count": 0,
   "metadata": {
    "colab": {
     "base_uri": "https://localhost:8080/"
    },
    "colab_type": "code",
    "executionInfo": {
     "elapsed": 3833,
     "status": "ok",
     "timestamp": 1572875284096,
     "user": {
      "displayName": "Keren-Audrey Ouaknine",
      "photoUrl": "https://lh3.googleusercontent.com/a-/AAuE7mBQjOKX9Dq4HNrk47eKKKTmWpg4hZOmNe3UGntusA=s64",
      "userId": "10590988939558804557"
     },
     "user_tz": -120
    },
    "id": "z5kq-p03qgGq",
    "outputId": "294012d9-634d-40c4-e85d-5b5807b38ea1"
   },
   "outputs": [
    {
     "data": {
      "text/plain": [
       "array([[5, 6, 0, 1, 6],\n",
       "       [3, 0, 4, 2, 1],\n",
       "       [7, 3, 5, 9, 4],\n",
       "       [8, 5, 7, 6, 8],\n",
       "       [2, 5, 0, 2, 3]])"
      ]
     },
     "execution_count": 35,
     "metadata": {
      "tags": []
     },
     "output_type": "execute_result"
    }
   ],
   "source": [
    "np.random.seed(26)\n",
    "a = np.random.randint(low=0, high=10, size=(5,5))\n",
    "a"
   ]
  },
  {
   "cell_type": "code",
   "execution_count": 0,
   "metadata": {
    "colab": {
     "base_uri": "https://localhost:8080/"
    },
    "colab_type": "code",
    "executionInfo": {
     "elapsed": 3811,
     "status": "ok",
     "timestamp": 1572875284097,
     "user": {
      "displayName": "Keren-Audrey Ouaknine",
      "photoUrl": "https://lh3.googleusercontent.com/a-/AAuE7mBQjOKX9Dq4HNrk47eKKKTmWpg4hZOmNe3UGntusA=s64",
      "userId": "10590988939558804557"
     },
     "user_tz": -120
    },
    "id": "hTas0dzHqgGw",
    "outputId": "e976d2ab-6d89-4bf8-a8f0-6c6e9345bf05"
   },
   "outputs": [
    {
     "data": {
      "text/plain": [
       "array([[5, 6],\n",
       "       [3, 0]])"
      ]
     },
     "execution_count": 36,
     "metadata": {
      "tags": []
     },
     "output_type": "execute_result"
    }
   ],
   "source": [
    "a[0:2, 0:2]"
   ]
  },
  {
   "cell_type": "code",
   "execution_count": 0,
   "metadata": {
    "colab": {
     "base_uri": "https://localhost:8080/"
    },
    "colab_type": "code",
    "executionInfo": {
     "elapsed": 3795,
     "status": "ok",
     "timestamp": 1572875284097,
     "user": {
      "displayName": "Keren-Audrey Ouaknine",
      "photoUrl": "https://lh3.googleusercontent.com/a-/AAuE7mBQjOKX9Dq4HNrk47eKKKTmWpg4hZOmNe3UGntusA=s64",
      "userId": "10590988939558804557"
     },
     "user_tz": -120
    },
    "id": "1OBq0IRlqgG7",
    "outputId": "80af5e69-c734-478d-b4dd-fbea8c4f67bf"
   },
   "outputs": [
    {
     "data": {
      "text/plain": [
       "array([[4, 2],\n",
       "       [5, 9]])"
      ]
     },
     "execution_count": 37,
     "metadata": {
      "tags": []
     },
     "output_type": "execute_result"
    }
   ],
   "source": [
    "a[1:3, 2:4]"
   ]
  },
  {
   "cell_type": "markdown",
   "metadata": {
    "colab_type": "text",
    "id": "LhbRoEFrqgHK"
   },
   "source": [
    "If we want to access the i'th row of `a` we can use `a[i]`. To access the i'th column we use `a[:, i]` ie go through all the rows but only take the `i` value. Can you think of another (redundant) way of accessing the i'th row? "
   ]
  },
  {
   "cell_type": "code",
   "execution_count": 0,
   "metadata": {
    "colab": {
     "base_uri": "https://localhost:8080/"
    },
    "colab_type": "code",
    "executionInfo": {
     "elapsed": 3783,
     "status": "ok",
     "timestamp": 1572875284098,
     "user": {
      "displayName": "Keren-Audrey Ouaknine",
      "photoUrl": "https://lh3.googleusercontent.com/a-/AAuE7mBQjOKX9Dq4HNrk47eKKKTmWpg4hZOmNe3UGntusA=s64",
      "userId": "10590988939558804557"
     },
     "user_tz": -120
    },
    "id": "oIkQAN-VqgHL",
    "outputId": "3247f4a9-c4c7-4598-b3f4-86e654abab6d"
   },
   "outputs": [
    {
     "data": {
      "text/plain": [
       "array([7, 3, 5, 9, 4])"
      ]
     },
     "execution_count": 38,
     "metadata": {
      "tags": []
     },
     "output_type": "execute_result"
    }
   ],
   "source": [
    "a[2, :]"
   ]
  },
  {
   "cell_type": "code",
   "execution_count": 0,
   "metadata": {
    "colab": {
     "base_uri": "https://localhost:8080/"
    },
    "colab_type": "code",
    "executionInfo": {
     "elapsed": 3772,
     "status": "ok",
     "timestamp": 1572875284099,
     "user": {
      "displayName": "Keren-Audrey Ouaknine",
      "photoUrl": "https://lh3.googleusercontent.com/a-/AAuE7mBQjOKX9Dq4HNrk47eKKKTmWpg4hZOmNe3UGntusA=s64",
      "userId": "10590988939558804557"
     },
     "user_tz": -120
    },
    "id": "0MSA9HKiqgHO",
    "outputId": "8c840e65-bc6b-4f90-9fa2-fd19e22f3b78"
   },
   "outputs": [
    {
     "data": {
      "text/plain": [
       "array([1, 2, 9, 6, 2])"
      ]
     },
     "execution_count": 39,
     "metadata": {
      "tags": []
     },
     "output_type": "execute_result"
    }
   ],
   "source": [
    "a[:, 3]"
   ]
  },
  {
   "cell_type": "markdown",
   "metadata": {
    "colab_type": "text",
    "id": "aQgtXd_pqgHS"
   },
   "source": [
    "\n",
    "**BUT**, you should be aware that the slicing (or indexing if it returns more than 1 value) returns a _view_ of the array and not a copy of it.\n",
    "> View - Think for a second of the values of the array as some kind of window in the memory, then when you use the slicing notion you get a \"peek\" to a part of the window. If you change something there you changed it internally.\n",
    "\n",
    "Everything becomes clearer with an example: [Visualizer](http://www.pythontutor.com/visualize.html#code=import%20numpy%20as%20np%0Aa%20%3D%20np.arange%2825%29.reshape%285,%205%29%0Ab%20%3D%20a%5B1%3A3,%201%3A3%5D%0Ab%5B0,%200%5D%20%3D%20-1%0Ab%5B1,%201%5D%20%3D%20-2&cumulative=false&curInstr=0&heapPrimitives=nevernest&mode=display&origin=opt-frontend.js&py=py3anaconda&rawInputLstJSON=%5B%5D&textReferences=false)"
   ]
  },
  {
   "cell_type": "code",
   "execution_count": 0,
   "metadata": {
    "colab": {
     "base_uri": "https://localhost:8080/"
    },
    "colab_type": "code",
    "executionInfo": {
     "elapsed": 4297,
     "status": "ok",
     "timestamp": 1572875284633,
     "user": {
      "displayName": "Keren-Audrey Ouaknine",
      "photoUrl": "https://lh3.googleusercontent.com/a-/AAuE7mBQjOKX9Dq4HNrk47eKKKTmWpg4hZOmNe3UGntusA=s64",
      "userId": "10590988939558804557"
     },
     "user_tz": -120
    },
    "id": "fDNKx5fyqgHT",
    "outputId": "41fc7744-592b-49ed-aaf8-ab003e1ea862"
   },
   "outputs": [
    {
     "data": {
      "text/plain": [
       "array([[5, 6, 0, 1, 6],\n",
       "       [3, 0, 4, 2, 1],\n",
       "       [7, 3, 5, 9, 4],\n",
       "       [8, 5, 7, 6, 8],\n",
       "       [2, 5, 0, 2, 3]])"
      ]
     },
     "execution_count": 40,
     "metadata": {
      "tags": []
     },
     "output_type": "execute_result"
    }
   ],
   "source": [
    "np.random.seed(26)\n",
    "\n",
    "a = np.random.randint(low=0, high=10, size=(5,5))\n",
    "a"
   ]
  },
  {
   "cell_type": "code",
   "execution_count": 0,
   "metadata": {
    "colab": {
     "base_uri": "https://localhost:8080/"
    },
    "colab_type": "code",
    "executionInfo": {
     "elapsed": 4288,
     "status": "ok",
     "timestamp": 1572875284636,
     "user": {
      "displayName": "Keren-Audrey Ouaknine",
      "photoUrl": "https://lh3.googleusercontent.com/a-/AAuE7mBQjOKX9Dq4HNrk47eKKKTmWpg4hZOmNe3UGntusA=s64",
      "userId": "10590988939558804557"
     },
     "user_tz": -120
    },
    "id": "PSQhW9FHqgHd",
    "outputId": "0c63f0d4-6cee-4602-bf3e-49c002e56501"
   },
   "outputs": [
    {
     "data": {
      "text/plain": [
       "array([[0, 4],\n",
       "       [3, 5]])"
      ]
     },
     "execution_count": 41,
     "metadata": {
      "tags": []
     },
     "output_type": "execute_result"
    }
   ],
   "source": [
    "b = a[1:3, 1:3] # Taking a 2x2 window into a\n",
    "b"
   ]
  },
  {
   "cell_type": "code",
   "execution_count": 0,
   "metadata": {
    "colab": {
     "base_uri": "https://localhost:8080/"
    },
    "colab_type": "code",
    "executionInfo": {
     "elapsed": 4275,
     "status": "ok",
     "timestamp": 1572875284637,
     "user": {
      "displayName": "Keren-Audrey Ouaknine",
      "photoUrl": "https://lh3.googleusercontent.com/a-/AAuE7mBQjOKX9Dq4HNrk47eKKKTmWpg4hZOmNe3UGntusA=s64",
      "userId": "10590988939558804557"
     },
     "user_tz": -120
    },
    "id": "fWuEiG0nqgHi",
    "outputId": "8701d795-d8cb-4dff-81ce-7cd9a1265f1c"
   },
   "outputs": [
    {
     "data": {
      "text/plain": [
       "array([[-1,  4],\n",
       "       [ 3, -2]])"
      ]
     },
     "execution_count": 42,
     "metadata": {
      "tags": []
     },
     "output_type": "execute_result"
    }
   ],
   "source": [
    "b[0, 0], b[1, 1] = -1, -2\n",
    "b"
   ]
  },
  {
   "cell_type": "code",
   "execution_count": 0,
   "metadata": {
    "colab": {
     "base_uri": "https://localhost:8080/"
    },
    "colab_type": "code",
    "executionInfo": {
     "elapsed": 4265,
     "status": "ok",
     "timestamp": 1572875284639,
     "user": {
      "displayName": "Keren-Audrey Ouaknine",
      "photoUrl": "https://lh3.googleusercontent.com/a-/AAuE7mBQjOKX9Dq4HNrk47eKKKTmWpg4hZOmNe3UGntusA=s64",
      "userId": "10590988939558804557"
     },
     "user_tz": -120
    },
    "id": "IEb3N9_8qgHp",
    "outputId": "c543f221-fc7f-4daa-e439-c9ad6e702e3a"
   },
   "outputs": [
    {
     "data": {
      "text/plain": [
       "array([[ 5,  6,  0,  1,  6],\n",
       "       [ 3, -1,  4,  2,  1],\n",
       "       [ 7,  3, -2,  9,  4],\n",
       "       [ 8,  5,  7,  6,  8],\n",
       "       [ 2,  5,  0,  2,  3]])"
      ]
     },
     "execution_count": 43,
     "metadata": {
      "tags": []
     },
     "output_type": "execute_result"
    }
   ],
   "source": [
    "a"
   ]
  },
  {
   "cell_type": "markdown",
   "metadata": {
    "colab_type": "text",
    "id": "fxBE-CqwqgHr"
   },
   "source": [
    "This is because `a[1,1]` and `b[0,0]` points to the same location in memory. So when you change one, you change the other."
   ]
  },
  {
   "cell_type": "markdown",
   "metadata": {
    "colab_type": "text",
    "id": "hwrXd93pqgHs"
   },
   "source": [
    "Remember this behavior because it works different from the way lists behave in python and so can cause confusion.  \n",
    "If you **do want a copy** and not a view of the array use `.copy()`."
   ]
  },
  {
   "cell_type": "code",
   "execution_count": 0,
   "metadata": {
    "colab": {
     "base_uri": "https://localhost:8080/"
    },
    "colab_type": "code",
    "executionInfo": {
     "elapsed": 4254,
     "status": "ok",
     "timestamp": 1572875284640,
     "user": {
      "displayName": "Keren-Audrey Ouaknine",
      "photoUrl": "https://lh3.googleusercontent.com/a-/AAuE7mBQjOKX9Dq4HNrk47eKKKTmWpg4hZOmNe3UGntusA=s64",
      "userId": "10590988939558804557"
     },
     "user_tz": -120
    },
    "id": "qCSWdAPmqgHt",
    "outputId": "71109450-ba59-4827-b44f-32bffca35a1d"
   },
   "outputs": [
    {
     "data": {
      "text/plain": [
       "array([[5, 6, 0, 1, 6],\n",
       "       [3, 0, 4, 2, 1],\n",
       "       [7, 3, 5, 9, 4],\n",
       "       [8, 5, 7, 6, 8],\n",
       "       [2, 5, 0, 2, 3]])"
      ]
     },
     "execution_count": 44,
     "metadata": {
      "tags": []
     },
     "output_type": "execute_result"
    }
   ],
   "source": [
    "np.random.seed(26)\n",
    "\n",
    "a = np.random.randint(low=0, high=10, size=(5,5))\n",
    "b = a[1:3, 1:3].copy()\n",
    "b[0,0]= -100\n",
    "a"
   ]
  },
  {
   "cell_type": "markdown",
   "metadata": {
    "colab_type": "text",
    "id": "2Pqq19fIqgHv"
   },
   "source": [
    "***\n",
    "### Exercise\n",
    "***\n",
    "__Create a 4x4 zeros matrix and save it as `Z`__"
   ]
  },
  {
   "cell_type": "code",
   "execution_count": 0,
   "metadata": {
    "colab": {},
    "colab_type": "code",
    "id": "Bx9yCvWSqgHx"
   },
   "outputs": [],
   "source": [
    "Z = None\n",
    "# Your code starts here\n",
    "# Your code ends here"
   ]
  },
  {
   "cell_type": "markdown",
   "metadata": {
    "colab_type": "text",
    "id": "TW7MvXogqgH_"
   },
   "source": [
    "__Get a view of the bottom corner of the matrix `Z` (top left corner of the print) of size 2x2 and save it as `W`.__"
   ]
  },
  {
   "cell_type": "code",
   "execution_count": 0,
   "metadata": {
    "colab": {
     "base_uri": "https://localhost:8080/"
    },
    "colab_type": "code",
    "executionInfo": {
     "elapsed": 4244,
     "status": "ok",
     "timestamp": 1572875284646,
     "user": {
      "displayName": "Keren-Audrey Ouaknine",
      "photoUrl": "https://lh3.googleusercontent.com/a-/AAuE7mBQjOKX9Dq4HNrk47eKKKTmWpg4hZOmNe3UGntusA=s64",
      "userId": "10590988939558804557"
     },
     "user_tz": -120
    },
    "id": "_Xrx1gQjqgH_",
    "outputId": "63f10d8d-f281-4b5b-e98d-909564a6c889"
   },
   "outputs": [
    {
     "data": {
      "text/plain": [
       "array([[0., 0., 0.],\n",
       "       [0., 0., 0.],\n",
       "       [0., 0., 0.]])"
      ]
     },
     "execution_count": 46,
     "metadata": {
      "tags": []
     },
     "output_type": "execute_result"
    }
   ],
   "source": [
    "W = None\n",
    "# Your code starts here\n",
    "\n",
    "# Your code ends here"
   ]
  },
  {
   "cell_type": "markdown",
   "metadata": {
    "colab_type": "text",
    "id": "QbvMGv_4qgID"
   },
   "source": [
    "__Change W to be a 2x2 matrix filled with 5 but make sure it affects Z as well__"
   ]
  },
  {
   "cell_type": "code",
   "execution_count": 0,
   "metadata": {
    "colab": {
     "base_uri": "https://localhost:8080/"
    },
    "colab_type": "code",
    "executionInfo": {
     "elapsed": 4236,
     "status": "ok",
     "timestamp": 1572875284648,
     "user": {
      "displayName": "Keren-Audrey Ouaknine",
      "photoUrl": "https://lh3.googleusercontent.com/a-/AAuE7mBQjOKX9Dq4HNrk47eKKKTmWpg4hZOmNe3UGntusA=s64",
      "userId": "10590988939558804557"
     },
     "user_tz": -120
    },
    "id": "wJh7Eo77qgIE",
    "outputId": "b81c0ab4-75eb-4694-caec-fade02c9b78d"
   },
   "outputs": [
    {
     "name": "stdout",
     "output_type": "stream",
     "text": [
      "[[5. 5. 5.]\n",
      " [5. 5. 5.]\n",
      " [5. 5. 5.]]\n"
     ]
    },
    {
     "data": {
      "text/plain": [
       "array([[5., 5., 5., 0.],\n",
       "       [5., 5., 5., 0.],\n",
       "       [5., 5., 5., 0.],\n",
       "       [0., 0., 0., 0.]])"
      ]
     },
     "execution_count": 47,
     "metadata": {
      "tags": []
     },
     "output_type": "execute_result"
    }
   ],
   "source": [
    "# Your code starts here\n",
    "\n",
    "# Your code ends here"
   ]
  },
  {
   "cell_type": "markdown",
   "metadata": {
    "colab_type": "text",
    "id": "5NBuOcnRqgIH"
   },
   "source": [
    "***\n",
    "__Create a 5x5 2d array with 1 on the border and 0 inside and save it as `Z`__\n",
    "```py\n",
    "array([[1., 1., 1., 1., 1.],\n",
    "       [1., 0., 0., 0., 1.],\n",
    "       [1., 0., 0., 0., 1.],\n",
    "       [1., 0., 0., 0., 1.],\n",
    "       [1., 1., 1., 1., 1.]])\n",
    "```"
   ]
  },
  {
   "cell_type": "code",
   "execution_count": 0,
   "metadata": {
    "colab": {
     "base_uri": "https://localhost:8080/"
    },
    "colab_type": "code",
    "executionInfo": {
     "elapsed": 4226,
     "status": "ok",
     "timestamp": 1572875284650,
     "user": {
      "displayName": "Keren-Audrey Ouaknine",
      "photoUrl": "https://lh3.googleusercontent.com/a-/AAuE7mBQjOKX9Dq4HNrk47eKKKTmWpg4hZOmNe3UGntusA=s64",
      "userId": "10590988939558804557"
     },
     "user_tz": -120
    },
    "id": "JdSTgRGvqgIH",
    "outputId": "5c10b2fe-fe64-4d3a-e3f6-b97bdb9ac90e"
   },
   "outputs": [
    {
     "data": {
      "text/plain": [
       "array([[1., 1., 1., 1., 1.],\n",
       "       [1., 0., 0., 0., 1.],\n",
       "       [1., 0., 0., 0., 1.],\n",
       "       [1., 0., 0., 0., 1.],\n",
       "       [1., 1., 1., 1., 1.]])"
      ]
     },
     "execution_count": 48,
     "metadata": {
      "tags": []
     },
     "output_type": "execute_result"
    }
   ],
   "source": [
    "# Your code starts here\n",
    "\n",
    "# Your code ends here"
   ]
  },
  {
   "cell_type": "markdown",
   "metadata": {
    "colab_type": "text",
    "id": "cuS4hCrDqgIK"
   },
   "source": [
    "__Get the first row, 3rd and 5th row of `Z`__\n",
    "```py\n",
    "array([[1., 1., 1., 1., 1.],\n",
    "       [1., 0., 0., 0., 1.],\n",
    "       [1., 1., 1., 1., 1.]])\n",
    "```"
   ]
  },
  {
   "cell_type": "code",
   "execution_count": 0,
   "metadata": {
    "colab": {
     "base_uri": "https://localhost:8080/"
    },
    "colab_type": "code",
    "executionInfo": {
     "elapsed": 4215,
     "status": "ok",
     "timestamp": 1572875284650,
     "user": {
      "displayName": "Keren-Audrey Ouaknine",
      "photoUrl": "https://lh3.googleusercontent.com/a-/AAuE7mBQjOKX9Dq4HNrk47eKKKTmWpg4hZOmNe3UGntusA=s64",
      "userId": "10590988939558804557"
     },
     "user_tz": -120
    },
    "id": "BtEu0zidqgIL",
    "outputId": "2eb78411-6592-4927-ca83-c33b16472a36"
   },
   "outputs": [
    {
     "data": {
      "text/plain": [
       "array([[1., 1., 1., 1., 1.],\n",
       "       [1., 0., 0., 0., 1.],\n",
       "       [1., 1., 1., 1., 1.]])"
      ]
     },
     "execution_count": 49,
     "metadata": {
      "tags": []
     },
     "output_type": "execute_result"
    }
   ],
   "source": [
    "# Your code starts here\n",
    "# Your code ends here"
   ]
  },
  {
   "cell_type": "markdown",
   "metadata": {
    "colab_type": "text",
    "id": "w6P6vjaHqgIN"
   },
   "source": [
    "__Get the 2nd and 4th column of `Z`__\n",
    "```py\n",
    "array([[1., 1.],\n",
    "       [0., 0.],\n",
    "       [0., 0.],\n",
    "       [0., 0.],\n",
    "       [1., 1.]])\n",
    "```"
   ]
  },
  {
   "cell_type": "code",
   "execution_count": 0,
   "metadata": {
    "colab": {},
    "colab_type": "code",
    "id": "FNRJLgxUqgIO"
   },
   "outputs": [],
   "source": [
    "# Your code starts here\n",
    "\n",
    "# Your code ends here"
   ]
  },
  {
   "cell_type": "markdown",
   "metadata": {
    "colab_type": "text",
    "id": "ZLyCDMd-qgIV"
   },
   "source": [
    "***\n",
    "Read the documentation of __np.ravel__ and __np.eye__ and create the following array:\n",
    "```py\n",
    "[1., 0., 0., 0., 1., 0., 0., 0., 1.]\n",
    "```\n"
   ]
  },
  {
   "cell_type": "code",
   "execution_count": 0,
   "metadata": {
    "colab": {
     "base_uri": "https://localhost:8080/"
    },
    "colab_type": "code",
    "executionInfo": {
     "elapsed": 4208,
     "status": "ok",
     "timestamp": 1572875284652,
     "user": {
      "displayName": "Keren-Audrey Ouaknine",
      "photoUrl": "https://lh3.googleusercontent.com/a-/AAuE7mBQjOKX9Dq4HNrk47eKKKTmWpg4hZOmNe3UGntusA=s64",
      "userId": "10590988939558804557"
     },
     "user_tz": -120
    },
    "id": "Zmj-zxpGqgIW",
    "outputId": "42d558a3-e14d-4cbd-ed4a-fb8f3053ccfa"
   },
   "outputs": [
    {
     "data": {
      "text/plain": [
       "array([1., 0., 0., 0., 1., 0., 0., 0., 1.])"
      ]
     },
     "execution_count": 51,
     "metadata": {
      "tags": []
     },
     "output_type": "execute_result"
    }
   ],
   "source": [
    "# Your code starts here\n",
    "\n",
    "# Your code ends here"
   ]
  },
  {
   "cell_type": "markdown",
   "metadata": {
    "colab_type": "text",
    "id": "8d4c2ga9qgIZ"
   },
   "source": [
    "### Array Reshaping\n",
    "If we would like, we can change the shape of the array using the reshape method."
   ]
  },
  {
   "cell_type": "code",
   "execution_count": 0,
   "metadata": {
    "colab": {
     "base_uri": "https://localhost:8080/",
     "height": 34
    },
    "colab_type": "code",
    "executionInfo": {
     "elapsed": 4200,
     "status": "ok",
     "timestamp": 1572875284653,
     "user": {
      "displayName": "Keren-Audrey Ouaknine",
      "photoUrl": "https://lh3.googleusercontent.com/a-/AAuE7mBQjOKX9Dq4HNrk47eKKKTmWpg4hZOmNe3UGntusA=s64",
      "userId": "10590988939558804557"
     },
     "user_tz": -120
    },
    "id": "3hr98lMJqgIa",
    "outputId": "e01e5da3-37da-4cb4-9e9a-83af70f7b7b5"
   },
   "outputs": [
    {
     "data": {
      "text/plain": [
       "array([0., 0., 0., 0., 0., 0., 0., 0., 0., 0.])"
      ]
     },
     "execution_count": 52,
     "metadata": {
      "tags": []
     },
     "output_type": "execute_result"
    }
   ],
   "source": [
    "g = np.zeros(10)\n",
    "g"
   ]
  },
  {
   "cell_type": "code",
   "execution_count": 0,
   "metadata": {
    "colab": {
     "base_uri": "https://localhost:8080/",
     "height": 51
    },
    "colab_type": "code",
    "executionInfo": {
     "elapsed": 4193,
     "status": "ok",
     "timestamp": 1572875284654,
     "user": {
      "displayName": "Keren-Audrey Ouaknine",
      "photoUrl": "https://lh3.googleusercontent.com/a-/AAuE7mBQjOKX9Dq4HNrk47eKKKTmWpg4hZOmNe3UGntusA=s64",
      "userId": "10590988939558804557"
     },
     "user_tz": -120
    },
    "id": "4lo0885CqgIc",
    "outputId": "86809d14-90b2-4313-b1e1-72c49b0382c2"
   },
   "outputs": [
    {
     "data": {
      "text/plain": [
       "array([[0., 0., 0., 0., 0.],\n",
       "       [0., 0., 0., 0., 0.]])"
      ]
     },
     "execution_count": 53,
     "metadata": {
      "tags": []
     },
     "output_type": "execute_result"
    }
   ],
   "source": [
    "g.reshape(2, 5)"
   ]
  },
  {
   "cell_type": "code",
   "execution_count": 0,
   "metadata": {
    "colab": {
     "base_uri": "https://localhost:8080/",
     "height": 102
    },
    "colab_type": "code",
    "executionInfo": {
     "elapsed": 4186,
     "status": "ok",
     "timestamp": 1572875284654,
     "user": {
      "displayName": "Keren-Audrey Ouaknine",
      "photoUrl": "https://lh3.googleusercontent.com/a-/AAuE7mBQjOKX9Dq4HNrk47eKKKTmWpg4hZOmNe3UGntusA=s64",
      "userId": "10590988939558804557"
     },
     "user_tz": -120
    },
    "id": "7ZESZp5IqgIf",
    "outputId": "e0f4b1c8-758f-4833-8940-744af0a11346"
   },
   "outputs": [
    {
     "data": {
      "text/plain": [
       "array([[0., 0.],\n",
       "       [0., 0.],\n",
       "       [0., 0.],\n",
       "       [0., 0.],\n",
       "       [0., 0.]])"
      ]
     },
     "execution_count": 54,
     "metadata": {
      "tags": []
     },
     "output_type": "execute_result"
    }
   ],
   "source": [
    "g.reshape(5, 2)"
   ]
  },
  {
   "cell_type": "markdown",
   "metadata": {
    "colab_type": "text",
    "id": "rHFhcp2yqgIj"
   },
   "source": [
    "In order for the reshape to work we must make sure the __size__ of the original array will match the __size__ of the reshaped array.   \n",
    "Here is a bad example:"
   ]
  },
  {
   "cell_type": "code",
   "execution_count": 0,
   "metadata": {
    "colab": {
     "base_uri": "https://localhost:8080/",
     "height": 163
    },
    "colab_type": "code",
    "executionInfo": {
     "elapsed": 4246,
     "status": "error",
     "timestamp": 1572875284722,
     "user": {
      "displayName": "Keren-Audrey Ouaknine",
      "photoUrl": "https://lh3.googleusercontent.com/a-/AAuE7mBQjOKX9Dq4HNrk47eKKKTmWpg4hZOmNe3UGntusA=s64",
      "userId": "10590988939558804557"
     },
     "user_tz": -120
    },
    "id": "Wzm2H9ymqgIk",
    "outputId": "6250ede6-a96b-4095-a4de-109dff60b427"
   },
   "outputs": [
    {
     "ename": "ValueError",
     "evalue": "ignored",
     "output_type": "error",
     "traceback": [
      "\u001b[0;31m---------------------------------------------------------------------------\u001b[0m",
      "\u001b[0;31mValueError\u001b[0m                                Traceback (most recent call last)",
      "\u001b[0;32m<ipython-input-55-9b9c9a7e0cfb>\u001b[0m in \u001b[0;36m<module>\u001b[0;34m()\u001b[0m\n\u001b[0;32m----> 1\u001b[0;31m \u001b[0mnp\u001b[0m\u001b[0;34m.\u001b[0m\u001b[0mzeros\u001b[0m\u001b[0;34m(\u001b[0m\u001b[0;36m10\u001b[0m\u001b[0;34m)\u001b[0m\u001b[0;34m.\u001b[0m\u001b[0mreshape\u001b[0m\u001b[0;34m(\u001b[0m\u001b[0;36m3\u001b[0m\u001b[0;34m,\u001b[0m \u001b[0;36m3\u001b[0m\u001b[0;34m)\u001b[0m \u001b[0;31m# Original array size is 10 but reshaped size is 9\u001b[0m\u001b[0;34m\u001b[0m\u001b[0;34m\u001b[0m\u001b[0m\n\u001b[0m",
      "\u001b[0;31mValueError\u001b[0m: cannot reshape array of size 10 into shape (3,3)"
     ]
    }
   ],
   "source": [
    "np.zeros(10).reshape(3, 3) # Original array size is 10 but reshaped size is 9"
   ]
  },
  {
   "cell_type": "markdown",
   "metadata": {
    "colab_type": "text",
    "id": "v-wR8TeCqgIn"
   },
   "source": [
    "Another way to look at it - make sure the product of the shape is equal to size."
   ]
  },
  {
   "cell_type": "code",
   "execution_count": 0,
   "metadata": {
    "colab": {
     "base_uri": "https://localhost:8080/",
     "height": 51
    },
    "colab_type": "code",
    "executionInfo": {
     "elapsed": 1617,
     "status": "ok",
     "timestamp": 1572875324790,
     "user": {
      "displayName": "Keren-Audrey Ouaknine",
      "photoUrl": "https://lh3.googleusercontent.com/a-/AAuE7mBQjOKX9Dq4HNrk47eKKKTmWpg4hZOmNe3UGntusA=s64",
      "userId": "10590988939558804557"
     },
     "user_tz": -120
    },
    "id": "UwCwVCwxqgIo",
    "outputId": "2d1baaa7-0c99-4643-b3d8-339686c8ef92"
   },
   "outputs": [
    {
     "data": {
      "text/plain": [
       "array([[1., 1., 1., 1., 1., 1., 1., 1.],\n",
       "       [1., 1., 1., 1., 1., 1., 1., 1.]])"
      ]
     },
     "execution_count": 56,
     "metadata": {
      "tags": []
     },
     "output_type": "execute_result"
    }
   ],
   "source": [
    "np.ones((4, 4)).reshape(2, 8)"
   ]
  },
  {
   "cell_type": "markdown",
   "metadata": {
    "colab_type": "text",
    "id": "gM_AWjALqgIr"
   },
   "source": [
    "#### Reshaping with np.newaxis.\n",
    "If we want to reshape an array by \"shoving\" a new dimension we can use `np.newaxis`\n",
    "This is most relevant when we want to transform a 1d vector into a 2d row/column vector\n"
   ]
  },
  {
   "cell_type": "code",
   "execution_count": 0,
   "metadata": {
    "colab": {
     "base_uri": "https://localhost:8080/"
    },
    "colab_type": "code",
    "executionInfo": {
     "elapsed": 2204,
     "status": "ok",
     "timestamp": 1572875325433,
     "user": {
      "displayName": "Keren-Audrey Ouaknine",
      "photoUrl": "https://lh3.googleusercontent.com/a-/AAuE7mBQjOKX9Dq4HNrk47eKKKTmWpg4hZOmNe3UGntusA=s64",
      "userId": "10590988939558804557"
     },
     "user_tz": -120
    },
    "id": "muo2BsI5qgIs",
    "outputId": "f0a31a84-a1f3-4417-9188-0108383f6c94"
   },
   "outputs": [
    {
     "data": {
      "text/plain": [
       "array([[1, 2, 3]])"
      ]
     },
     "execution_count": 57,
     "metadata": {
      "tags": []
     },
     "output_type": "execute_result"
    }
   ],
   "source": [
    "v = np.array([1, 2, 3]) # 1D vector\n",
    "v[np.newaxis, :] # 2d Matrix row vector"
   ]
  },
  {
   "cell_type": "code",
   "execution_count": 0,
   "metadata": {
    "colab": {
     "base_uri": "https://localhost:8080/"
    },
    "colab_type": "code",
    "executionInfo": {
     "elapsed": 2183,
     "status": "ok",
     "timestamp": 1572875325436,
     "user": {
      "displayName": "Keren-Audrey Ouaknine",
      "photoUrl": "https://lh3.googleusercontent.com/a-/AAuE7mBQjOKX9Dq4HNrk47eKKKTmWpg4hZOmNe3UGntusA=s64",
      "userId": "10590988939558804557"
     },
     "user_tz": -120
    },
    "id": "pTRAxK7mqgIw",
    "outputId": "65aaa27e-00c6-41f7-9be2-bde69a03b9b8"
   },
   "outputs": [
    {
     "data": {
      "text/plain": [
       "array([[1],\n",
       "       [2],\n",
       "       [3]])"
      ]
     },
     "execution_count": 58,
     "metadata": {
      "tags": []
     },
     "output_type": "execute_result"
    }
   ],
   "source": [
    "v[:, np.newaxis] # 2d Matrix column vector"
   ]
  },
  {
   "cell_type": "code",
   "execution_count": 0,
   "metadata": {
    "colab": {
     "base_uri": "https://localhost:8080/"
    },
    "colab_type": "code",
    "executionInfo": {
     "elapsed": 2163,
     "status": "ok",
     "timestamp": 1572875325437,
     "user": {
      "displayName": "Keren-Audrey Ouaknine",
      "photoUrl": "https://lh3.googleusercontent.com/a-/AAuE7mBQjOKX9Dq4HNrk47eKKKTmWpg4hZOmNe3UGntusA=s64",
      "userId": "10590988939558804557"
     },
     "user_tz": -120
    },
    "id": "Q5NtvjrwMNGt",
    "outputId": "15429bc8-fe99-4143-c4d8-28e3f6047b57"
   },
   "outputs": [
    {
     "name": "stdout",
     "output_type": "stream",
     "text": [
      "[0 1 2 3]\n",
      "[[0 1 2 3]]\n",
      "[[0]\n",
      " [1]\n",
      " [2]\n",
      " [3]]\n"
     ]
    }
   ],
   "source": [
    "arr = np.arange(4)\n",
    "arr.shape\n",
    "print(arr)\n",
    "row_vec = arr[np.newaxis, :]\n",
    "print(row_vec)\n",
    "column_vec = arr[:, np.newaxis]\n",
    "print(column_vec)\n"
   ]
  },
  {
   "cell_type": "markdown",
   "metadata": {
    "colab_type": "text",
    "id": "GJAmPMrKqgI1"
   },
   "source": [
    "*************\n",
    "### Exercise\n",
    "*************\n",
    "__Create a 2d array with values ranging from 0 to 24__\n",
    "```py\n",
    "array([[ 0,  1,  2,  3,  4],\n",
    "       [ 5,  6,  7,  8,  9],\n",
    "       [10, 11, 12, 13, 14],\n",
    "       [15, 16, 17, 18, 19],\n",
    "       [20, 21, 22, 23, 24]])\n",
    "```"
   ]
  },
  {
   "cell_type": "code",
   "execution_count": 0,
   "metadata": {
    "colab": {
     "base_uri": "https://localhost:8080/"
    },
    "colab_type": "code",
    "executionInfo": {
     "elapsed": 2135,
     "status": "ok",
     "timestamp": 1572875325439,
     "user": {
      "displayName": "Keren-Audrey Ouaknine",
      "photoUrl": "https://lh3.googleusercontent.com/a-/AAuE7mBQjOKX9Dq4HNrk47eKKKTmWpg4hZOmNe3UGntusA=s64",
      "userId": "10590988939558804557"
     },
     "user_tz": -120
    },
    "id": "_odcmq3vqgI2",
    "outputId": "e055bbb1-b0d0-4670-a609-9a31ec90b260"
   },
   "outputs": [
    {
     "data": {
      "text/plain": [
       "array([[ 0,  1,  2,  3,  4],\n",
       "       [ 5,  6,  7,  8,  9],\n",
       "       [10, 11, 12, 13, 14],\n",
       "       [15, 16, 17, 18, 19],\n",
       "       [20, 21, 22, 23, 24]])"
      ]
     },
     "execution_count": 60,
     "metadata": {
      "tags": []
     },
     "output_type": "execute_result"
    }
   ],
   "source": [
    "# Your code starts here\n",
    "\n",
    "# Your code ends here"
   ]
  },
  {
   "cell_type": "markdown",
   "metadata": {
    "colab_type": "text",
    "id": "if_Zt8lDqgI5"
   },
   "source": [
    "__Create a 2d array with value going from 8 down to 0__\n",
    "```py\n",
    "array([[8, 7, 6],\n",
    "       [5, 4, 3],\n",
    "       [2, 1, 0]])\n",
    "```"
   ]
  },
  {
   "cell_type": "code",
   "execution_count": 0,
   "metadata": {
    "colab": {
     "base_uri": "https://localhost:8080/"
    },
    "colab_type": "code",
    "executionInfo": {
     "elapsed": 2106,
     "status": "ok",
     "timestamp": 1572875325441,
     "user": {
      "displayName": "Keren-Audrey Ouaknine",
      "photoUrl": "https://lh3.googleusercontent.com/a-/AAuE7mBQjOKX9Dq4HNrk47eKKKTmWpg4hZOmNe3UGntusA=s64",
      "userId": "10590988939558804557"
     },
     "user_tz": -120
    },
    "id": "oiwhtNn3qgI5",
    "outputId": "8deb0101-e482-4981-b6ee-962310ab54da"
   },
   "outputs": [
    {
     "data": {
      "text/plain": [
       "array([[8, 7, 6],\n",
       "       [5, 4, 3],\n",
       "       [2, 1, 0]])"
      ]
     },
     "execution_count": 61,
     "metadata": {
      "tags": []
     },
     "output_type": "execute_result"
    }
   ],
   "source": [
    "# Your code starts here\n",
    "# Your code ends here"
   ]
  },
  {
   "cell_type": "markdown",
   "metadata": {
    "colab_type": "text",
    "id": "2Oly9dn4qgI_"
   },
   "source": [
    "### Concatenation \n",
    "There are 3 common ways in which numpy enables you to concatenate arrays:\n",
    "1. np.concatenate \n",
    "1. np.hstack\n",
    "1. np.vstack"
   ]
  },
  {
   "cell_type": "code",
   "execution_count": 0,
   "metadata": {
    "colab": {
     "base_uri": "https://localhost:8080/"
    },
    "colab_type": "code",
    "executionInfo": {
     "elapsed": 2075,
     "status": "ok",
     "timestamp": 1572875325442,
     "user": {
      "displayName": "Keren-Audrey Ouaknine",
      "photoUrl": "https://lh3.googleusercontent.com/a-/AAuE7mBQjOKX9Dq4HNrk47eKKKTmWpg4hZOmNe3UGntusA=s64",
      "userId": "10590988939558804557"
     },
     "user_tz": -120
    },
    "id": "o1q07bJIqgJA",
    "outputId": "67a29aaa-22ed-43ee-db32-dcb393cb8249"
   },
   "outputs": [
    {
     "data": {
      "text/plain": [
       "array([1., 1., 1., 1., 1., 0., 0., 0., 0., 0.])"
      ]
     },
     "execution_count": 62,
     "metadata": {
      "tags": []
     },
     "output_type": "execute_result"
    }
   ],
   "source": [
    "a = np.ones(5)\n",
    "b = np.zeros(5)\n",
    "np.concatenate([a, b]) # Notice we need to put the input into a list (tuple will work as well)."
   ]
  },
  {
   "cell_type": "code",
   "execution_count": 0,
   "metadata": {
    "colab": {
     "base_uri": "https://localhost:8080/"
    },
    "colab_type": "code",
    "executionInfo": {
     "elapsed": 2061,
     "status": "ok",
     "timestamp": 1572875325444,
     "user": {
      "displayName": "Keren-Audrey Ouaknine",
      "photoUrl": "https://lh3.googleusercontent.com/a-/AAuE7mBQjOKX9Dq4HNrk47eKKKTmWpg4hZOmNe3UGntusA=s64",
      "userId": "10590988939558804557"
     },
     "user_tz": -120
    },
    "id": "zudjYXI-qgJG",
    "outputId": "75de47df-15d3-491c-894c-486a61d506b9"
   },
   "outputs": [
    {
     "data": {
      "text/plain": [
       "array([[1., 1., 1., 1., 1.],\n",
       "       [0., 0., 0., 0., 0.],\n",
       "       [1., 1., 1., 1., 1.],\n",
       "       [0., 0., 0., 0., 0.]])"
      ]
     },
     "execution_count": 63,
     "metadata": {
      "tags": []
     },
     "output_type": "execute_result"
    }
   ],
   "source": [
    "np.vstack([a, b, a, b])"
   ]
  },
  {
   "cell_type": "code",
   "execution_count": 0,
   "metadata": {
    "colab": {
     "base_uri": "https://localhost:8080/"
    },
    "colab_type": "code",
    "executionInfo": {
     "elapsed": 2050,
     "status": "ok",
     "timestamp": 1572875325445,
     "user": {
      "displayName": "Keren-Audrey Ouaknine",
      "photoUrl": "https://lh3.googleusercontent.com/a-/AAuE7mBQjOKX9Dq4HNrk47eKKKTmWpg4hZOmNe3UGntusA=s64",
      "userId": "10590988939558804557"
     },
     "user_tz": -120
    },
    "id": "_-I35ooDqgJL",
    "outputId": "89e994f6-60db-4b7a-f961-1e8cab1bcc61"
   },
   "outputs": [
    {
     "data": {
      "text/plain": [
       "array([1., 1., 1., 1., 1., 0., 0., 0., 0., 0.])"
      ]
     },
     "execution_count": 64,
     "metadata": {
      "tags": []
     },
     "output_type": "execute_result"
    }
   ],
   "source": [
    "np.hstack([a, b])"
   ]
  },
  {
   "cell_type": "code",
   "execution_count": 0,
   "metadata": {
    "colab": {
     "base_uri": "https://localhost:8080/"
    },
    "colab_type": "code",
    "executionInfo": {
     "elapsed": 2038,
     "status": "ok",
     "timestamp": 1572875325447,
     "user": {
      "displayName": "Keren-Audrey Ouaknine",
      "photoUrl": "https://lh3.googleusercontent.com/a-/AAuE7mBQjOKX9Dq4HNrk47eKKKTmWpg4hZOmNe3UGntusA=s64",
      "userId": "10590988939558804557"
     },
     "user_tz": -120
    },
    "id": "zTfR8LmaqgJP",
    "outputId": "b72be75d-1651-472e-c347-c03147ede26b"
   },
   "outputs": [
    {
     "name": "stdout",
     "output_type": "stream",
     "text": [
      "[[0 1 2]\n",
      " [3 4 5]\n",
      " [6 7 8]]\n"
     ]
    },
    {
     "data": {
      "text/plain": [
       "array([[0, 1, 2],\n",
       "       [3, 4, 5],\n",
       "       [6, 7, 8],\n",
       "       [0, 1, 2],\n",
       "       [3, 4, 5],\n",
       "       [6, 7, 8]])"
      ]
     },
     "execution_count": 65,
     "metadata": {
      "tags": []
     },
     "output_type": "execute_result"
    }
   ],
   "source": [
    "g = np.arange(9).reshape(3, 3)\n",
    "print(g)\n",
    "np.vstack([g, g])"
   ]
  },
  {
   "cell_type": "code",
   "execution_count": 0,
   "metadata": {
    "colab": {
     "base_uri": "https://localhost:8080/"
    },
    "colab_type": "code",
    "executionInfo": {
     "elapsed": 2026,
     "status": "ok",
     "timestamp": 1572875325448,
     "user": {
      "displayName": "Keren-Audrey Ouaknine",
      "photoUrl": "https://lh3.googleusercontent.com/a-/AAuE7mBQjOKX9Dq4HNrk47eKKKTmWpg4hZOmNe3UGntusA=s64",
      "userId": "10590988939558804557"
     },
     "user_tz": -120
    },
    "id": "1ECK8bf3qgJT",
    "outputId": "6474a7b6-f614-4ac0-88b7-ff4be963b786"
   },
   "outputs": [
    {
     "data": {
      "text/plain": [
       "array([[0, 1, 2, 0, 1, 2],\n",
       "       [3, 4, 5, 3, 4, 5],\n",
       "       [6, 7, 8, 6, 7, 8]])"
      ]
     },
     "execution_count": 66,
     "metadata": {
      "tags": []
     },
     "output_type": "execute_result"
    }
   ],
   "source": [
    "np.hstack([g, g])"
   ]
  },
  {
   "cell_type": "markdown",
   "metadata": {
    "colab_type": "text",
    "id": "vFxB0y-sqgJV"
   },
   "source": [
    "### Splitting\n",
    "There are 3 common ways in which numpy enables you to split arrays:\n",
    "1. np.split \n",
    "1. np.vsplit\n",
    "1. np.hsplit"
   ]
  },
  {
   "cell_type": "code",
   "execution_count": 0,
   "metadata": {
    "colab": {
     "base_uri": "https://localhost:8080/"
    },
    "colab_type": "code",
    "executionInfo": {
     "elapsed": 2014,
     "status": "ok",
     "timestamp": 1572875325450,
     "user": {
      "displayName": "Keren-Audrey Ouaknine",
      "photoUrl": "https://lh3.googleusercontent.com/a-/AAuE7mBQjOKX9Dq4HNrk47eKKKTmWpg4hZOmNe3UGntusA=s64",
      "userId": "10590988939558804557"
     },
     "user_tz": -120
    },
    "id": "jD8aIL2bqgJX",
    "outputId": "d25b8d50-093c-4e6c-dcd1-d6bd5d4e3445"
   },
   "outputs": [
    {
     "data": {
      "text/plain": [
       "[array([0, 1]), array([2, 3, 4, 5, 6]), array([7, 8, 9])]"
      ]
     },
     "execution_count": 67,
     "metadata": {
      "tags": []
     },
     "output_type": "execute_result"
    }
   ],
   "source": [
    "a = np.arange(10)\n",
    "np.split(a, indices_or_sections=[2, 7])"
   ]
  },
  {
   "cell_type": "markdown",
   "metadata": {
    "colab_type": "text",
    "id": "BqhZuAnoqgJa"
   },
   "source": [
    "Notice we inputted 2 values both got back 3 arrays. This is because we \"asked\" to cut on the 2nd index and the 7th index. If you make 2 cuts you get 3 pieces."
   ]
  },
  {
   "cell_type": "code",
   "execution_count": 0,
   "metadata": {
    "colab": {
     "base_uri": "https://localhost:8080/"
    },
    "colab_type": "code",
    "executionInfo": {
     "elapsed": 1989,
     "status": "ok",
     "timestamp": 1572875325452,
     "user": {
      "displayName": "Keren-Audrey Ouaknine",
      "photoUrl": "https://lh3.googleusercontent.com/a-/AAuE7mBQjOKX9Dq4HNrk47eKKKTmWpg4hZOmNe3UGntusA=s64",
      "userId": "10590988939558804557"
     },
     "user_tz": -120
    },
    "id": "zHR1dE4HqgJb",
    "outputId": "ef2867b4-7bb8-4a65-b1a5-22ec892ddfcf"
   },
   "outputs": [
    {
     "data": {
      "text/plain": [
       "array([[ 0,  1,  2,  3],\n",
       "       [ 4,  5,  6,  7],\n",
       "       [ 8,  9, 10, 11],\n",
       "       [12, 13, 14, 15]])"
      ]
     },
     "execution_count": 68,
     "metadata": {
      "tags": []
     },
     "output_type": "execute_result"
    }
   ],
   "source": [
    "a = np.arange(16).reshape(4, 4)\n",
    "a"
   ]
  },
  {
   "cell_type": "code",
   "execution_count": 0,
   "metadata": {
    "colab": {
     "base_uri": "https://localhost:8080/"
    },
    "colab_type": "code",
    "executionInfo": {
     "elapsed": 1965,
     "status": "ok",
     "timestamp": 1572875325453,
     "user": {
      "displayName": "Keren-Audrey Ouaknine",
      "photoUrl": "https://lh3.googleusercontent.com/a-/AAuE7mBQjOKX9Dq4HNrk47eKKKTmWpg4hZOmNe3UGntusA=s64",
      "userId": "10590988939558804557"
     },
     "user_tz": -120
    },
    "id": "MrgU4SlBqgJg",
    "outputId": "b25bab02-b42c-4f97-c10a-809ca9fa5d0e"
   },
   "outputs": [
    {
     "data": {
      "text/plain": [
       "array([[0, 1, 2, 3],\n",
       "       [4, 5, 6, 7]])"
      ]
     },
     "execution_count": 69,
     "metadata": {
      "tags": []
     },
     "output_type": "execute_result"
    }
   ],
   "source": [
    "a_upper, a_below = np.vsplit(a, indices_or_sections=[2])\n",
    "a_upper"
   ]
  },
  {
   "cell_type": "code",
   "execution_count": 0,
   "metadata": {
    "colab": {
     "base_uri": "https://localhost:8080/"
    },
    "colab_type": "code",
    "executionInfo": {
     "elapsed": 1944,
     "status": "ok",
     "timestamp": 1572875325455,
     "user": {
      "displayName": "Keren-Audrey Ouaknine",
      "photoUrl": "https://lh3.googleusercontent.com/a-/AAuE7mBQjOKX9Dq4HNrk47eKKKTmWpg4hZOmNe3UGntusA=s64",
      "userId": "10590988939558804557"
     },
     "user_tz": -120
    },
    "id": "-vlu-htgqgJn",
    "outputId": "a34c86bf-03ac-4904-e6b4-5de44403b342"
   },
   "outputs": [
    {
     "data": {
      "text/plain": [
       "array([[0, 1, 2, 3],\n",
       "       [4, 5, 6, 7]])"
      ]
     },
     "execution_count": 70,
     "metadata": {
      "tags": []
     },
     "output_type": "execute_result"
    }
   ],
   "source": [
    "a_upper"
   ]
  },
  {
   "cell_type": "code",
   "execution_count": 0,
   "metadata": {
    "colab": {
     "base_uri": "https://localhost:8080/"
    },
    "colab_type": "code",
    "executionInfo": {
     "elapsed": 1925,
     "status": "ok",
     "timestamp": 1572875325456,
     "user": {
      "displayName": "Keren-Audrey Ouaknine",
      "photoUrl": "https://lh3.googleusercontent.com/a-/AAuE7mBQjOKX9Dq4HNrk47eKKKTmWpg4hZOmNe3UGntusA=s64",
      "userId": "10590988939558804557"
     },
     "user_tz": -120
    },
    "id": "MnR0IEf-qgJr",
    "outputId": "bbb88502-40b6-48de-8ed2-5e186d39cb51"
   },
   "outputs": [
    {
     "data": {
      "text/plain": [
       "array([[ 8,  9, 10, 11],\n",
       "       [12, 13, 14, 15]])"
      ]
     },
     "execution_count": 71,
     "metadata": {
      "tags": []
     },
     "output_type": "execute_result"
    }
   ],
   "source": [
    "a_below"
   ]
  },
  {
   "cell_type": "code",
   "execution_count": 0,
   "metadata": {
    "colab": {},
    "colab_type": "code",
    "id": "csEB3KamqgJx"
   },
   "outputs": [],
   "source": [
    "a_left, a_right = np.hsplit(a, indices_or_sections=[3])"
   ]
  },
  {
   "cell_type": "code",
   "execution_count": 0,
   "metadata": {
    "colab": {
     "base_uri": "https://localhost:8080/"
    },
    "colab_type": "code",
    "executionInfo": {
     "elapsed": 1885,
     "status": "ok",
     "timestamp": 1572875325460,
     "user": {
      "displayName": "Keren-Audrey Ouaknine",
      "photoUrl": "https://lh3.googleusercontent.com/a-/AAuE7mBQjOKX9Dq4HNrk47eKKKTmWpg4hZOmNe3UGntusA=s64",
      "userId": "10590988939558804557"
     },
     "user_tz": -120
    },
    "id": "6bH3BgGzqgJ1",
    "outputId": "f32d7a27-8939-4884-a69c-9b839aced2d0"
   },
   "outputs": [
    {
     "data": {
      "text/plain": [
       "array([[ 0,  1,  2],\n",
       "       [ 4,  5,  6],\n",
       "       [ 8,  9, 10],\n",
       "       [12, 13, 14]])"
      ]
     },
     "execution_count": 73,
     "metadata": {
      "tags": []
     },
     "output_type": "execute_result"
    }
   ],
   "source": [
    "a_left"
   ]
  },
  {
   "cell_type": "code",
   "execution_count": 0,
   "metadata": {
    "colab": {
     "base_uri": "https://localhost:8080/"
    },
    "colab_type": "code",
    "executionInfo": {
     "elapsed": 1867,
     "status": "ok",
     "timestamp": 1572875325465,
     "user": {
      "displayName": "Keren-Audrey Ouaknine",
      "photoUrl": "https://lh3.googleusercontent.com/a-/AAuE7mBQjOKX9Dq4HNrk47eKKKTmWpg4hZOmNe3UGntusA=s64",
      "userId": "10590988939558804557"
     },
     "user_tz": -120
    },
    "id": "w5ZB21KOqgJ3",
    "outputId": "e6f277db-55e5-4657-a3a9-64d5d96f24cc"
   },
   "outputs": [
    {
     "data": {
      "text/plain": [
       "array([[ 3],\n",
       "       [ 7],\n",
       "       [11],\n",
       "       [15]])"
      ]
     },
     "execution_count": 74,
     "metadata": {
      "tags": []
     },
     "output_type": "execute_result"
    }
   ],
   "source": [
    "a_right"
   ]
  },
  {
   "cell_type": "markdown",
   "metadata": {
    "colab_type": "text",
    "id": "MW9RHgCPqgJ6"
   },
   "source": [
    "# Numpy Universal Functions\n",
    "***\n",
    "Ok, so we have built arrays with a single type? How do we put that to good use?  \n",
    "The answer is the numpy __universal function (ufuncs)__ which allows fast computation by leveraging the use of vectorized code.  \n",
    "As we've mentioned above, one of the reason looping over a long list and performing many operations is slow, is because the interpreter needs to check the type of the element on each iteration.  \n",
    "Here is an example"
   ]
  },
  {
   "cell_type": "code",
   "execution_count": 0,
   "metadata": {
    "colab": {},
    "colab_type": "code",
    "id": "kKzFmh1_qgJ7"
   },
   "outputs": [],
   "source": [
    "def compute_square(values):\n",
    "    output = np.empty(len(values))\n",
    "    for i, val in enumerate(values):\n",
    "        output[i] = val ** 2\n",
    "    \n",
    "    return output\n",
    "\n",
    "values_small = np.arange(5)\n",
    "# compute_square(values)"
   ]
  },
  {
   "cell_type": "markdown",
   "metadata": {
    "colab_type": "text",
    "id": "wgu1coCmqgJ_"
   },
   "source": [
    "Let's try timing this on a very large array"
   ]
  },
  {
   "cell_type": "code",
   "execution_count": 0,
   "metadata": {
    "colab": {
     "base_uri": "https://localhost:8080/",
     "height": 34
    },
    "colab_type": "code",
    "executionInfo": {
     "elapsed": 12063,
     "status": "ok",
     "timestamp": 1572875335713,
     "user": {
      "displayName": "Keren-Audrey Ouaknine",
      "photoUrl": "https://lh3.googleusercontent.com/a-/AAuE7mBQjOKX9Dq4HNrk47eKKKTmWpg4hZOmNe3UGntusA=s64",
      "userId": "10590988939558804557"
     },
     "user_tz": -120
    },
    "id": "wzNOA7MvqgKA",
    "outputId": "49979609-2872-498f-8ae4-6aa6138a3ebb"
   },
   "outputs": [
    {
     "name": "stdout",
     "output_type": "stream",
     "text": [
      "1 loop, best of 3: 2.39 s per loop\n"
     ]
    }
   ],
   "source": [
    "values_big = np.arange(5_000_000)\n",
    "%timeit compute_square(values_big)"
   ]
  },
  {
   "cell_type": "markdown",
   "metadata": {
    "colab_type": "text",
    "id": "NwNDwCc4qgKD"
   },
   "source": [
    "This will be machine dependent, but as we can see this takes around ~2 seconds"
   ]
  },
  {
   "cell_type": "markdown",
   "metadata": {
    "colab_type": "text",
    "id": "4ZN69JyZqgKE"
   },
   "source": [
    "###  UFuncs to the rescue.\n",
    "Numpy exposes an easy interface for many operations allowing us to perform statically typed (no need to type check) compiled routine. Basically, enabling us to perform element wise operations on the array. We call this operations vectorized operation."
   ]
  },
  {
   "cell_type": "code",
   "execution_count": 0,
   "metadata": {
    "colab": {
     "base_uri": "https://localhost:8080/"
    },
    "colab_type": "code",
    "executionInfo": {
     "elapsed": 12048,
     "status": "ok",
     "timestamp": 1572875335715,
     "user": {
      "displayName": "Keren-Audrey Ouaknine",
      "photoUrl": "https://lh3.googleusercontent.com/a-/AAuE7mBQjOKX9Dq4HNrk47eKKKTmWpg4hZOmNe3UGntusA=s64",
      "userId": "10590988939558804557"
     },
     "user_tz": -120
    },
    "id": "t7CCuRjmqgKL",
    "outputId": "6c4ef4cf-da73-46ff-f0df-bc41249b2daa"
   },
   "outputs": [
    {
     "data": {
      "text/plain": [
       "array([ 0,  1,  4,  9, 16])"
      ]
     },
     "execution_count": 77,
     "metadata": {
      "tags": []
     },
     "output_type": "execute_result"
    }
   ],
   "source": [
    "values_small ** 2"
   ]
  },
  {
   "cell_type": "markdown",
   "metadata": {
    "colab_type": "text",
    "id": "0cBRd8pIqgKQ"
   },
   "source": [
    "And let's see how much time this takes on our large array"
   ]
  },
  {
   "cell_type": "code",
   "execution_count": 0,
   "metadata": {
    "colab": {
     "base_uri": "https://localhost:8080/"
    },
    "colab_type": "code",
    "executionInfo": {
     "elapsed": 16003,
     "status": "ok",
     "timestamp": 1572875339687,
     "user": {
      "displayName": "Keren-Audrey Ouaknine",
      "photoUrl": "https://lh3.googleusercontent.com/a-/AAuE7mBQjOKX9Dq4HNrk47eKKKTmWpg4hZOmNe3UGntusA=s64",
      "userId": "10590988939558804557"
     },
     "user_tz": -120
    },
    "id": "PYLn3AaUqgKR",
    "outputId": "dd4010ba-d575-43ea-eda3-38fb119fe96e"
   },
   "outputs": [
    {
     "name": "stdout",
     "output_type": "stream",
     "text": [
      "100 loops, best of 3: 9.48 ms per loop\n"
     ]
    }
   ],
   "source": [
    "%timeit (values_big ** 2)"
   ]
  },
  {
   "cell_type": "markdown",
   "metadata": {
    "colab_type": "text",
    "id": "xU5pxfPwqgKX"
   },
   "source": [
    "<img src=\"https://media2.giphy.com/media/3o7btNa0RUYa5E7iiQ/source.gif\" alt=\"Alt text that describes the graphic\" title=\"Title text\" width=\"200\" height=\"200\"/>"
   ]
  },
  {
   "cell_type": "markdown",
   "metadata": {
    "colab_type": "text",
    "id": "74MwziElqgKa"
   },
   "source": [
    "This vectorized operations are implemented via ufuncs. If you remember how classes work in python, then you can guess how `values_big**2` actually calls a ufunc and not python power operation (HINT - Magic).  \n",
    "\n",
    "Ok, so we just saw we can perform an operation quickly between our array an a scalar but, we can also perform an operation between 2 numpy arrays"
   ]
  },
  {
   "cell_type": "code",
   "execution_count": 0,
   "metadata": {
    "colab": {
     "base_uri": "https://localhost:8080/"
    },
    "colab_type": "code",
    "executionInfo": {
     "elapsed": 15985,
     "status": "ok",
     "timestamp": 1572875339688,
     "user": {
      "displayName": "Keren-Audrey Ouaknine",
      "photoUrl": "https://lh3.googleusercontent.com/a-/AAuE7mBQjOKX9Dq4HNrk47eKKKTmWpg4hZOmNe3UGntusA=s64",
      "userId": "10590988939558804557"
     },
     "user_tz": -120
    },
    "id": "scYM8dDjqgKb",
    "outputId": "272d2144-9d93-4241-e188-865b55a00b58"
   },
   "outputs": [
    {
     "data": {
      "text/plain": [
       "array([ 3.,  4.,  5.,  6.,  7.,  8.,  9., 10., 11., 12.])"
      ]
     },
     "execution_count": 79,
     "metadata": {
      "tags": []
     },
     "output_type": "execute_result"
    }
   ],
   "source": [
    "a = np.arange(10)\n",
    "b = np.ones(10) * 3 # Vectorized operation between an array and a scalar\n",
    "a + b # Vectorized operation between 2 arrays."
   ]
  },
  {
   "cell_type": "markdown",
   "metadata": {
    "colab_type": "text",
    "id": "XiGcHK1TqgKg"
   },
   "source": [
    "So ufuncs operates on numpy arrays in a element by element fashion, and the reason it is much faster than using python loops is because ufuncs are implemented in compiled C language.   \n",
    "It's worth noting - Not only is the operation much faster, it is also much easier to read. (just look at the square example).   \n",
    "One last thing - ufunc usually return a new array and do not change the original array."
   ]
  },
  {
   "cell_type": "markdown",
   "metadata": {
    "colab_type": "text",
    "id": "3lHgCo1pqgKg"
   },
   "source": [
    "### ufunc universe\n",
    "There is a vast number of ufunc available for you to use, but let's start with some of the basics:\n",
    "* All of python arithmetic operations.\n",
    "* All of python boolean bitwise operations (will discuss next week)\n",
    "* Trigonometric Functions which you can use using np.cos(array), np.sin(array)\n",
    "* Exponents and logarithms np.exp(array), np.log(array)\n",
    "\n",
    "And you can probably guess the ufuncs works not only on 1d arrays.\n",
    "Let's explore:"
   ]
  },
  {
   "cell_type": "markdown",
   "metadata": {
    "colab_type": "text",
    "id": "AZ6EsM1RqgKh"
   },
   "source": [
    "#### Arithmetic"
   ]
  },
  {
   "cell_type": "code",
   "execution_count": 0,
   "metadata": {
    "colab": {
     "base_uri": "https://localhost:8080/"
    },
    "colab_type": "code",
    "executionInfo": {
     "elapsed": 15967,
     "status": "ok",
     "timestamp": 1572875339689,
     "user": {
      "displayName": "Keren-Audrey Ouaknine",
      "photoUrl": "https://lh3.googleusercontent.com/a-/AAuE7mBQjOKX9Dq4HNrk47eKKKTmWpg4hZOmNe3UGntusA=s64",
      "userId": "10590988939558804557"
     },
     "user_tz": -120
    },
    "id": "L3D17eJyqgKi",
    "outputId": "0baf072c-00ce-4495-c575-e1794d89daa0"
   },
   "outputs": [
    {
     "data": {
      "text/plain": [
       "array([[0.11111111, 0.11111111, 0.11111111],\n",
       "       [0.11111111, 0.11111111, 0.11111111],\n",
       "       [0.11111111, 0.11111111, 0.11111111]])"
      ]
     },
     "execution_count": 80,
     "metadata": {
      "tags": []
     },
     "output_type": "execute_result"
    }
   ],
   "source": [
    "np.ones((3,3)) / 9"
   ]
  },
  {
   "cell_type": "code",
   "execution_count": 0,
   "metadata": {
    "colab": {
     "base_uri": "https://localhost:8080/"
    },
    "colab_type": "code",
    "executionInfo": {
     "elapsed": 15947,
     "status": "ok",
     "timestamp": 1572875339690,
     "user": {
      "displayName": "Keren-Audrey Ouaknine",
      "photoUrl": "https://lh3.googleusercontent.com/a-/AAuE7mBQjOKX9Dq4HNrk47eKKKTmWpg4hZOmNe3UGntusA=s64",
      "userId": "10590988939558804557"
     },
     "user_tz": -120
    },
    "id": "_h_dreJjqgKk",
    "outputId": "e03bd2ee-2728-4283-dd65-b6d458afd4f3"
   },
   "outputs": [
    {
     "data": {
      "text/plain": [
       "array([[2., 2., 2.],\n",
       "       [2., 2., 2.],\n",
       "       [2., 2., 2.]])"
      ]
     },
     "execution_count": 81,
     "metadata": {
      "tags": []
     },
     "output_type": "execute_result"
    }
   ],
   "source": [
    "np.ones((3, 3)) * 2 "
   ]
  },
  {
   "cell_type": "code",
   "execution_count": 0,
   "metadata": {
    "colab": {
     "base_uri": "https://localhost:8080/"
    },
    "colab_type": "code",
    "executionInfo": {
     "elapsed": 15931,
     "status": "ok",
     "timestamp": 1572875339692,
     "user": {
      "displayName": "Keren-Audrey Ouaknine",
      "photoUrl": "https://lh3.googleusercontent.com/a-/AAuE7mBQjOKX9Dq4HNrk47eKKKTmWpg4hZOmNe3UGntusA=s64",
      "userId": "10590988939558804557"
     },
     "user_tz": -120
    },
    "id": "7e42Zr6YqgKq",
    "outputId": "78b4d793-f35c-4d44-f852-4c373c37e810"
   },
   "outputs": [
    {
     "data": {
      "text/plain": [
       "array([[5., 4., 4.],\n",
       "       [4., 5., 4.],\n",
       "       [4., 4., 5.]])"
      ]
     },
     "execution_count": 82,
     "metadata": {
      "tags": []
     },
     "output_type": "execute_result"
    }
   ],
   "source": [
    "np.ones((3, 3)) * 4 + np.eye(3)"
   ]
  },
  {
   "cell_type": "code",
   "execution_count": 0,
   "metadata": {
    "colab": {
     "base_uri": "https://localhost:8080/"
    },
    "colab_type": "code",
    "executionInfo": {
     "elapsed": 15912,
     "status": "ok",
     "timestamp": 1572875339693,
     "user": {
      "displayName": "Keren-Audrey Ouaknine",
      "photoUrl": "https://lh3.googleusercontent.com/a-/AAuE7mBQjOKX9Dq4HNrk47eKKKTmWpg4hZOmNe3UGntusA=s64",
      "userId": "10590988939558804557"
     },
     "user_tz": -120
    },
    "id": "wqyjHGa_qgKw",
    "outputId": "daf4668d-012b-40de-b55a-54d8ae741c73"
   },
   "outputs": [
    {
     "data": {
      "text/plain": [
       "array([[0., 1., 1.],\n",
       "       [1., 0., 1.],\n",
       "       [1., 1., 0.]])"
      ]
     },
     "execution_count": 83,
     "metadata": {
      "tags": []
     },
     "output_type": "execute_result"
    }
   ],
   "source": [
    "np.ones((3,3)) - np.eye(3)"
   ]
  },
  {
   "cell_type": "code",
   "execution_count": 0,
   "metadata": {
    "colab": {
     "base_uri": "https://localhost:8080/"
    },
    "colab_type": "code",
    "executionInfo": {
     "elapsed": 15898,
     "status": "ok",
     "timestamp": 1572875339694,
     "user": {
      "displayName": "Keren-Audrey Ouaknine",
      "photoUrl": "https://lh3.googleusercontent.com/a-/AAuE7mBQjOKX9Dq4HNrk47eKKKTmWpg4hZOmNe3UGntusA=s64",
      "userId": "10590988939558804557"
     },
     "user_tz": -120
    },
    "id": "VbBq-e9FqgKz",
    "outputId": "cab84116-ba36-49a8-9c04-ab3a7938c6c6"
   },
   "outputs": [
    {
     "data": {
      "text/plain": [
       "array([[0., 1., 2.],\n",
       "       [3., 2., 5.],\n",
       "       [6., 7., 4.]])"
      ]
     },
     "execution_count": 84,
     "metadata": {
      "tags": []
     },
     "output_type": "execute_result"
    }
   ],
   "source": [
    "np.arange(9).reshape(3, 3) * (np.ones((3,3)) - (np.eye(3)*1/2))"
   ]
  },
  {
   "cell_type": "markdown",
   "metadata": {
    "colab_type": "text",
    "id": "t1LNwzCjqgK2"
   },
   "source": [
    "#### Trigo"
   ]
  },
  {
   "cell_type": "code",
   "execution_count": 0,
   "metadata": {
    "colab": {
     "base_uri": "https://localhost:8080/"
    },
    "colab_type": "code",
    "executionInfo": {
     "elapsed": 15889,
     "status": "ok",
     "timestamp": 1572875339695,
     "user": {
      "displayName": "Keren-Audrey Ouaknine",
      "photoUrl": "https://lh3.googleusercontent.com/a-/AAuE7mBQjOKX9Dq4HNrk47eKKKTmWpg4hZOmNe3UGntusA=s64",
      "userId": "10590988939558804557"
     },
     "user_tz": -120
    },
    "id": "AGupVVlFqgK2",
    "outputId": "a025f5b0-d341-4f66-bc50-cdc1a9c76739"
   },
   "outputs": [
    {
     "name": "stdout",
     "output_type": "stream",
     "text": [
      "[0.         0.01750191 0.03500382 0.05250573 0.07000764 0.08750954\n",
      " 0.10501145 0.12251336 0.14001527 0.15751718 0.17501909 0.192521\n",
      " 0.21002291 0.22752482 0.24502673 0.26252863 0.28003054 0.29753245\n",
      " 0.31503436 0.33253627 0.35003818 0.36754009 0.385042   0.40254391\n",
      " 0.42004581 0.43754772 0.45504963 0.47255154 0.49005345 0.50755536\n",
      " 0.52505727 0.54255918 0.56006109 0.57756299 0.5950649  0.61256681\n",
      " 0.63006872 0.64757063 0.66507254 0.68257445 0.70007636 0.71757827\n",
      " 0.73508018 0.75258208 0.77008399 0.7875859  0.80508781 0.82258972\n",
      " 0.84009163 0.85759354 0.87509545 0.89259736 0.91009926 0.92760117\n",
      " 0.94510308 0.96260499 0.9801069  0.99760881 1.01511072 1.03261263\n",
      " 1.05011454 1.06761644 1.08511835 1.10262026 1.12012217 1.13762408\n",
      " 1.15512599 1.1726279  1.19012981 1.20763172 1.22513363 1.24263553\n",
      " 1.26013744 1.27763935 1.29514126 1.31264317 1.33014508 1.34764699\n",
      " 1.3651489  1.38265081 1.40015271 1.41765462 1.43515653 1.45265844\n",
      " 1.47016035 1.48766226 1.50516417 1.52266608 1.54016799 1.5576699\n",
      " 1.5751718  1.59267371 1.61017562 1.62767753 1.64517944 1.66268135\n",
      " 1.68018326 1.69768517 1.71518708 1.73268898 1.75019089 1.7676928\n",
      " 1.78519471 1.80269662 1.82019853 1.83770044 1.85520235 1.87270426\n",
      " 1.89020616 1.90770807 1.92520998 1.94271189 1.9602138  1.97771571\n",
      " 1.99521762 2.01271953 2.03022144 2.04772335 2.06522525 2.08272716\n",
      " 2.10022907 2.11773098 2.13523289 2.1527348  2.17023671 2.18773862\n",
      " 2.20524053 2.22274243 2.24024434 2.25774625 2.27524816 2.29275007\n",
      " 2.31025198 2.32775389 2.3452558  2.36275771 2.38025961 2.39776152\n",
      " 2.41526343 2.43276534 2.45026725 2.46776916 2.48527107 2.50277298\n",
      " 2.52027489 2.5377768  2.5552787  2.57278061 2.59028252 2.60778443\n",
      " 2.62528634 2.64278825 2.66029016 2.67779207 2.69529398 2.71279588\n",
      " 2.73029779 2.7477997  2.76530161 2.78280352 2.80030543 2.81780734\n",
      " 2.83530925 2.85281116 2.87031307 2.88781497 2.90531688 2.92281879\n",
      " 2.9403207  2.95782261 2.97532452 2.99282643 3.01032834 3.02783025\n",
      " 3.04533215 3.06283406 3.08033597 3.09783788 3.11533979 3.1328417\n",
      " 3.15034361 3.16784552 3.18534743 3.20284933 3.22035124 3.23785315\n",
      " 3.25535506 3.27285697 3.29035888 3.30786079 3.3253627  3.34286461\n",
      " 3.36036652 3.37786842 3.39537033 3.41287224 3.43037415 3.44787606\n",
      " 3.46537797 3.48287988 3.50038179 3.5178837  3.5353856  3.55288751\n",
      " 3.57038942 3.58789133 3.60539324 3.62289515 3.64039706 3.65789897\n",
      " 3.67540088 3.69290278 3.71040469 3.7279066  3.74540851 3.76291042\n",
      " 3.78041233 3.79791424 3.81541615 3.83291806 3.85041997 3.86792187\n",
      " 3.88542378 3.90292569 3.9204276  3.93792951 3.95543142 3.97293333\n",
      " 3.99043524 4.00793715 4.02543905 4.04294096 4.06044287 4.07794478\n",
      " 4.09544669 4.1129486  4.13045051 4.14795242 4.16545433 4.18295624\n",
      " 4.20045814 4.21796005 4.23546196 4.25296387 4.27046578 4.28796769\n",
      " 4.3054696  4.32297151 4.34047342 4.35797532 4.37547723 4.39297914\n",
      " 4.41048105 4.42798296 4.44548487 4.46298678 4.48048869 4.4979906\n",
      " 4.5154925  4.53299441 4.55049632 4.56799823 4.58550014 4.60300205\n",
      " 4.62050396 4.63800587 4.65550778 4.67300969 4.69051159 4.7080135\n",
      " 4.72551541 4.74301732 4.76051923 4.77802114 4.79552305 4.81302496\n",
      " 4.83052687 4.84802877 4.86553068 4.88303259 4.9005345  4.91803641\n",
      " 4.93553832 4.95304023 4.97054214 4.98804405 5.00554596 5.02304786\n",
      " 5.04054977 5.05805168 5.07555359 5.0930555  5.11055741 5.12805932\n",
      " 5.14556123 5.16306314 5.18056504 5.19806695 5.21556886 5.23307077\n",
      " 5.25057268 5.26807459 5.2855765  5.30307841 5.32058032 5.33808222\n",
      " 5.35558413 5.37308604 5.39058795 5.40808986 5.42559177 5.44309368\n",
      " 5.46059559 5.4780975  5.49559941 5.51310131 5.53060322 5.54810513\n",
      " 5.56560704 5.58310895 5.60061086 5.61811277 5.63561468 5.65311659\n",
      " 5.67061849 5.6881204  5.70562231 5.72312422 5.74062613 5.75812804\n",
      " 5.77562995 5.79313186 5.81063377 5.82813567 5.84563758 5.86313949\n",
      " 5.8806414  5.89814331 5.91564522 5.93314713 5.95064904 5.96815095\n",
      " 5.98565286 6.00315476 6.02065667 6.03815858 6.05566049 6.0731624\n",
      " 6.09066431 6.10816622 6.12566813 6.14317004 6.16067194 6.17817385\n",
      " 6.19567576 6.21317767 6.23067958 6.24818149 6.2656834  6.28318531]\n"
     ]
    },
    {
     "data": {
      "text/plain": [
       "[<matplotlib.lines.Line2D at 0x7fcea1160208>]"
      ]
     },
     "execution_count": 85,
     "metadata": {
      "tags": []
     },
     "output_type": "execute_result"
    },
    {
     "data": {
      "image/png": "[encoded data removed]",
      "text/plain": [
       "<Figure size 432x288 with 1 Axes>"
      ]
     },
     "metadata": {
      "tags": []
     },
     "output_type": "display_data"
    }
   ],
   "source": [
    "a = np.linspace(0, 2 * np.pi, 360)\n",
    "print(a)\n",
    "\n",
    "import matplotlib.pyplot as plt \n",
    "plt.plot(a, np.cos(a))"
   ]
  },
  {
   "cell_type": "code",
   "execution_count": 0,
   "metadata": {
    "colab": {
     "base_uri": "https://localhost:8080/"
    },
    "colab_type": "code",
    "executionInfo": {
     "elapsed": 17039,
     "status": "ok",
     "timestamp": 1572875340854,
     "user": {
      "displayName": "Keren-Audrey Ouaknine",
      "photoUrl": "https://lh3.googleusercontent.com/a-/AAuE7mBQjOKX9Dq4HNrk47eKKKTmWpg4hZOmNe3UGntusA=s64",
      "userId": "10590988939558804557"
     },
     "user_tz": -120
    },
    "id": "YSgLPOSxqgK6",
    "outputId": "ceac63f0-f7fd-4f1a-e59c-211d0dc00a96"
   },
   "outputs": [
    {
     "data": {
      "text/plain": [
       "(array([0.        , 0.01750191, 0.03500382, 0.05250573, 0.07000764]),\n",
       " array([1.        , 0.99984685, 0.99938743, 0.99862189, 0.99755047]))"
      ]
     },
     "execution_count": 86,
     "metadata": {
      "tags": []
     },
     "output_type": "execute_result"
    }
   ],
   "source": [
    "a[:5], np.cos(a)[:5] # first 5 x values and 5 cos(x) values"
   ]
  },
  {
   "cell_type": "markdown",
   "metadata": {
    "colab_type": "text",
    "id": "BtvXFk5rqgK_"
   },
   "source": [
    "#### Exponent and log"
   ]
  },
  {
   "cell_type": "code",
   "execution_count": 0,
   "metadata": {
    "colab": {
     "base_uri": "https://localhost:8080/"
    },
    "colab_type": "code",
    "executionInfo": {
     "elapsed": 17032,
     "status": "ok",
     "timestamp": 1572875340856,
     "user": {
      "displayName": "Keren-Audrey Ouaknine",
      "photoUrl": "https://lh3.googleusercontent.com/a-/AAuE7mBQjOKX9Dq4HNrk47eKKKTmWpg4hZOmNe3UGntusA=s64",
      "userId": "10590988939558804557"
     },
     "user_tz": -120
    },
    "id": "JsmXYJGKqgLA",
    "outputId": "bf8b8e20-de5e-412b-f1cd-c18003d4988d"
   },
   "outputs": [
    {
     "data": {
      "text/plain": [
       "[<matplotlib.lines.Line2D at 0x7fcea0c276a0>]"
      ]
     },
     "execution_count": 87,
     "metadata": {
      "tags": []
     },
     "output_type": "execute_result"
    },
    {
     "data": {
      "image/png": "[encoded data removed]",
      "text/plain": [
       "<Figure size 432x288 with 1 Axes>"
      ]
     },
     "metadata": {
      "tags": []
     },
     "output_type": "display_data"
    }
   ],
   "source": [
    "a = np.arange(0, 7, 0.1)\n",
    "\n",
    "import matplotlib.pyplot as plt\n",
    "plt.plot(a, np.exp(a))"
   ]
  },
  {
   "cell_type": "code",
   "execution_count": 0,
   "metadata": {
    "colab": {
     "base_uri": "https://localhost:8080/"
    },
    "colab_type": "code",
    "executionInfo": {
     "elapsed": 17025,
     "status": "ok",
     "timestamp": 1572875340858,
     "user": {
      "displayName": "Keren-Audrey Ouaknine",
      "photoUrl": "https://lh3.googleusercontent.com/a-/AAuE7mBQjOKX9Dq4HNrk47eKKKTmWpg4hZOmNe3UGntusA=s64",
      "userId": "10590988939558804557"
     },
     "user_tz": -120
    },
    "id": "1x8nDKNsqgLD",
    "outputId": "e11d0b35-9690-4935-9422-3035f0896f27"
   },
   "outputs": [
    {
     "data": {
      "text/plain": [
       "[<matplotlib.lines.Line2D at 0x7fcea0c135c0>]"
      ]
     },
     "execution_count": 88,
     "metadata": {
      "tags": []
     },
     "output_type": "execute_result"
    },
    {
     "data": {
      "image/png": "[encoded data removed]",
      "text/plain": [
       "<Figure size 432x288 with 1 Axes>"
      ]
     },
     "metadata": {
      "tags": []
     },
     "output_type": "display_data"
    }
   ],
   "source": [
    "a = np.arange(1, 1_000_000)\n",
    "\n",
    "import matplotlib.pyplot as plt\n",
    "plt.plot(a, np.log(a))"
   ]
  },
  {
   "cell_type": "markdown",
   "metadata": {
    "colab_type": "text",
    "id": "uvJ-629iqgLF"
   },
   "source": [
    "***\n",
    "## Exercise\n",
    "***\n",
    "Only use vectorized code to solve the following exercises."
   ]
  },
  {
   "cell_type": "code",
   "execution_count": 0,
   "metadata": {
    "colab": {
     "base_uri": "https://localhost:8080/",
     "height": 34
    },
    "colab_type": "code",
    "executionInfo": {
     "elapsed": 17017,
     "status": "ok",
     "timestamp": 1572875340859,
     "user": {
      "displayName": "Keren-Audrey Ouaknine",
      "photoUrl": "https://lh3.googleusercontent.com/a-/AAuE7mBQjOKX9Dq4HNrk47eKKKTmWpg4hZOmNe3UGntusA=s64",
      "userId": "10590988939558804557"
     },
     "user_tz": -120
    },
    "id": "Nus-0eaxqgLG",
    "outputId": "8ce42445-bb39-49da-afef-22e2456dee64"
   },
   "outputs": [
    {
     "data": {
      "text/plain": [
       "array([0, 1, 2, 3, 4, 5, 6, 7, 8, 9])"
      ]
     },
     "execution_count": 89,
     "metadata": {
      "tags": []
     },
     "output_type": "execute_result"
    }
   ],
   "source": [
    "a = np.arange(10)\n",
    "a"
   ]
  },
  {
   "cell_type": "markdown",
   "metadata": {
    "colab_type": "text",
    "id": "PbqltQYjqgLK"
   },
   "source": [
    "__Add 3 to each value in `a` (Don't change `a`)__\n",
    "```py\n",
    "array([ 3,  4,  5,  6,  7,  8,  9, 10, 11, 12])\n",
    "```"
   ]
  },
  {
   "cell_type": "code",
   "execution_count": 0,
   "metadata": {
    "colab": {
     "base_uri": "https://localhost:8080/",
     "height": 34
    },
    "colab_type": "code",
    "executionInfo": {
     "elapsed": 17010,
     "status": "ok",
     "timestamp": 1572875340861,
     "user": {
      "displayName": "Keren-Audrey Ouaknine",
      "photoUrl": "https://lh3.googleusercontent.com/a-/AAuE7mBQjOKX9Dq4HNrk47eKKKTmWpg4hZOmNe3UGntusA=s64",
      "userId": "10590988939558804557"
     },
     "user_tz": -120
    },
    "id": "L-ySBAbUqgLK",
    "outputId": "998967d8-067e-4b36-dbce-e1778f3c218f"
   },
   "outputs": [
    {
     "data": {
      "text/plain": [
       "array([ 3,  4,  5,  6,  7,  8,  9, 10, 11, 12])"
      ]
     },
     "execution_count": 90,
     "metadata": {
      "tags": []
     },
     "output_type": "execute_result"
    }
   ],
   "source": [
    "# Your code starts here\n",
    "\n",
    "# Your code ends here"
   ]
  },
  {
   "cell_type": "markdown",
   "metadata": {
    "colab_type": "text",
    "id": "Bxn5ev6cqgLN"
   },
   "source": [
    "__subtract 5 from each value of `a` and then multiply each value by `5`__\n",
    "```py\n",
    "array([-25, -20, -15, -10,  -5,   0,   5,  10,  15,  20])\n",
    "```"
   ]
  },
  {
   "cell_type": "code",
   "execution_count": 0,
   "metadata": {
    "colab": {
     "base_uri": "https://localhost:8080/",
     "height": 34
    },
    "colab_type": "code",
    "executionInfo": {
     "elapsed": 16987,
     "status": "ok",
     "timestamp": 1572875340862,
     "user": {
      "displayName": "Keren-Audrey Ouaknine",
      "photoUrl": "https://lh3.googleusercontent.com/a-/AAuE7mBQjOKX9Dq4HNrk47eKKKTmWpg4hZOmNe3UGntusA=s64",
      "userId": "10590988939558804557"
     },
     "user_tz": -120
    },
    "id": "EkOt6So_qgLO",
    "outputId": "ed43aa7b-3e72-4065-9f55-b9212c8a00d2"
   },
   "outputs": [
    {
     "data": {
      "text/plain": [
       "array([-25, -20, -15, -10,  -5,   0,   5,  10,  15,  20])"
      ]
     },
     "execution_count": 91,
     "metadata": {
      "tags": []
     },
     "output_type": "execute_result"
    }
   ],
   "source": [
    "# Your code starts here\n",
    "\n",
    "# Your code ends here"
   ]
  },
  {
   "cell_type": "markdown",
   "metadata": {
    "colab_type": "text",
    "id": "OEzAuhhrqgLQ"
   },
   "source": [
    "__Multiply the even positioned values of `a` by `10`__\n",
    "```py\n",
    "array([ 0, 20, 40, 60, 80])\n",
    "```"
   ]
  },
  {
   "cell_type": "code",
   "execution_count": 0,
   "metadata": {
    "colab": {
     "base_uri": "https://localhost:8080/",
     "height": 34
    },
    "colab_type": "code",
    "executionInfo": {
     "elapsed": 16980,
     "status": "ok",
     "timestamp": 1572875340864,
     "user": {
      "displayName": "Keren-Audrey Ouaknine",
      "photoUrl": "https://lh3.googleusercontent.com/a-/AAuE7mBQjOKX9Dq4HNrk47eKKKTmWpg4hZOmNe3UGntusA=s64",
      "userId": "10590988939558804557"
     },
     "user_tz": -120
    },
    "id": "xqPYnQaJqgLQ",
    "outputId": "4b8ef5de-2404-47c4-be76-ce6845f5c7ea"
   },
   "outputs": [
    {
     "data": {
      "text/plain": [
       "array([ 0, 20, 40, 60, 80])"
      ]
     },
     "execution_count": 92,
     "metadata": {
      "tags": []
     },
     "output_type": "execute_result"
    }
   ],
   "source": [
    "# Your code starts here\n",
    "# Your code ends here"
   ]
  },
  {
   "cell_type": "markdown",
   "metadata": {
    "colab_type": "text",
    "id": "Kxerz_KoqgLT"
   },
   "source": [
    "***\n",
    "__Create a 5x5 matrix filled with 10's except the diagonal which should be 5's__\n",
    "```py\n",
    "array([[ 5., 10., 10., 10., 10.],\n",
    "       [10.,  5., 10., 10., 10.],\n",
    "       [10., 10.,  5., 10., 10.],\n",
    "       [10., 10., 10.,  5., 10.],\n",
    "       [10., 10., 10., 10.,  5.]])\n",
    "```"
   ]
  },
  {
   "cell_type": "code",
   "execution_count": 0,
   "metadata": {
    "colab": {
     "base_uri": "https://localhost:8080/",
     "height": 102
    },
    "colab_type": "code",
    "executionInfo": {
     "elapsed": 16968,
     "status": "ok",
     "timestamp": 1572875340864,
     "user": {
      "displayName": "Keren-Audrey Ouaknine",
      "photoUrl": "https://lh3.googleusercontent.com/a-/AAuE7mBQjOKX9Dq4HNrk47eKKKTmWpg4hZOmNe3UGntusA=s64",
      "userId": "10590988939558804557"
     },
     "user_tz": -120
    },
    "id": "YjCsssKUqgLU",
    "outputId": "ee8c4ded-9492-424e-e207-8b8b08eb0d4c"
   },
   "outputs": [
    {
     "data": {
      "text/plain": [
       "array([[ 5., 10., 10., 10., 10.],\n",
       "       [10.,  5., 10., 10., 10.],\n",
       "       [10., 10.,  5., 10., 10.],\n",
       "       [10., 10., 10.,  5., 10.],\n",
       "       [10., 10., 10., 10.,  5.]])"
      ]
     },
     "execution_count": 93,
     "metadata": {
      "tags": []
     },
     "output_type": "execute_result"
    }
   ],
   "source": [
    "# Your code starts here\n",
    "\n",
    "\n",
    "# Your code ends here"
   ]
  },
  {
   "cell_type": "markdown",
   "metadata": {
    "colab_type": "text",
    "id": "b05zWXgOqgLa"
   },
   "source": [
    "***\n",
    "__Create an array with the inverse ($1/x$) of the even numbers lower than or equal to 100.__"
   ]
  },
  {
   "cell_type": "code",
   "execution_count": 0,
   "metadata": {
    "colab": {
     "base_uri": "https://localhost:8080/",
     "height": 187
    },
    "colab_type": "code",
    "executionInfo": {
     "elapsed": 17510,
     "status": "ok",
     "timestamp": 1572875341440,
     "user": {
      "displayName": "Keren-Audrey Ouaknine",
      "photoUrl": "https://lh3.googleusercontent.com/a-/AAuE7mBQjOKX9Dq4HNrk47eKKKTmWpg4hZOmNe3UGntusA=s64",
      "userId": "10590988939558804557"
     },
     "user_tz": -120
    },
    "id": "BS8cWGtmqgLb",
    "outputId": "76c3c4b0-20a4-4e00-a914-11224f590d40"
   },
   "outputs": [
    {
     "data": {
      "text/plain": [
       "array([0.5       , 0.25      , 0.16666667, 0.125     , 0.1       ,\n",
       "       0.08333333, 0.07142857, 0.0625    , 0.05555556, 0.05      ,\n",
       "       0.04545455, 0.04166667, 0.03846154, 0.03571429, 0.03333333,\n",
       "       0.03125   , 0.02941176, 0.02777778, 0.02631579, 0.025     ,\n",
       "       0.02380952, 0.02272727, 0.02173913, 0.02083333, 0.02      ,\n",
       "       0.01923077, 0.01851852, 0.01785714, 0.01724138, 0.01666667,\n",
       "       0.01612903, 0.015625  , 0.01515152, 0.01470588, 0.01428571,\n",
       "       0.01388889, 0.01351351, 0.01315789, 0.01282051, 0.0125    ,\n",
       "       0.01219512, 0.01190476, 0.01162791, 0.01136364, 0.01111111,\n",
       "       0.01086957, 0.0106383 , 0.01041667, 0.01020408, 0.01      ])"
      ]
     },
     "execution_count": 96,
     "metadata": {
      "tags": []
     },
     "output_type": "execute_result"
    }
   ],
   "source": [
    "# Your code starts here\n",
    "# Your code ends here"
   ]
  },
  {
   "cell_type": "markdown",
   "metadata": {
    "colab_type": "text",
    "id": "kBo1NcI0qgLd"
   },
   "source": [
    "# References\n",
    "\n",
    "- [Python Data Science Handbook](https://jakevdp.github.io/PythonDataScienceHandbook/) A thorough tour into Numpy. \n",
    "\n",
    "- [Yoav Ram Numpy Notebook](https://github.com/yoavram/SciComPy/blob/master/notebooks/numpy.ipynb) If you want to skim through most topics in Numpy.\n"
   ]
  }
 ],
 "metadata": {
  "colab": {
   "name": "Numpy I.ipynb",
   "provenance": []
  },
  "kernelspec": {
   "display_name": "Python 3",
   "language": "python",
   "name": "python3"
  },
  "language_info": {
   "codemirror_mode": {
    "name": "ipython",
    "version": 3
   },
   "file_extension": ".py",
   "mimetype": "text/x-python",
   "name": "python",
   "nbconvert_exporter": "python",
   "pygments_lexer": "ipython3",
   "version": "3.6.9"
  },
  "varInspector": {
   "cols": {
    "lenName": 16,
    "lenType": 16,
    "lenVar": 40
   },
   "kernels_config": {
    "python": {
     "delete_cmd_postfix": "",
     "delete_cmd_prefix": "del ",
     "library": "var_list.py",
     "varRefreshCmd": "print(var_dic_list())"
    },
    "r": {
     "delete_cmd_postfix": ") ",
     "delete_cmd_prefix": "rm(",
     "library": "var_list.r",
     "varRefreshCmd": "cat(var_dic_list()) "
    }
   },
   "types_to_exclude": [
    "module",
    "function",
    "builtin_function_or_method",
    "instance",
    "_Feature"
   ],
   "window_display": false
  }
 },
 "nbformat": 4,
 "nbformat_minor": 1
}
