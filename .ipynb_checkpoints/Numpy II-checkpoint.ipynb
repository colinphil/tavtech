{
 "cells": [
  {
   "cell_type": "markdown",
   "metadata": {
    "colab_type": "text",
    "id": "awyp83QTlpla"
   },
   "source": [
    "# Numerical Python: NumPy II\n"
   ]
  },
  {
   "cell_type": "markdown",
   "metadata": {
    "colab_type": "text",
    "id": "c2_my3YZlpld"
   },
   "source": [
    "[NumPy](http://www.numpy.org/) \n",
    "\n",
    "# [![Numpy logo](https://numfocus.org/wp-content/uploads/2016/07/numpy-logo-300.png)](https://matplotlib.org/gallery/mplot3d/voxels_numpy_logo.html)"
   ]
  },
  {
   "cell_type": "markdown",
   "metadata": {
    "colab_type": "text",
    "id": "9LjWZyMglplf"
   },
   "source": [
    "\n",
    "---\n",
    "\n",
    "In this notebook, we are going to explore some more advanced capabilities of numpy :\n",
    "1. __Aggregation__\n",
    "1. __Broadcasting__\n",
    "1. __fancy indexing and boolean indexing__\n",
    "\n",
    "First thing first, let's import numpy"
   ]
  },
  {
   "cell_type": "code",
   "execution_count": 1,
   "metadata": {
    "colab": {},
    "colab_type": "code",
    "id": "hA2puCABlplg"
   },
   "outputs": [],
   "source": [
    "import numpy as np\n",
    "# This will make sure float print come out nicely\n",
    "np.set_printoptions(precision=2)\n",
    "np.set_printoptions(suppress=True)"
   ]
  },
  {
   "cell_type": "markdown",
   "metadata": {
    "colab_type": "text",
    "id": "6nu1IbItlplj"
   },
   "source": [
    "*** \n",
    "# Numpy aggregation"
   ]
  },
  {
   "cell_type": "markdown",
   "metadata": {
    "colab_type": "text",
    "id": "kJ9d8pZ_lplk"
   },
   "source": [
    "In most data science application we start exploring the data by querying different statistics.   \n",
    "Numpy allows us to do that quickly by using aggregation functions (you aggregate information as you iterate over the array), which summarize the values in an array.\n",
    "Some of the most common aggregation are : \n",
    "```py\n",
    "sum, mean, std, var, min, max.   \n",
    "```\n",
    "To view the entire aggregation list visit : [Numpy aggregation](https://jakevdp.github.io/PythonDataScienceHandbook/02.04-computation-on-arrays-aggregates.html) (There is a table in the middle of the notebook)   \n",
    "Here are some examples:"
   ]
  },
  {
   "cell_type": "code",
   "execution_count": 0,
   "metadata": {
    "colab": {
     "base_uri": "https://localhost:8080/",
     "height": 34
    },
    "colab_type": "code",
    "executionInfo": {
     "elapsed": 2472,
     "status": "ok",
     "timestamp": 1575266344410,
     "user": {
      "displayName": "Keren-Audrey Ouaknine",
      "photoUrl": "https://lh3.googleusercontent.com/a-/AAuE7mBQjOKX9Dq4HNrk47eKKKTmWpg4hZOmNe3UGntusA=s64",
      "userId": "10590988939558804557"
     },
     "user_tz": -120
    },
    "id": "rtj50C6Rlplm",
    "outputId": "a65cf376-6f29-49fa-829b-2286b1d65258"
   },
   "outputs": [
    {
     "data": {
      "text/plain": [
       "array([17, 13, 10, 16, 12, 12, 14, 19, 12, 18])"
      ]
     },
     "execution_count": 3,
     "metadata": {
      "tags": []
     },
     "output_type": "execute_result"
    }
   ],
   "source": [
    "np.random.seed(1101)\n",
    "a = np.random.randint(10, 20, size=10)\n",
    "a"
   ]
  },
  {
   "cell_type": "code",
   "execution_count": 0,
   "metadata": {
    "colab": {
     "base_uri": "https://localhost:8080/",
     "height": 34
    },
    "colab_type": "code",
    "executionInfo": {
     "elapsed": 2459,
     "status": "ok",
     "timestamp": 1575266344411,
     "user": {
      "displayName": "Keren-Audrey Ouaknine",
      "photoUrl": "https://lh3.googleusercontent.com/a-/AAuE7mBQjOKX9Dq4HNrk47eKKKTmWpg4hZOmNe3UGntusA=s64",
      "userId": "10590988939558804557"
     },
     "user_tz": -120
    },
    "id": "XXpFKv3Elplq",
    "outputId": "acfe6cc9-a31a-414a-e732-4dea933d5e52"
   },
   "outputs": [
    {
     "data": {
      "text/plain": [
       "(10, 19)"
      ]
     },
     "execution_count": 4,
     "metadata": {
      "tags": []
     },
     "output_type": "execute_result"
    }
   ],
   "source": [
    "a.min(), a.max()"
   ]
  },
  {
   "cell_type": "code",
   "execution_count": 0,
   "metadata": {
    "colab": {
     "base_uri": "https://localhost:8080/",
     "height": 34
    },
    "colab_type": "code",
    "executionInfo": {
     "elapsed": 2449,
     "status": "ok",
     "timestamp": 1575266344414,
     "user": {
      "displayName": "Keren-Audrey Ouaknine",
      "photoUrl": "https://lh3.googleusercontent.com/a-/AAuE7mBQjOKX9Dq4HNrk47eKKKTmWpg4hZOmNe3UGntusA=s64",
      "userId": "10590988939558804557"
     },
     "user_tz": -120
    },
    "id": "3rDN7YTilplt",
    "outputId": "5d341425-5295-4b1b-bb4a-e61df6951b26"
   },
   "outputs": [
    {
     "data": {
      "text/plain": [
       "(14.3, 2.8653097563788803)"
      ]
     },
     "execution_count": 5,
     "metadata": {
      "tags": []
     },
     "output_type": "execute_result"
    }
   ],
   "source": [
    "a.mean(), a.std()"
   ]
  },
  {
   "cell_type": "code",
   "execution_count": 0,
   "metadata": {
    "colab": {
     "base_uri": "https://localhost:8080/",
     "height": 34
    },
    "colab_type": "code",
    "executionInfo": {
     "elapsed": 2435,
     "status": "ok",
     "timestamp": 1575266344415,
     "user": {
      "displayName": "Keren-Audrey Ouaknine",
      "photoUrl": "https://lh3.googleusercontent.com/a-/AAuE7mBQjOKX9Dq4HNrk47eKKKTmWpg4hZOmNe3UGntusA=s64",
      "userId": "10590988939558804557"
     },
     "user_tz": -120
    },
    "id": "kp3ckKQGlplw",
    "outputId": "3f9cca3e-136b-4191-8144-a7117f96cc69"
   },
   "outputs": [
    {
     "data": {
      "text/plain": [
       "2"
      ]
     },
     "execution_count": 6,
     "metadata": {
      "tags": []
     },
     "output_type": "execute_result"
    }
   ],
   "source": [
    "a.argmin()"
   ]
  },
  {
   "cell_type": "markdown",
   "metadata": {
    "colab_type": "text",
    "id": "UjCzCoQwlplz"
   },
   "source": [
    "### Aggregation over multi dimensional arrays\n",
    "As the title suggests we can aggregate over many dimensions, and summarize a statistics over an entire matrix for example:"
   ]
  },
  {
   "cell_type": "code",
   "execution_count": 0,
   "metadata": {
    "colab": {
     "base_uri": "https://localhost:8080/",
     "height": 119
    },
    "colab_type": "code",
    "executionInfo": {
     "elapsed": 2421,
     "status": "ok",
     "timestamp": 1575266344416,
     "user": {
      "displayName": "Keren-Audrey Ouaknine",
      "photoUrl": "https://lh3.googleusercontent.com/a-/AAuE7mBQjOKX9Dq4HNrk47eKKKTmWpg4hZOmNe3UGntusA=s64",
      "userId": "10590988939558804557"
     },
     "user_tz": -120
    },
    "id": "DEwTFG7ulplz",
    "outputId": "ef9de0ad-baf2-4278-d6d7-5da690731297"
   },
   "outputs": [
    {
     "name": "stdout",
     "output_type": "stream",
     "text": [
      "[[0.06 0.77 0.6  0.   0.02]\n",
      " [0.64 0.88 0.19 0.17 0.97]\n",
      " [0.51 0.41 0.63 0.86 0.88]\n",
      " [0.07 0.99 0.96 0.29 0.97]\n",
      " [0.14 0.22 0.01 0.03 0.35]]\n"
     ]
    },
    {
     "data": {
      "text/plain": [
       "(0.9864428536989202, 0.002058768169282521, 0.4654134111236042)"
      ]
     },
     "execution_count": 7,
     "metadata": {
      "tags": []
     },
     "output_type": "execute_result"
    }
   ],
   "source": [
    "M = np.random.rand(5, 5)\n",
    "print(M)\n",
    "M.max(), M.min(), M.mean()"
   ]
  },
  {
   "cell_type": "markdown",
   "metadata": {
    "colab_type": "text",
    "id": "29O-DH-9lpl3"
   },
   "source": [
    "But, in many cases you are not interested in statistics of the entire matrix but one of the axis of it, say the columns for example. All you have to do for that is just specify the axis upon which you wish to aggregate.\n",
    "\n",
    "<img src=\"http://www.elimhk.com/myblog/wp-content/uploads/2017/04/axis.png\" width=\"\">\n",
    "\n",
    "To remember what would be the output shape of an aggregation over an axis, I like to think about collapsing that axis. So if you have an array with shape (10, 3) and you aggregate over axis 0, you'll end up with (1, 3), since you \"collapsed\" the 0 axis."
   ]
  },
  {
   "cell_type": "code",
   "execution_count": 0,
   "metadata": {
    "colab": {
     "base_uri": "https://localhost:8080/",
     "height": 51
    },
    "colab_type": "code",
    "executionInfo": {
     "elapsed": 2405,
     "status": "ok",
     "timestamp": 1575266344416,
     "user": {
      "displayName": "Keren-Audrey Ouaknine",
      "photoUrl": "https://lh3.googleusercontent.com/a-/AAuE7mBQjOKX9Dq4HNrk47eKKKTmWpg4hZOmNe3UGntusA=s64",
      "userId": "10590988939558804557"
     },
     "user_tz": -120
    },
    "id": "zg1snf0Jlpl4",
    "outputId": "c4befb7c-2f9e-40e4-abc5-3cc0883ebb0d"
   },
   "outputs": [
    {
     "data": {
      "text/plain": [
       "(array([[0, 1, 2, 3, 4],\n",
       "        [5, 6, 7, 8, 9]]), 45)"
      ]
     },
     "execution_count": 8,
     "metadata": {
      "tags": []
     },
     "output_type": "execute_result"
    }
   ],
   "source": [
    "a = np.arange(10).reshape(2, 5)\n",
    "a, a.sum()"
   ]
  },
  {
   "cell_type": "code",
   "execution_count": 0,
   "metadata": {
    "colab": {
     "base_uri": "https://localhost:8080/",
     "height": 34
    },
    "colab_type": "code",
    "executionInfo": {
     "elapsed": 2391,
     "status": "ok",
     "timestamp": 1575266344417,
     "user": {
      "displayName": "Keren-Audrey Ouaknine",
      "photoUrl": "https://lh3.googleusercontent.com/a-/AAuE7mBQjOKX9Dq4HNrk47eKKKTmWpg4hZOmNe3UGntusA=s64",
      "userId": "10590988939558804557"
     },
     "user_tz": -120
    },
    "id": "xoIugB5Xlpl7",
    "outputId": "250f3fa0-18a9-4357-86e5-36e03bd6369b"
   },
   "outputs": [
    {
     "data": {
      "text/plain": [
       "array([ 5,  7,  9, 11, 13])"
      ]
     },
     "execution_count": 9,
     "metadata": {
      "tags": []
     },
     "output_type": "execute_result"
    }
   ],
   "source": [
    "a.sum(axis=0) # How many values are we expecting to get?"
   ]
  },
  {
   "cell_type": "code",
   "execution_count": 0,
   "metadata": {
    "colab": {
     "base_uri": "https://localhost:8080/",
     "height": 34
    },
    "colab_type": "code",
    "executionInfo": {
     "elapsed": 2374,
     "status": "ok",
     "timestamp": 1575266344418,
     "user": {
      "displayName": "Keren-Audrey Ouaknine",
      "photoUrl": "https://lh3.googleusercontent.com/a-/AAuE7mBQjOKX9Dq4HNrk47eKKKTmWpg4hZOmNe3UGntusA=s64",
      "userId": "10590988939558804557"
     },
     "user_tz": -120
    },
    "id": "TOy3fIkQlpl-",
    "outputId": "b0d675a0-433d-4093-a636-f29aac6cc688"
   },
   "outputs": [
    {
     "data": {
      "text/plain": [
       "array([10, 35])"
      ]
     },
     "execution_count": 10,
     "metadata": {
      "tags": []
     },
     "output_type": "execute_result"
    }
   ],
   "source": [
    "a.sum(axis=1) # How many values are we expecting to get?"
   ]
  },
  {
   "cell_type": "code",
   "execution_count": 0,
   "metadata": {
    "colab": {
     "base_uri": "https://localhost:8080/",
     "height": 187
    },
    "colab_type": "code",
    "executionInfo": {
     "elapsed": 2359,
     "status": "ok",
     "timestamp": 1575266344418,
     "user": {
      "displayName": "Keren-Audrey Ouaknine",
      "photoUrl": "https://lh3.googleusercontent.com/a-/AAuE7mBQjOKX9Dq4HNrk47eKKKTmWpg4hZOmNe3UGntusA=s64",
      "userId": "10590988939558804557"
     },
     "user_tz": -120
    },
    "id": "kS3yYaZulpmB",
    "outputId": "8ea8a02c-e8ff-4cef-8f68-a12ef0ff02a5"
   },
   "outputs": [
    {
     "data": {
      "text/plain": [
       "array([[ 6, 13],\n",
       "       [15, 75],\n",
       "       [33,  4],\n",
       "       [63, 42],\n",
       "       [57, 51],\n",
       "       [16,  5],\n",
       "       [62, 85],\n",
       "       [22, 64],\n",
       "       [52, 53],\n",
       "       [72, 48]])"
      ]
     },
     "execution_count": 11,
     "metadata": {
      "tags": []
     },
     "output_type": "execute_result"
    }
   ],
   "source": [
    "np.random.seed(109)\n",
    "a = np.random.randint(low=0, high=100, size=(10, 2))\n",
    "a"
   ]
  },
  {
   "cell_type": "code",
   "execution_count": 0,
   "metadata": {
    "colab": {
     "base_uri": "https://localhost:8080/",
     "height": 34
    },
    "colab_type": "code",
    "executionInfo": {
     "elapsed": 2344,
     "status": "ok",
     "timestamp": 1575266344419,
     "user": {
      "displayName": "Keren-Audrey Ouaknine",
      "photoUrl": "https://lh3.googleusercontent.com/a-/AAuE7mBQjOKX9Dq4HNrk47eKKKTmWpg4hZOmNe3UGntusA=s64",
      "userId": "10590988939558804557"
     },
     "user_tz": -120
    },
    "id": "CxXC_CtnlpmE",
    "outputId": "3b24ee70-eafe-4367-b838-0ac92d320312"
   },
   "outputs": [
    {
     "data": {
      "text/plain": [
       "array([39.8, 44. ])"
      ]
     },
     "execution_count": 12,
     "metadata": {
      "tags": []
     },
     "output_type": "execute_result"
    }
   ],
   "source": [
    "a.mean(axis=0)"
   ]
  },
  {
   "cell_type": "markdown",
   "metadata": {
    "colab_type": "text",
    "id": "uD1BV_w6lpmH"
   },
   "source": [
    "***\n",
    "## Exercise\n",
    "***"
   ]
  },
  {
   "cell_type": "code",
   "execution_count": 0,
   "metadata": {
    "colab": {
     "base_uri": "https://localhost:8080/",
     "height": 527
    },
    "colab_type": "code",
    "executionInfo": {
     "elapsed": 2330,
     "status": "ok",
     "timestamp": 1575266344420,
     "user": {
      "displayName": "Keren-Audrey Ouaknine",
      "photoUrl": "https://lh3.googleusercontent.com/a-/AAuE7mBQjOKX9Dq4HNrk47eKKKTmWpg4hZOmNe3UGntusA=s64",
      "userId": "10590988939558804557"
     },
     "user_tz": -120
    },
    "id": "3xcJ5L9tlpmI",
    "outputId": "82ba1d7a-a519-40f9-cb42-5fa6870ce8c3"
   },
   "outputs": [
    {
     "name": "stdout",
     "output_type": "stream",
     "text": [
      "[[28 37 17 12]\n",
      " [34 24 22 20]\n",
      " [11 14  8 38]\n",
      " [12 46 22  8]\n",
      " [41 42 12 30]\n",
      " [14 12  4 13]\n",
      " [40  9  9 23]\n",
      " [18  0 36  8]\n",
      " [ 5 21 17 45]\n",
      " [32 45 11 31]\n",
      " [29 21 44 45]\n",
      " [34 24  0 23]\n",
      " [29 47 25  0]\n",
      " [40 11 47 33]\n",
      " [41  2  9 39]\n",
      " [40 11 38  7]\n",
      " [ 9 13 17 14]\n",
      " [27 22  2 35]\n",
      " [21 42 23 37]\n",
      " [10 41  7 35]\n",
      " [13  5 33 32]\n",
      " [48 30 14 43]\n",
      " [48 20 29 43]\n",
      " [13 10 21  6]\n",
      " [30 29  8  3]\n",
      " [ 0  2 25 23]\n",
      " [ 5 38 39 11]\n",
      " [21 37 22 15]\n",
      " [30 25 26 34]\n",
      " [44 24  0 28]]\n"
     ]
    }
   ],
   "source": [
    "np.random.seed(1111)\n",
    "X = np.random.randint(low=0, high=50, size=(30, 4))\n",
    "print(X)"
   ]
  },
  {
   "cell_type": "markdown",
   "metadata": {
    "colab_type": "text",
    "id": "DpulXsbXlpmL"
   },
   "source": [
    "__Get the mean values of each column in X__"
   ]
  },
  {
   "cell_type": "code",
   "execution_count": 0,
   "metadata": {
    "colab": {
     "base_uri": "https://localhost:8080/",
     "height": 34
    },
    "colab_type": "code",
    "executionInfo": {
     "elapsed": 2319,
     "status": "ok",
     "timestamp": 1575266344421,
     "user": {
      "displayName": "Keren-Audrey Ouaknine",
      "photoUrl": "https://lh3.googleusercontent.com/a-/AAuE7mBQjOKX9Dq4HNrk47eKKKTmWpg4hZOmNe3UGntusA=s64",
      "userId": "10590988939558804557"
     },
     "user_tz": -120
    },
    "id": "fUsi39milpmM",
    "outputId": "5aa8a857-8cd6-4032-c178-d08fd4a7e2ac"
   },
   "outputs": [
    {
     "data": {
      "text/plain": [
       "array([25.57, 23.47, 19.57, 24.47])"
      ]
     },
     "execution_count": 14,
     "metadata": {
      "tags": []
     },
     "output_type": "execute_result"
    }
   ],
   "source": [
    "# Your code here\n"
   ]
  },
  {
   "cell_type": "markdown",
   "metadata": {
    "colab_type": "text",
    "id": "-YvA2CNflpmP"
   },
   "source": [
    "__Get the max value of each row in X__"
   ]
  },
  {
   "cell_type": "code",
   "execution_count": 0,
   "metadata": {
    "colab": {
     "base_uri": "https://localhost:8080/",
     "height": 51
    },
    "colab_type": "code",
    "executionInfo": {
     "elapsed": 2306,
     "status": "ok",
     "timestamp": 1575266344422,
     "user": {
      "displayName": "Keren-Audrey Ouaknine",
      "photoUrl": "https://lh3.googleusercontent.com/a-/AAuE7mBQjOKX9Dq4HNrk47eKKKTmWpg4hZOmNe3UGntusA=s64",
      "userId": "10590988939558804557"
     },
     "user_tz": -120
    },
    "id": "aKiu77TUlpmQ",
    "outputId": "1b19b0b0-2d8d-4dfc-be49-dfe84baba950"
   },
   "outputs": [
    {
     "data": {
      "text/plain": [
       "array([37, 34, 38, 46, 42, 14, 40, 36, 45, 45, 45, 34, 47, 47, 41, 40, 17,\n",
       "       35, 42, 41, 33, 48, 48, 21, 30, 25, 39, 37, 34, 44])"
      ]
     },
     "execution_count": 15,
     "metadata": {
      "tags": []
     },
     "output_type": "execute_result"
    }
   ],
   "source": [
    "# Your code here\n"
   ]
  },
  {
   "cell_type": "markdown",
   "metadata": {
    "colab_type": "text",
    "id": "ByCBGx0ulpmT"
   },
   "source": [
    "__Get the median value of all the values of X__"
   ]
  },
  {
   "cell_type": "code",
   "execution_count": 0,
   "metadata": {
    "colab": {
     "base_uri": "https://localhost:8080/",
     "height": 34
    },
    "colab_type": "code",
    "executionInfo": {
     "elapsed": 2295,
     "status": "ok",
     "timestamp": 1575266344423,
     "user": {
      "displayName": "Keren-Audrey Ouaknine",
      "photoUrl": "https://lh3.googleusercontent.com/a-/AAuE7mBQjOKX9Dq4HNrk47eKKKTmWpg4hZOmNe3UGntusA=s64",
      "userId": "10590988939558804557"
     },
     "user_tz": -120
    },
    "id": "sOABMqKAlpmU",
    "outputId": "af4a54ed-1c72-469b-ac0a-d4a199dd5f09"
   },
   "outputs": [
    {
     "name": "stdout",
     "output_type": "stream",
     "text": [
      "<module 'numpy' from '/usr/local/lib/python3.6/dist-packages/numpy/__init__.py'>\n"
     ]
    }
   ],
   "source": [
    "# Your code here\n"
   ]
  },
  {
   "cell_type": "markdown",
   "metadata": {
    "colab_type": "text",
    "id": "dE1ddHGLlpmY"
   },
   "source": [
    "__Get the variance of each column of X plus the variance of each row of Y.__"
   ]
  },
  {
   "cell_type": "code",
   "execution_count": 0,
   "metadata": {
    "colab": {
     "base_uri": "https://localhost:8080/",
     "height": 595
    },
    "colab_type": "code",
    "executionInfo": {
     "elapsed": 2283,
     "status": "ok",
     "timestamp": 1575266344424,
     "user": {
      "displayName": "Keren-Audrey Ouaknine",
      "photoUrl": "https://lh3.googleusercontent.com/a-/AAuE7mBQjOKX9Dq4HNrk47eKKKTmWpg4hZOmNe3UGntusA=s64",
      "userId": "10590988939558804557"
     },
     "user_tz": -120
    },
    "id": "elFf2asFlpmZ",
    "outputId": "cea1be44-2689-4b76-dbf3-a1b4ab708896"
   },
   "outputs": [
    {
     "name": "stdout",
     "output_type": "stream",
     "text": [
      "[[33 17 41  6 24 40 32 36 25  0 28 24 16 17  6 16 28 18 36  2]\n",
      " [15 25 41  5 35 21  2 20 27 40 19 42 40  1 45 12 17 44 19 22]\n",
      " [45 16 34 22  6 29 36 25  7 26 40 19 24 13 16 17 36 17  8 10]\n",
      " [10 23 36 14 30 28 29  0 35 46 25 46  2  0 38 12 26 16 33 26]]\n",
      "[[28 37 17 12]\n",
      " [34 24 22 20]\n",
      " [11 14  8 38]\n",
      " [12 46 22  8]\n",
      " [41 42 12 30]\n",
      " [14 12  4 13]\n",
      " [40  9  9 23]\n",
      " [18  0 36  8]\n",
      " [ 5 21 17 45]\n",
      " [32 45 11 31]\n",
      " [29 21 44 45]\n",
      " [34 24  0 23]\n",
      " [29 47 25  0]\n",
      " [40 11 47 33]\n",
      " [41  2  9 39]\n",
      " [40 11 38  7]\n",
      " [ 9 13 17 14]\n",
      " [27 22  2 35]\n",
      " [21 42 23 37]\n",
      " [10 41  7 35]\n",
      " [13  5 33 32]\n",
      " [48 30 14 43]\n",
      " [48 20 29 43]\n",
      " [13 10 21  6]\n",
      " [30 29  8  3]\n",
      " [ 0  2 25 23]\n",
      " [ 5 38 39 11]\n",
      " [21 37 22 15]\n",
      " [30 25 26 34]\n",
      " [44 24  0 28]]\n"
     ]
    }
   ],
   "source": [
    "np.random.seed(2222)\n",
    "Y = np.random.randint(low=0, high=50, size=(4, 20))\n",
    "print(Y)\n",
    "print(X)"
   ]
  },
  {
   "cell_type": "code",
   "execution_count": 0,
   "metadata": {
    "colab": {
     "base_uri": "https://localhost:8080/",
     "height": 34
    },
    "colab_type": "code",
    "executionInfo": {
     "elapsed": 2271,
     "status": "ok",
     "timestamp": 1575266344425,
     "user": {
      "displayName": "Keren-Audrey Ouaknine",
      "photoUrl": "https://lh3.googleusercontent.com/a-/AAuE7mBQjOKX9Dq4HNrk47eKKKTmWpg4hZOmNe3UGntusA=s64",
      "userId": "10590988939558804557"
     },
     "user_tz": -120
    },
    "id": "3b-w21__lpmc",
    "outputId": "bdbd550e-4ad0-486d-e4c4-054b6ede0b4c"
   },
   "outputs": [
    {
     "data": {
      "text/plain": [
       "array([188.78, 201.52, 162.85, 185.05])"
      ]
     },
     "execution_count": 18,
     "metadata": {
      "tags": []
     },
     "output_type": "execute_result"
    }
   ],
   "source": [
    "# Your code goes here (variance definition: mean(abs(x - x.mean())**2))\n"
   ]
  },
  {
   "cell_type": "markdown",
   "metadata": {
    "colab_type": "text",
    "id": "KxDk1r9Ulpmj"
   },
   "source": [
    "## Wine Example\n",
    "<img src=\"https://www.ironstonevineyards.com/wp-content/uploads/2017/06/wine-club-cheers.jpg\" width=\"300\" height=\"\">"
   ]
  },
  {
   "cell_type": "markdown",
   "metadata": {
    "colab_type": "text",
    "id": "rqr_3ZaYlpml"
   },
   "source": [
    "We are going to use the wine dataset from sklearn (THE machine learning module in python).    \n",
    "In this data, each row corresponds to a specific type of wine. The row values consist of different chemical compounds of the wine(alcohol, malic acid, magnesium etc...) along side the \"score\" of the wine. The \"goal\" in this data is to use the chemical properties in order to predict the wine score.  \n",
    "In machine learning the \"properties\" are referred to as __features__ while the value we are trying to predict is referred to as the __label__ or __target__.\n",
    "\n",
    "|  Type |Alcohol | Malic acid| ash | ... |\n",
    "|---|---|---|---|---|\n",
    "|Merlot Galil| 12.5 | 2.3| 4.5| ...|\n",
    "|Merlot Arava| 13.2 | 3.1| 2.5| ...|\n",
    "|Cabarnet Negev| 14.1 | 3.3| 4.1| ...|"
   ]
  },
  {
   "cell_type": "code",
   "execution_count": 0,
   "metadata": {
    "colab": {
     "base_uri": "https://localhost:8080/",
     "height": 153
    },
    "colab_type": "code",
    "executionInfo": {
     "elapsed": 2654,
     "status": "ok",
     "timestamp": 1575266344820,
     "user": {
      "displayName": "Keren-Audrey Ouaknine",
      "photoUrl": "https://lh3.googleusercontent.com/a-/AAuE7mBQjOKX9Dq4HNrk47eKKKTmWpg4hZOmNe3UGntusA=s64",
      "userId": "10590988939558804557"
     },
     "user_tz": -120
    },
    "id": "v6B-kHhDlpmo",
    "outputId": "e5bce2bb-0070-4b5e-b2ac-03acce439d2e"
   },
   "outputs": [
    {
     "name": "stdout",
     "output_type": "stream",
     "text": [
      "['alcohol', 'malic_acid', 'ash', 'alcalinity_of_ash', 'magnesium', 'total_phenols', 'flavanoids', 'nonflavanoid_phenols', 'proanthocyanins', 'color_intensity', 'hue', 'od280/od315_of_diluted_wines', 'proline']\n",
      "[[  14.23    1.71    2.43 ...    1.04    3.92 1065.  ]\n",
      " [  13.2     1.78    2.14 ...    1.05    3.4  1050.  ]\n",
      " [  13.16    2.36    2.67 ...    1.03    3.17 1185.  ]\n",
      " ...\n",
      " [  13.27    4.28    2.26 ...    0.59    1.56  835.  ]\n",
      " [  13.17    2.59    2.37 ...    0.6     1.62  840.  ]\n",
      " [  14.13    4.1     2.74 ...    0.61    1.6   560.  ]]\n"
     ]
    }
   ],
   "source": [
    "from sklearn import datasets # We are going to use sklearn to load a sample dataset.\n",
    "\n",
    "# Load the wine dataset.\n",
    "wine_dataset = datasets.load_wine()\n",
    "\n",
    "# Extract the feature names from the dataset.\n",
    "features_names = wine_dataset['feature_names']\n",
    "print(features_names)\n",
    "\n",
    "# Extract the features matrix from the dataset.\n",
    "X = wine_dataset['data']\n",
    "print(X)"
   ]
  },
  {
   "cell_type": "code",
   "execution_count": 0,
   "metadata": {
    "colab": {
     "base_uri": "https://localhost:8080/",
     "height": 238
    },
    "colab_type": "code",
    "executionInfo": {
     "elapsed": 2644,
     "status": "ok",
     "timestamp": 1575266344821,
     "user": {
      "displayName": "Keren-Audrey Ouaknine",
      "photoUrl": "https://lh3.googleusercontent.com/a-/AAuE7mBQjOKX9Dq4HNrk47eKKKTmWpg4hZOmNe3UGntusA=s64",
      "userId": "10590988939558804557"
     },
     "user_tz": -120
    },
    "id": "e2kctJeVlpmr",
    "outputId": "5a47d438-ec40-4cc3-ae9f-b402bfe746b2"
   },
   "outputs": [
    {
     "data": {
      "text/plain": [
       "['alcohol',\n",
       " 'malic_acid',\n",
       " 'ash',\n",
       " 'alcalinity_of_ash',\n",
       " 'magnesium',\n",
       " 'total_phenols',\n",
       " 'flavanoids',\n",
       " 'nonflavanoid_phenols',\n",
       " 'proanthocyanins',\n",
       " 'color_intensity',\n",
       " 'hue',\n",
       " 'od280/od315_of_diluted_wines',\n",
       " 'proline']"
      ]
     },
     "execution_count": 20,
     "metadata": {
      "tags": []
     },
     "output_type": "execute_result"
    }
   ],
   "source": [
    "# Let's take a look at what kind of features we have to work with\n",
    "features_names"
   ]
  },
  {
   "cell_type": "code",
   "execution_count": 0,
   "metadata": {
    "colab": {
     "base_uri": "https://localhost:8080/",
     "height": 34
    },
    "colab_type": "code",
    "executionInfo": {
     "elapsed": 2633,
     "status": "ok",
     "timestamp": 1575266344822,
     "user": {
      "displayName": "Keren-Audrey Ouaknine",
      "photoUrl": "https://lh3.googleusercontent.com/a-/AAuE7mBQjOKX9Dq4HNrk47eKKKTmWpg4hZOmNe3UGntusA=s64",
      "userId": "10590988939558804557"
     },
     "user_tz": -120
    },
    "id": "viDjBoivlpmu",
    "outputId": "b8e7a880-e512-4a27-b766-55e849779a1f"
   },
   "outputs": [
    {
     "data": {
      "text/plain": [
       "((178, 13), 13)"
      ]
     },
     "execution_count": 21,
     "metadata": {
      "tags": []
     },
     "output_type": "execute_result"
    }
   ],
   "source": [
    "# Let's see how much data we have, and a small sanity check\n",
    "X.shape, len(features_names)"
   ]
  },
  {
   "cell_type": "code",
   "execution_count": 0,
   "metadata": {
    "colab": {
     "base_uri": "https://localhost:8080/",
     "height": 85
    },
    "colab_type": "code",
    "executionInfo": {
     "elapsed": 9383,
     "status": "ok",
     "timestamp": 1575266351584,
     "user": {
      "displayName": "Keren-Audrey Ouaknine",
      "photoUrl": "https://lh3.googleusercontent.com/a-/AAuE7mBQjOKX9Dq4HNrk47eKKKTmWpg4hZOmNe3UGntusA=s64",
      "userId": "10590988939558804557"
     },
     "user_tz": -120
    },
    "id": "pZPO0A8Tlpmx",
    "outputId": "467b9324-d5f1-4f28-fe66-de5f37c2fcb3"
   },
   "outputs": [
    {
     "name": "stdout",
     "output_type": "stream",
     "text": [
      "Requirement already up-to-date: scikit-learn in /usr/local/lib/python3.6/dist-packages (0.21.3)\n",
      "Requirement already satisfied, skipping upgrade: scipy>=0.17.0 in /usr/local/lib/python3.6/dist-packages (from scikit-learn) (1.3.2)\n",
      "Requirement already satisfied, skipping upgrade: joblib>=0.11 in /usr/local/lib/python3.6/dist-packages (from scikit-learn) (0.14.0)\n",
      "Requirement already satisfied, skipping upgrade: numpy>=1.11.0 in /usr/local/lib/python3.6/dist-packages (from scikit-learn) (1.17.4)\n"
     ]
    }
   ],
   "source": [
    "!pip install -U scikit-learn\n"
   ]
  },
  {
   "cell_type": "markdown",
   "metadata": {
    "colab_type": "text",
    "id": "8YirtBK4lpm0"
   },
   "source": [
    "***\n",
    "\n",
    "## Exercise\n",
    "***\n",
    "__Extract the alcohol column__"
   ]
  },
  {
   "cell_type": "code",
   "execution_count": 0,
   "metadata": {
    "colab": {},
    "colab_type": "code",
    "id": "VQP3mbZSlpm1"
   },
   "outputs": [],
   "source": [
    "# Your code here.\n",
    "\n"
   ]
  },
  {
   "cell_type": "markdown",
   "metadata": {
    "colab_type": "text",
    "id": "aWvyqJq1lpm4"
   },
   "source": [
    "__Find the mean, max and min values of the alcohol feature__"
   ]
  },
  {
   "cell_type": "code",
   "execution_count": 0,
   "metadata": {
    "colab": {
     "base_uri": "https://localhost:8080/",
     "height": 34
    },
    "colab_type": "code",
    "executionInfo": {
     "elapsed": 9372,
     "status": "ok",
     "timestamp": 1575266351590,
     "user": {
      "displayName": "Keren-Audrey Ouaknine",
      "photoUrl": "https://lh3.googleusercontent.com/a-/AAuE7mBQjOKX9Dq4HNrk47eKKKTmWpg4hZOmNe3UGntusA=s64",
      "userId": "10590988939558804557"
     },
     "user_tz": -120
    },
    "id": "_ZraHlmWlpm5",
    "outputId": "f7458b1d-65e6-4bdb-edfc-22649e6af840"
   },
   "outputs": [
    {
     "data": {
      "text/plain": [
       "(13.00061797752809, 11.03, 14.83)"
      ]
     },
     "execution_count": 24,
     "metadata": {
      "tags": []
     },
     "output_type": "execute_result"
    }
   ],
   "source": [
    "# Your code here."
   ]
  },
  {
   "cell_type": "markdown",
   "metadata": {
    "colab_type": "text",
    "id": "2xYcminHlpm9"
   },
   "source": [
    "__find the mean value of the flavanoids column divided by the nonflavanoid_phenols column__"
   ]
  },
  {
   "cell_type": "code",
   "execution_count": 0,
   "metadata": {
    "colab": {
     "base_uri": "https://localhost:8080/",
     "height": 34
    },
    "colab_type": "code",
    "executionInfo": {
     "elapsed": 9364,
     "status": "ok",
     "timestamp": 1575266351592,
     "user": {
      "displayName": "Keren-Audrey Ouaknine",
      "photoUrl": "https://lh3.googleusercontent.com/a-/AAuE7mBQjOKX9Dq4HNrk47eKKKTmWpg4hZOmNe3UGntusA=s64",
      "userId": "10590988939558804557"
     },
     "user_tz": -120
    },
    "id": "IQmwijg2lpm-",
    "outputId": "706ee50c-4715-4ed6-80f9-59561e080895"
   },
   "outputs": [
    {
     "data": {
      "text/plain": [
       "6.8496995472735565"
      ]
     },
     "execution_count": 25,
     "metadata": {
      "tags": []
     },
     "output_type": "execute_result"
    }
   ],
   "source": [
    "# Your code here.\n"
   ]
  },
  {
   "cell_type": "markdown",
   "metadata": {
    "colab_type": "text",
    "id": "8weRoT_3lpnB"
   },
   "source": [
    "***\n",
    "## Broadcasting\n",
    "\n",
    "A very powerful mechanism of NumPy arrays is [broadcasting](https://docs.scipy.org/doc/numpy/user/basics.broadcasting.html).\n",
    "Broadcasting is used when an operation is used on two arrays of different shapes.\n",
    "The rules are:\n",
    "\n",
    "1. If arrays dimension differ, left-pad the smaller array's shape with 1s.\n",
    "1. If the shapes differ, change any dimension of size 1 to match the dimension of the other array.\n",
    "1. If shapes still differ, raise an error.\n",
    "\n",
    "Some examples:\n",
    "![broadcasting examples](http://www.astroml.org/_images/fig_broadcast_visual_1.png)"
   ]
  },
  {
   "cell_type": "code",
   "execution_count": 0,
   "metadata": {
    "colab": {
     "base_uri": "https://localhost:8080/",
     "height": 51
    },
    "colab_type": "code",
    "executionInfo": {
     "elapsed": 10062,
     "status": "ok",
     "timestamp": 1575266352301,
     "user": {
      "displayName": "Keren-Audrey Ouaknine",
      "photoUrl": "https://lh3.googleusercontent.com/a-/AAuE7mBQjOKX9Dq4HNrk47eKKKTmWpg4hZOmNe3UGntusA=s64",
      "userId": "10590988939558804557"
     },
     "user_tz": -120
    },
    "id": "DfqsyY-QC1v6",
    "outputId": "00f35b96-b67e-474d-bb84-b44ae575bbc2"
   },
   "outputs": [
    {
     "data": {
      "text/plain": [
       "array([[1., 2., 3.],\n",
       "       [1., 2., 3.]])"
      ]
     },
     "execution_count": 26,
     "metadata": {
      "tags": []
     },
     "output_type": "execute_result"
    }
   ],
   "source": [
    "M = np.ones((2, 3))\n",
    "a = np.arange(3)\n",
    "\n",
    "#Let's consider an operation on these two arrays. The shape of the arrays are\n",
    "#M.shape = (2, 3)\n",
    "#a.shape = (3,)\n",
    "#We see by rule 1 that the array a has fewer dimensions, so we pad it on the left with ones:\n",
    "\n",
    "#M.shape -> (2, 3)\n",
    "#a.shape -> (1, 3)\n",
    "#By rule 2, we now see that the first dimension disagrees, so we stretch this dimension to match:\n",
    "\n",
    "#M.shape -> (2, 3)\n",
    "#a.shape -> (2, 3)\n",
    "#The shapes match, and we see that the final shape will be (2, 3):\n",
    "\n",
    "M + a"
   ]
  },
  {
   "cell_type": "code",
   "execution_count": 0,
   "metadata": {
    "colab": {
     "base_uri": "https://localhost:8080/",
     "height": 68
    },
    "colab_type": "code",
    "executionInfo": {
     "elapsed": 10032,
     "status": "ok",
     "timestamp": 1575266352302,
     "user": {
      "displayName": "Keren-Audrey Ouaknine",
      "photoUrl": "https://lh3.googleusercontent.com/a-/AAuE7mBQjOKX9Dq4HNrk47eKKKTmWpg4hZOmNe3UGntusA=s64",
      "userId": "10590988939558804557"
     },
     "user_tz": -120
    },
    "id": "wyyv7mlGFYkw",
    "outputId": "46f7202b-f556-41c4-cccf-1c93131858d8"
   },
   "outputs": [
    {
     "data": {
      "text/plain": [
       "array([[0, 1, 2],\n",
       "       [1, 2, 3],\n",
       "       [2, 3, 4]])"
      ]
     },
     "execution_count": 27,
     "metadata": {
      "tags": []
     },
     "output_type": "execute_result"
    }
   ],
   "source": [
    "#Another example: \n",
    "a = np.arange(3).reshape((3, 1))\n",
    "b = np.arange(3)\n",
    "#Again, we'll start by writing out the shape of the arrays:\n",
    "\n",
    "#a.shape = (3, 1)\n",
    "#b.shape = (3,)\n",
    "#Rule 1 says we must pad the shape of b with ones:\n",
    "\n",
    "#a.shape -> (3, 1)\n",
    "#b.shape -> (1, 3) (we just transformed [1, 2, 3] to [[1][2][3]] we didn't padd b with ones..)\n",
    "\n",
    "#And rule 2 tells us that we upgrade each of these ones to match the corresponding size of the other array:\n",
    "\n",
    "#a.shape -> (3, 3)\n",
    "#b.shape -> (3, 3)\n",
    "#Because the result matches, these shapes are compatible. We can see this here:\n",
    "\n",
    "a + b\n"
   ]
  },
  {
   "cell_type": "code",
   "execution_count": 0,
   "metadata": {
    "colab": {
     "base_uri": "https://localhost:8080/",
     "height": 34
    },
    "colab_type": "code",
    "executionInfo": {
     "elapsed": 10021,
     "status": "ok",
     "timestamp": 1575266352303,
     "user": {
      "displayName": "Keren-Audrey Ouaknine",
      "photoUrl": "https://lh3.googleusercontent.com/a-/AAuE7mBQjOKX9Dq4HNrk47eKKKTmWpg4hZOmNe3UGntusA=s64",
      "userId": "10590988939558804557"
     },
     "user_tz": -120
    },
    "id": "rvGALcl8lpnC",
    "outputId": "53a6e6e3-e52f-4a8d-d81c-d27b78dcec51"
   },
   "outputs": [
    {
     "data": {
      "text/plain": [
       "array([5, 6, 7])"
      ]
     },
     "execution_count": 28,
     "metadata": {
      "tags": []
     },
     "output_type": "execute_result"
    }
   ],
   "source": [
    "np.arange(3) + 5"
   ]
  },
  {
   "cell_type": "code",
   "execution_count": 0,
   "metadata": {
    "colab": {
     "base_uri": "https://localhost:8080/",
     "height": 68
    },
    "colab_type": "code",
    "executionInfo": {
     "elapsed": 10011,
     "status": "ok",
     "timestamp": 1575266352304,
     "user": {
      "displayName": "Keren-Audrey Ouaknine",
      "photoUrl": "https://lh3.googleusercontent.com/a-/AAuE7mBQjOKX9Dq4HNrk47eKKKTmWpg4hZOmNe3UGntusA=s64",
      "userId": "10590988939558804557"
     },
     "user_tz": -120
    },
    "id": "DeyAlicDlpnJ",
    "outputId": "2818d1e3-be43-4bc9-fcf9-1b95ce0945b1"
   },
   "outputs": [
    {
     "data": {
      "text/plain": [
       "array([[1., 2., 3.],\n",
       "       [1., 2., 3.],\n",
       "       [1., 2., 3.]])"
      ]
     },
     "execution_count": 29,
     "metadata": {
      "tags": []
     },
     "output_type": "execute_result"
    }
   ],
   "source": [
    "np.ones((3,3)) + np.arange(3)"
   ]
  },
  {
   "cell_type": "code",
   "execution_count": 0,
   "metadata": {
    "colab": {
     "base_uri": "https://localhost:8080/",
     "height": 68
    },
    "colab_type": "code",
    "executionInfo": {
     "elapsed": 9999,
     "status": "ok",
     "timestamp": 1575266352304,
     "user": {
      "displayName": "Keren-Audrey Ouaknine",
      "photoUrl": "https://lh3.googleusercontent.com/a-/AAuE7mBQjOKX9Dq4HNrk47eKKKTmWpg4hZOmNe3UGntusA=s64",
      "userId": "10590988939558804557"
     },
     "user_tz": -120
    },
    "id": "GRuuKK1slpnO",
    "outputId": "9a8c49a7-be42-4935-a741-fc8d10f79768"
   },
   "outputs": [
    {
     "data": {
      "text/plain": [
       "array([[0, 1, 2],\n",
       "       [1, 2, 3],\n",
       "       [2, 3, 4]])"
      ]
     },
     "execution_count": 30,
     "metadata": {
      "tags": []
     },
     "output_type": "execute_result"
    }
   ],
   "source": [
    "np.arange(3).reshape((3, 1)) + np.arange(3)"
   ]
  },
  {
   "cell_type": "markdown",
   "metadata": {
    "colab_type": "text",
    "id": "i4EblYZLlpnQ"
   },
   "source": [
    "Let's see an example where this breaks"
   ]
  },
  {
   "cell_type": "code",
   "execution_count": 0,
   "metadata": {
    "colab": {},
    "colab_type": "code",
    "id": "YXnsWmfflpnR"
   },
   "outputs": [],
   "source": [
    "# uncomment the line below - expect it to fail. \n",
    "# np.ones((3,3)) + np.ones((3, 2))\n"
   ]
  },
  {
   "cell_type": "markdown",
   "metadata": {
    "colab_type": "text",
    "id": "6mvURvq01Iu3"
   },
   "source": [
    "***\n",
    "# Exercise\n",
    "***\n",
    "Use `a` and `b` to produce the following output:\n",
    "```py\n",
    "array([[ 2,  4,  6,  8],\n",
    "       [ 3,  6,  9, 12]])\n",
    "```"
   ]
  },
  {
   "cell_type": "code",
   "execution_count": 0,
   "metadata": {
    "colab": {
     "base_uri": "https://localhost:8080/",
     "height": 51
    },
    "colab_type": "code",
    "executionInfo": {
     "elapsed": 9981,
     "status": "ok",
     "timestamp": 1575266352305,
     "user": {
      "displayName": "Keren-Audrey Ouaknine",
      "photoUrl": "https://lh3.googleusercontent.com/a-/AAuE7mBQjOKX9Dq4HNrk47eKKKTmWpg4hZOmNe3UGntusA=s64",
      "userId": "10590988939558804557"
     },
     "user_tz": -120
    },
    "id": "2LqB1DO5in7J",
    "outputId": "36d42a66-dba8-4e64-b4b1-4fb3ccbe8c53"
   },
   "outputs": [
    {
     "data": {
      "text/plain": [
       "array([[3, 4, 5, 6],\n",
       "       [4, 5, 6, 7]])"
      ]
     },
     "execution_count": 31,
     "metadata": {
      "tags": []
     },
     "output_type": "execute_result"
    }
   ],
   "source": [
    "a = np.arange(1,5)\n",
    " \n",
    "b = np.arange(2,4).reshape(2,1) \n",
    "a+b\n"
   ]
  },
  {
   "cell_type": "markdown",
   "metadata": {
    "colab_type": "text",
    "id": "rJXghAmilpne"
   },
   "source": [
    "__Given a 1D array `X`, calculate the differences between each two elements of `X` using broadcasting and save it to array `D`, Meaning `D[i,j] = X[i] - X[j]`__\n"
   ]
  },
  {
   "cell_type": "code",
   "execution_count": 0,
   "metadata": {
    "colab": {
     "base_uri": "https://localhost:8080/",
     "height": 187
    },
    "colab_type": "code",
    "executionInfo": {
     "elapsed": 9965,
     "status": "ok",
     "timestamp": 1575266352306,
     "user": {
      "displayName": "Keren-Audrey Ouaknine",
      "photoUrl": "https://lh3.googleusercontent.com/a-/AAuE7mBQjOKX9Dq4HNrk47eKKKTmWpg4hZOmNe3UGntusA=s64",
      "userId": "10590988939558804557"
     },
     "user_tz": -120
    },
    "id": "6whXTSmmlpnf",
    "outputId": "d5e8d0e8-e642-4d0a-e3ea-2ba36118665f"
   },
   "outputs": [
    {
     "data": {
      "text/plain": [
       "array([[ 1.],\n",
       "       [ 2.],\n",
       "       [ 3.],\n",
       "       [ 4.],\n",
       "       [ 5.],\n",
       "       [ 6.],\n",
       "       [ 7.],\n",
       "       [ 8.],\n",
       "       [ 9.],\n",
       "       [10.]])"
      ]
     },
     "execution_count": 32,
     "metadata": {
      "tags": []
     },
     "output_type": "execute_result"
    }
   ],
   "source": [
    "X = np.linspace(1, 10, 10)\n",
    "X.reshape(10,1 )"
   ]
  },
  {
   "cell_type": "code",
   "execution_count": 0,
   "metadata": {
    "colab": {
     "base_uri": "https://localhost:8080/",
     "height": 187
    },
    "colab_type": "code",
    "executionInfo": {
     "elapsed": 9948,
     "status": "ok",
     "timestamp": 1575266352306,
     "user": {
      "displayName": "Keren-Audrey Ouaknine",
      "photoUrl": "https://lh3.googleusercontent.com/a-/AAuE7mBQjOKX9Dq4HNrk47eKKKTmWpg4hZOmNe3UGntusA=s64",
      "userId": "10590988939558804557"
     },
     "user_tz": -120
    },
    "id": "C-2rX1O1lpnh",
    "outputId": "691e3cb8-08ff-4262-ef5b-05e0d3c31562"
   },
   "outputs": [
    {
     "data": {
      "text/plain": [
       "array([[ 0.,  1.,  2.,  3.,  4.,  5.,  6.,  7.,  8.,  9.],\n",
       "       [-1.,  0.,  1.,  2.,  3.,  4.,  5.,  6.,  7.,  8.],\n",
       "       [-2., -1.,  0.,  1.,  2.,  3.,  4.,  5.,  6.,  7.],\n",
       "       [-3., -2., -1.,  0.,  1.,  2.,  3.,  4.,  5.,  6.],\n",
       "       [-4., -3., -2., -1.,  0.,  1.,  2.,  3.,  4.,  5.],\n",
       "       [-5., -4., -3., -2., -1.,  0.,  1.,  2.,  3.,  4.],\n",
       "       [-6., -5., -4., -3., -2., -1.,  0.,  1.,  2.,  3.],\n",
       "       [-7., -6., -5., -4., -3., -2., -1.,  0.,  1.,  2.],\n",
       "       [-8., -7., -6., -5., -4., -3., -2., -1.,  0.,  1.],\n",
       "       [-9., -8., -7., -6., -5., -4., -3., -2., -1.,  0.]])"
      ]
     },
     "execution_count": 33,
     "metadata": {
      "tags": []
     },
     "output_type": "execute_result"
    }
   ],
   "source": [
    "# Your code here"
   ]
  },
  {
   "cell_type": "markdown",
   "metadata": {
    "colab_type": "text",
    "id": "EZ_0n0c0lpnj"
   },
   "source": [
    "***\n",
    "__In front of you is an array of prices of different products in shekels, let's call the sum of these products a basket. You would like to know the basket price in each of the following currencies:__\n",
    "1. Dollar (1 shekel -> 0.28)\n",
    "1. Euro   (1 shekel -> 0.26)\n",
    "1. Yuan   (1 shekel -> 2.03)\n",
    "1. Yen    (1 shekel -> 30.11)\n",
    "\n",
    "__Use broadcasting and aggregation to quickly find out the price of the baskets.__"
   ]
  },
  {
   "cell_type": "code",
   "execution_count": 0,
   "metadata": {
    "colab": {
     "base_uri": "https://localhost:8080/",
     "height": 119
    },
    "colab_type": "code",
    "executionInfo": {
     "elapsed": 9932,
     "status": "ok",
     "timestamp": 1575266352307,
     "user": {
      "displayName": "Keren-Audrey Ouaknine",
      "photoUrl": "https://lh3.googleusercontent.com/a-/AAuE7mBQjOKX9Dq4HNrk47eKKKTmWpg4hZOmNe3UGntusA=s64",
      "userId": "10590988939558804557"
     },
     "user_tz": -120
    },
    "id": "5pOLXEkVlpnk",
    "outputId": "d8022619-9f8d-48e4-beda-361c1139befb"
   },
   "outputs": [
    {
     "name": "stdout",
     "output_type": "stream",
     "text": [
      "[  190.4   176.8  1380.4 20474.8]\n",
      "[ 0.28  0.26  2.03 30.11] [[ 0.28]\n",
      " [ 0.26]\n",
      " [ 2.03]\n",
      " [30.11]] [[ 0.28  0.26  2.03 30.11]]\n",
      "[  190.4   176.8  1380.4 20474.8]\n"
     ]
    }
   ],
   "source": [
    "prices = np.array([50, 25, 80, 100, 150, 275])\n",
    "\n",
    "# Your code here\n"
   ]
  },
  {
   "cell_type": "markdown",
   "metadata": {
    "colab_type": "text",
    "id": "v53otvPDlpnm"
   },
   "source": [
    "***\n",
    "A very common procedure in machine learning is to use a normalization technique on the data prior to feeding it to an algorithm.\n",
    "\n",
    "Use aggregation to center mean the columns of the following X matrix."
   ]
  },
  {
   "cell_type": "code",
   "execution_count": 0,
   "metadata": {
    "colab": {
     "base_uri": "https://localhost:8080/",
     "height": 527
    },
    "colab_type": "code",
    "executionInfo": {
     "elapsed": 9916,
     "status": "ok",
     "timestamp": 1575266352307,
     "user": {
      "displayName": "Keren-Audrey Ouaknine",
      "photoUrl": "https://lh3.googleusercontent.com/a-/AAuE7mBQjOKX9Dq4HNrk47eKKKTmWpg4hZOmNe3UGntusA=s64",
      "userId": "10590988939558804557"
     },
     "user_tz": -120
    },
    "id": "pG2BJKmwlpnn",
    "outputId": "e10f7d06-37c2-4495-f24a-8f251c7cca5c"
   },
   "outputs": [
    {
     "data": {
      "text/plain": [
       "array([[28, 37, 17, 12],\n",
       "       [34, 24, 22, 20],\n",
       "       [11, 14,  8, 38],\n",
       "       [12, 46, 22,  8],\n",
       "       [41, 42, 12, 30],\n",
       "       [14, 12,  4, 13],\n",
       "       [40,  9,  9, 23],\n",
       "       [18,  0, 36,  8],\n",
       "       [ 5, 21, 17, 45],\n",
       "       [32, 45, 11, 31],\n",
       "       [29, 21, 44, 45],\n",
       "       [34, 24,  0, 23],\n",
       "       [29, 47, 25,  0],\n",
       "       [40, 11, 47, 33],\n",
       "       [41,  2,  9, 39],\n",
       "       [40, 11, 38,  7],\n",
       "       [ 9, 13, 17, 14],\n",
       "       [27, 22,  2, 35],\n",
       "       [21, 42, 23, 37],\n",
       "       [10, 41,  7, 35],\n",
       "       [13,  5, 33, 32],\n",
       "       [48, 30, 14, 43],\n",
       "       [48, 20, 29, 43],\n",
       "       [13, 10, 21,  6],\n",
       "       [30, 29,  8,  3],\n",
       "       [ 0,  2, 25, 23],\n",
       "       [ 5, 38, 39, 11],\n",
       "       [21, 37, 22, 15],\n",
       "       [30, 25, 26, 34],\n",
       "       [44, 24,  0, 28]])"
      ]
     },
     "execution_count": 35,
     "metadata": {
      "tags": []
     },
     "output_type": "execute_result"
    }
   ],
   "source": [
    "np.random.seed(1111)\n",
    "X = np.random.randint(low=0, high=50, size=(30, 4))\n",
    "X"
   ]
  },
  {
   "cell_type": "code",
   "execution_count": 0,
   "metadata": {
    "colab": {
     "base_uri": "https://localhost:8080/",
     "height": 561
    },
    "colab_type": "code",
    "executionInfo": {
     "elapsed": 9901,
     "status": "ok",
     "timestamp": 1575266352308,
     "user": {
      "displayName": "Keren-Audrey Ouaknine",
      "photoUrl": "https://lh3.googleusercontent.com/a-/AAuE7mBQjOKX9Dq4HNrk47eKKKTmWpg4hZOmNe3UGntusA=s64",
      "userId": "10590988939558804557"
     },
     "user_tz": -120
    },
    "id": "bOjbnTy6lpnp",
    "outputId": "fc693463-7a6f-4f3d-b932-3aed340a4b4e"
   },
   "outputs": [
    {
     "data": {
      "text/plain": [
       "(array([25.57, 23.47, 19.57, 24.47]),\n",
       " '',\n",
       " array([[  2.43,  13.53,  -2.57, -12.47],\n",
       "        [  8.43,   0.53,   2.43,  -4.47],\n",
       "        [-14.57,  -9.47, -11.57,  13.53],\n",
       "        [-13.57,  22.53,   2.43, -16.47],\n",
       "        [ 15.43,  18.53,  -7.57,   5.53],\n",
       "        [-11.57, -11.47, -15.57, -11.47],\n",
       "        [ 14.43, -14.47, -10.57,  -1.47],\n",
       "        [ -7.57, -23.47,  16.43, -16.47],\n",
       "        [-20.57,  -2.47,  -2.57,  20.53],\n",
       "        [  6.43,  21.53,  -8.57,   6.53],\n",
       "        [  3.43,  -2.47,  24.43,  20.53],\n",
       "        [  8.43,   0.53, -19.57,  -1.47],\n",
       "        [  3.43,  23.53,   5.43, -24.47],\n",
       "        [ 14.43, -12.47,  27.43,   8.53],\n",
       "        [ 15.43, -21.47, -10.57,  14.53],\n",
       "        [ 14.43, -12.47,  18.43, -17.47],\n",
       "        [-16.57, -10.47,  -2.57, -10.47],\n",
       "        [  1.43,  -1.47, -17.57,  10.53],\n",
       "        [ -4.57,  18.53,   3.43,  12.53],\n",
       "        [-15.57,  17.53, -12.57,  10.53],\n",
       "        [-12.57, -18.47,  13.43,   7.53],\n",
       "        [ 22.43,   6.53,  -5.57,  18.53],\n",
       "        [ 22.43,  -3.47,   9.43,  18.53],\n",
       "        [-12.57, -13.47,   1.43, -18.47],\n",
       "        [  4.43,   5.53, -11.57, -21.47],\n",
       "        [-25.57, -21.47,   5.43,  -1.47],\n",
       "        [-20.57,  14.53,  19.43, -13.47],\n",
       "        [ -4.57,  13.53,   2.43,  -9.47],\n",
       "        [  4.43,   1.53,   6.43,   9.53],\n",
       "        [ 18.43,   0.53, -19.57,   3.53]]))"
      ]
     },
     "execution_count": 36,
     "metadata": {
      "tags": []
     },
     "output_type": "execute_result"
    }
   ],
   "source": [
    "# Your code here\n"
   ]
  },
  {
   "cell_type": "markdown",
   "metadata": {
    "colab_type": "text",
    "id": "afrszn_1lpnr"
   },
   "source": [
    "__Use `np.isclose` to validate that all the columns in the new matrix have mean 0.__"
   ]
  },
  {
   "cell_type": "code",
   "execution_count": 0,
   "metadata": {
    "colab": {
     "base_uri": "https://localhost:8080/",
     "height": 34
    },
    "colab_type": "code",
    "executionInfo": {
     "elapsed": 9885,
     "status": "ok",
     "timestamp": 1575266352309,
     "user": {
      "displayName": "Keren-Audrey Ouaknine",
      "photoUrl": "https://lh3.googleusercontent.com/a-/AAuE7mBQjOKX9Dq4HNrk47eKKKTmWpg4hZOmNe3UGntusA=s64",
      "userId": "10590988939558804557"
     },
     "user_tz": -120
    },
    "id": "TquMl6d-lpns",
    "outputId": "d9003799-9893-4c4e-e366-9d634d9678cd"
   },
   "outputs": [
    {
     "data": {
      "text/plain": [
       "array([ True,  True,  True,  True])"
      ]
     },
     "execution_count": 37,
     "metadata": {
      "tags": []
     },
     "output_type": "execute_result"
    }
   ],
   "source": [
    "# Your code here\n"
   ]
  },
  {
   "cell_type": "markdown",
   "metadata": {
    "colab_type": "text",
    "id": "chPVADg2lpnx"
   },
   "source": [
    "***\n",
    "__Let X,Y be 2 random variables. In front of you is the joint distribution, J, of X and Y.  J[i. j] = $p(x=i, y=j)$  \n",
    "Find out if X and Y are independent.__  \n",
    "Reverse this string ([::-1]) for a hint: \n",
    "```py\n",
    "J nevig eht ot erapmoc dna noitubirtsid tnioj eht etupmoc ,noitagergga gnisu Y dna X fo slanigram eht etupmoC\n",
    "```"
   ]
  },
  {
   "cell_type": "code",
   "execution_count": 0,
   "metadata": {
    "colab": {
     "base_uri": "https://localhost:8080/",
     "height": 34
    },
    "colab_type": "code",
    "executionInfo": {
     "elapsed": 9871,
     "status": "ok",
     "timestamp": 1575266352309,
     "user": {
      "displayName": "Keren-Audrey Ouaknine",
      "photoUrl": "https://lh3.googleusercontent.com/a-/AAuE7mBQjOKX9Dq4HNrk47eKKKTmWpg4hZOmNe3UGntusA=s64",
      "userId": "10590988939558804557"
     },
     "user_tz": -120
    },
    "id": "0nvN3NZwlES4",
    "outputId": "614f5d86-955f-4311-fd64-a7839cb25384"
   },
   "outputs": [
    {
     "data": {
      "text/plain": [
       "'Compute the marginals of X and Y using aggregation, compute the joint distribution and compare to the given J'"
      ]
     },
     "execution_count": 38,
     "metadata": {
      "tags": []
     },
     "output_type": "execute_result"
    }
   ],
   "source": [
    "hint = \"J nevig eht ot erapmoc dna noitubirtsid tnioj eht etupmoc ,noitagergga gnisu Y dna X fo slanigram eht etupmoC\"\n",
    "hint[::-1]"
   ]
  },
  {
   "cell_type": "code",
   "execution_count": 0,
   "metadata": {
    "colab": {},
    "colab_type": "code",
    "id": "OonMHZvtlpn0"
   },
   "outputs": [],
   "source": [
    "J = np.array(([\n",
    "    [0.04 , 0.03 , 0.02 , 0.01 ],\n",
    "    [0.075, 0.1  , 0.05 , 0.025],\n",
    "    [0.075, 0.1  , 0.05 , 0.025],\n",
    "    [0.12 , 0.16 , 0.08 , 0.04 ]\n",
    "]))"
   ]
  },
  {
   "cell_type": "code",
   "execution_count": 0,
   "metadata": {
    "colab": {
     "base_uri": "https://localhost:8080/",
     "height": 85
    },
    "colab_type": "code",
    "executionInfo": {
     "elapsed": 9854,
     "status": "ok",
     "timestamp": 1575266352310,
     "user": {
      "displayName": "Keren-Audrey Ouaknine",
      "photoUrl": "https://lh3.googleusercontent.com/a-/AAuE7mBQjOKX9Dq4HNrk47eKKKTmWpg4hZOmNe3UGntusA=s64",
      "userId": "10590988939558804557"
     },
     "user_tz": -120
    },
    "id": "_Qt9AXfalpn6",
    "outputId": "758085af-a669-4f01-bcac-768e2ec9ecbc"
   },
   "outputs": [
    {
     "name": "stdout",
     "output_type": "stream",
     "text": [
      "[0.31 0.39 0.2  0.1 ] [0.1  0.25 0.25 0.4 ] [[0.03 0.04 0.02 0.01]\n",
      " [0.08 0.1  0.05 0.02]\n",
      " [0.08 0.1  0.05 0.02]\n",
      " [0.12 0.16 0.08 0.04]]\n"
     ]
    }
   ],
   "source": [
    "# Your code here\n"
   ]
  },
  {
   "cell_type": "markdown",
   "metadata": {
    "colab_type": "text",
    "id": "4TV7OufslpoD"
   },
   "source": [
    "***\n",
    "## Boolean indexing and Fancy indexing"
   ]
  },
  {
   "cell_type": "markdown",
   "metadata": {
    "colab_type": "text",
    "id": "wpTO1PL_lpoE"
   },
   "source": [
    "### Boolean operations\n",
    "Before we talk about boolean indexing we'll talk about boolean ufuncs.  \n",
    "We saw we can operate on numpy arrays in an element wise fashion using arithmetic functions, which will result in the computation of the operation on each element. We can also work element wise using boolean operations which will result in a boolean array indicating whether the boolean operator was True or False on each element."
   ]
  },
  {
   "cell_type": "code",
   "execution_count": 0,
   "metadata": {
    "colab": {
     "base_uri": "https://localhost:8080/",
     "height": 51
    },
    "colab_type": "code",
    "executionInfo": {
     "elapsed": 9836,
     "status": "ok",
     "timestamp": 1575266352311,
     "user": {
      "displayName": "Keren-Audrey Ouaknine",
      "photoUrl": "https://lh3.googleusercontent.com/a-/AAuE7mBQjOKX9Dq4HNrk47eKKKTmWpg4hZOmNe3UGntusA=s64",
      "userId": "10590988939558804557"
     },
     "user_tz": -120
    },
    "id": "rzP6eE55lpoF",
    "outputId": "57a2b6ee-47d9-4149-fcfd-a3624835a599"
   },
   "outputs": [
    {
     "data": {
      "text/plain": [
       "array([18, 18, 33,  6, 16, 27, 15, 26, 32, 30, 17,  9, 39, 38, 37, 27, 36,\n",
       "       43, 21, 10])"
      ]
     },
     "execution_count": 41,
     "metadata": {
      "tags": []
     },
     "output_type": "execute_result"
    }
   ],
   "source": [
    "np.random.seed(2611)\n",
    "a = np.random.randint(low=0, high=50, size=20)\n",
    "a"
   ]
  },
  {
   "cell_type": "code",
   "execution_count": 0,
   "metadata": {
    "colab": {
     "base_uri": "https://localhost:8080/",
     "height": 68
    },
    "colab_type": "code",
    "executionInfo": {
     "elapsed": 9823,
     "status": "ok",
     "timestamp": 1575266352311,
     "user": {
      "displayName": "Keren-Audrey Ouaknine",
      "photoUrl": "https://lh3.googleusercontent.com/a-/AAuE7mBQjOKX9Dq4HNrk47eKKKTmWpg4hZOmNe3UGntusA=s64",
      "userId": "10590988939558804557"
     },
     "user_tz": -120
    },
    "id": "ABom9cnJlpoI",
    "outputId": "f0722583-4ed5-4367-c2e3-79871dc391a9"
   },
   "outputs": [
    {
     "data": {
      "text/plain": [
       "array([ True,  True, False, False, False, False, False, False, False,\n",
       "       False, False, False, False, False, False, False, False, False,\n",
       "       False, False])"
      ]
     },
     "execution_count": 42,
     "metadata": {
      "tags": []
     },
     "output_type": "execute_result"
    }
   ],
   "source": [
    "a == 18"
   ]
  },
  {
   "cell_type": "code",
   "execution_count": 0,
   "metadata": {
    "colab": {
     "base_uri": "https://localhost:8080/",
     "height": 68
    },
    "colab_type": "code",
    "executionInfo": {
     "elapsed": 9812,
     "status": "ok",
     "timestamp": 1575266352312,
     "user": {
      "displayName": "Keren-Audrey Ouaknine",
      "photoUrl": "https://lh3.googleusercontent.com/a-/AAuE7mBQjOKX9Dq4HNrk47eKKKTmWpg4hZOmNe3UGntusA=s64",
      "userId": "10590988939558804557"
     },
     "user_tz": -120
    },
    "id": "1swPfnZMlpoN",
    "outputId": "ddab2ecd-b734-4083-e042-45f1b7071b40"
   },
   "outputs": [
    {
     "data": {
      "text/plain": [
       "array([False, False,  True, False, False,  True, False,  True,  True,\n",
       "        True, False, False,  True,  True,  True,  True,  True,  True,\n",
       "        True, False])"
      ]
     },
     "execution_count": 43,
     "metadata": {
      "tags": []
     },
     "output_type": "execute_result"
    }
   ],
   "source": [
    "a > 18"
   ]
  },
  {
   "cell_type": "markdown",
   "metadata": {
    "colab_type": "text",
    "id": "R36W5qwelpoT"
   },
   "source": [
    "Given this boolean array we can now check different properties of our original array.  \n",
    "For example we can check how many entries in our array are 18 - "
   ]
  },
  {
   "cell_type": "code",
   "execution_count": 0,
   "metadata": {
    "colab": {
     "base_uri": "https://localhost:8080/",
     "height": 34
    },
    "colab_type": "code",
    "executionInfo": {
     "elapsed": 9801,
     "status": "ok",
     "timestamp": 1575266352312,
     "user": {
      "displayName": "Keren-Audrey Ouaknine",
      "photoUrl": "https://lh3.googleusercontent.com/a-/AAuE7mBQjOKX9Dq4HNrk47eKKKTmWpg4hZOmNe3UGntusA=s64",
      "userId": "10590988939558804557"
     },
     "user_tz": -120
    },
    "id": "vbgIY3aIlpoU",
    "outputId": "ab25d4f4-decf-4dfd-a912-d6665179b753"
   },
   "outputs": [
    {
     "data": {
      "text/plain": [
       "2"
      ]
     },
     "execution_count": 44,
     "metadata": {
      "tags": []
     },
     "output_type": "execute_result"
    }
   ],
   "source": [
    "(a == 18).sum()"
   ]
  },
  {
   "cell_type": "markdown",
   "metadata": {
    "colab_type": "text",
    "id": "OkWkKoaNlpoY"
   },
   "source": [
    "We can check if __all__ or __any__ of the elements possess a certain attribute:"
   ]
  },
  {
   "cell_type": "code",
   "execution_count": 0,
   "metadata": {
    "colab": {
     "base_uri": "https://localhost:8080/",
     "height": 34
    },
    "colab_type": "code",
    "executionInfo": {
     "elapsed": 9788,
     "status": "ok",
     "timestamp": 1575266352313,
     "user": {
      "displayName": "Keren-Audrey Ouaknine",
      "photoUrl": "https://lh3.googleusercontent.com/a-/AAuE7mBQjOKX9Dq4HNrk47eKKKTmWpg4hZOmNe3UGntusA=s64",
      "userId": "10590988939558804557"
     },
     "user_tz": -120
    },
    "id": "drjDr8SXlpoZ",
    "outputId": "27e8d26e-4cd7-4fd7-99a8-f5670d43c5ea"
   },
   "outputs": [
    {
     "data": {
      "text/plain": [
       "(True, True, False)"
      ]
     },
     "execution_count": 45,
     "metadata": {
      "tags": []
     },
     "output_type": "execute_result"
    }
   ],
   "source": [
    "(a == 18).any(), (a < 50).any(), (a < 0).any()"
   ]
  },
  {
   "cell_type": "code",
   "execution_count": 0,
   "metadata": {
    "colab": {
     "base_uri": "https://localhost:8080/",
     "height": 34
    },
    "colab_type": "code",
    "executionInfo": {
     "elapsed": 9779,
     "status": "ok",
     "timestamp": 1575266352313,
     "user": {
      "displayName": "Keren-Audrey Ouaknine",
      "photoUrl": "https://lh3.googleusercontent.com/a-/AAuE7mBQjOKX9Dq4HNrk47eKKKTmWpg4hZOmNe3UGntusA=s64",
      "userId": "10590988939558804557"
     },
     "user_tz": -120
    },
    "id": "9oj6euGAlpob",
    "outputId": "ff828a40-0e9b-42b6-cbed-8647ba5810e9"
   },
   "outputs": [
    {
     "data": {
      "text/plain": [
       "(False, True, False)"
      ]
     },
     "execution_count": 46,
     "metadata": {
      "tags": []
     },
     "output_type": "execute_result"
    }
   ],
   "source": [
    "(a == 18).all(), (a < 50).all(), (a < 0).all()"
   ]
  },
  {
   "cell_type": "markdown",
   "metadata": {
    "colab_type": "text",
    "id": "_16h7o6Blpod"
   },
   "source": [
    "And this obviously work on multi dimensional arrays as well"
   ]
  },
  {
   "cell_type": "code",
   "execution_count": 0,
   "metadata": {
    "colab": {
     "base_uri": "https://localhost:8080/",
     "height": 102
    },
    "colab_type": "code",
    "executionInfo": {
     "elapsed": 9773,
     "status": "ok",
     "timestamp": 1575266352314,
     "user": {
      "displayName": "Keren-Audrey Ouaknine",
      "photoUrl": "https://lh3.googleusercontent.com/a-/AAuE7mBQjOKX9Dq4HNrk47eKKKTmWpg4hZOmNe3UGntusA=s64",
      "userId": "10590988939558804557"
     },
     "user_tz": -120
    },
    "id": "T9928WCilpoe",
    "outputId": "5fe2a8b4-3ab3-409f-fae5-ca2c84916a9e"
   },
   "outputs": [
    {
     "data": {
      "text/plain": [
       "array([[19,  6,  8,  9],\n",
       "       [22,  8, 13, 12],\n",
       "       [27,  7, 26, 25],\n",
       "       [19,  6, 27, 13],\n",
       "       [12, 17,  2, 11]])"
      ]
     },
     "execution_count": 47,
     "metadata": {
      "tags": []
     },
     "output_type": "execute_result"
    }
   ],
   "source": [
    "np.random.seed(23)\n",
    "A = np.random.randint(low=0, high=30, size=(5, 4))\n",
    "A"
   ]
  },
  {
   "cell_type": "code",
   "execution_count": 0,
   "metadata": {
    "colab": {
     "base_uri": "https://localhost:8080/",
     "height": 102
    },
    "colab_type": "code",
    "executionInfo": {
     "elapsed": 9764,
     "status": "ok",
     "timestamp": 1575266352314,
     "user": {
      "displayName": "Keren-Audrey Ouaknine",
      "photoUrl": "https://lh3.googleusercontent.com/a-/AAuE7mBQjOKX9Dq4HNrk47eKKKTmWpg4hZOmNe3UGntusA=s64",
      "userId": "10590988939558804557"
     },
     "user_tz": -120
    },
    "id": "73r2DpzFlpog",
    "outputId": "821a84c1-5994-45d4-98dc-6062293652f7"
   },
   "outputs": [
    {
     "data": {
      "text/plain": [
       "array([[ True, False, False, False],\n",
       "       [ True, False,  True,  True],\n",
       "       [ True, False,  True,  True],\n",
       "       [ True, False,  True,  True],\n",
       "       [ True,  True, False,  True]])"
      ]
     },
     "execution_count": 48,
     "metadata": {
      "tags": []
     },
     "output_type": "execute_result"
    }
   ],
   "source": [
    "A > 9"
   ]
  },
  {
   "cell_type": "code",
   "execution_count": 0,
   "metadata": {
    "colab": {
     "base_uri": "https://localhost:8080/",
     "height": 102
    },
    "colab_type": "code",
    "executionInfo": {
     "elapsed": 9757,
     "status": "ok",
     "timestamp": 1575266352315,
     "user": {
      "displayName": "Keren-Audrey Ouaknine",
      "photoUrl": "https://lh3.googleusercontent.com/a-/AAuE7mBQjOKX9Dq4HNrk47eKKKTmWpg4hZOmNe3UGntusA=s64",
      "userId": "10590988939558804557"
     },
     "user_tz": -120
    },
    "id": "KcAP5Rg3lpoh",
    "outputId": "27437949-3317-4424-fc22-dba4710472df"
   },
   "outputs": [
    {
     "data": {
      "text/plain": [
       "array([[False,  True, False, False],\n",
       "       [False, False, False, False],\n",
       "       [False, False, False, False],\n",
       "       [False,  True, False, False],\n",
       "       [False, False, False, False]])"
      ]
     },
     "execution_count": 49,
     "metadata": {
      "tags": []
     },
     "output_type": "execute_result"
    }
   ],
   "source": [
    "A == 6"
   ]
  },
  {
   "cell_type": "code",
   "execution_count": 0,
   "metadata": {
    "colab": {
     "base_uri": "https://localhost:8080/",
     "height": 34
    },
    "colab_type": "code",
    "executionInfo": {
     "elapsed": 9748,
     "status": "ok",
     "timestamp": 1575266352315,
     "user": {
      "displayName": "Keren-Audrey Ouaknine",
      "photoUrl": "https://lh3.googleusercontent.com/a-/AAuE7mBQjOKX9Dq4HNrk47eKKKTmWpg4hZOmNe3UGntusA=s64",
      "userId": "10590988939558804557"
     },
     "user_tz": -120
    },
    "id": "S1wE0Ezxlpok",
    "outputId": "8a5ff292-7f4e-490a-8021-d268c75d3f77"
   },
   "outputs": [
    {
     "data": {
      "text/plain": [
       "(2, True, False)"
      ]
     },
     "execution_count": 50,
     "metadata": {
      "tags": []
     },
     "output_type": "execute_result"
    }
   ],
   "source": [
    "(A==6).sum(), (A>6).any(), (A>6).all()"
   ]
  },
  {
   "cell_type": "markdown",
   "metadata": {
    "colab_type": "text",
    "id": "LNHR6pI5lpom"
   },
   "source": [
    "We can use the axis parameter to aggregate over an axis and not the entire matrix."
   ]
  },
  {
   "cell_type": "code",
   "execution_count": 0,
   "metadata": {
    "colab": {
     "base_uri": "https://localhost:8080/",
     "height": 68
    },
    "colab_type": "code",
    "executionInfo": {
     "elapsed": 9734,
     "status": "ok",
     "timestamp": 1575266352315,
     "user": {
      "displayName": "Keren-Audrey Ouaknine",
      "photoUrl": "https://lh3.googleusercontent.com/a-/AAuE7mBQjOKX9Dq4HNrk47eKKKTmWpg4hZOmNe3UGntusA=s64",
      "userId": "10590988939558804557"
     },
     "user_tz": -120
    },
    "id": "vBlf8179lpom",
    "outputId": "687bb6cc-8f84-490d-b216-201e355960d5"
   },
   "outputs": [
    {
     "data": {
      "text/plain": [
       "(array([0, 2, 0, 0]),\n",
       " array([False, False, False, False,  True]),\n",
       " array([ True, False, False,  True]))"
      ]
     },
     "execution_count": 51,
     "metadata": {
      "tags": []
     },
     "output_type": "execute_result"
    }
   ],
   "source": [
    "(A == 6).sum(axis=0), (A<6).any(axis=1), (A>6).all(axis=0)"
   ]
  },
  {
   "cell_type": "code",
   "execution_count": 0,
   "metadata": {
    "colab": {
     "base_uri": "https://localhost:8080/",
     "height": 289
    },
    "colab_type": "code",
    "executionInfo": {
     "elapsed": 9727,
     "status": "ok",
     "timestamp": 1575266352316,
     "user": {
      "displayName": "Keren-Audrey Ouaknine",
      "photoUrl": "https://lh3.googleusercontent.com/a-/AAuE7mBQjOKX9Dq4HNrk47eKKKTmWpg4hZOmNe3UGntusA=s64",
      "userId": "10590988939558804557"
     },
     "user_tz": -120
    },
    "id": "AW-rLTpu-qw4",
    "outputId": "36f5df2a-1d7d-4637-f559-471606bdc5d8"
   },
   "outputs": [
    {
     "name": "stdout",
     "output_type": "stream",
     "text": [
      "[[0 1 0 0]\n",
      " [0 0 0 0]\n",
      " [0 0 0 0]\n",
      " [0 1 0 0]\n",
      " [0 0 0 0]]\n",
      "[[[19  6  8  9]\n",
      "  [22  8 13 12]\n",
      "  [27  7 26 25]\n",
      "  [19  6 27 13]\n",
      "  [12 17  2 11]]\n",
      "\n",
      " [[21  5  0 12]\n",
      "  [21 16  9 15]\n",
      "  [26 25 19  1]\n",
      "  [27  7 15  4]\n",
      "  [ 1  1 20 11]]]\n"
     ]
    }
   ],
   "source": [
    "np.random.seed(23)\n",
    "A = np.random.randint(low=0, high=30, size=(2, 5, 4))\n",
    "print((A == 6).sum(axis=0))\n",
    "print(A)"
   ]
  },
  {
   "cell_type": "markdown",
   "metadata": {
    "colab_type": "text",
    "id": "5SbSOR8dlpoo"
   },
   "source": [
    "### Bitwise operation\n",
    "A bitwise operation is a function which takes in 2 boolean values {0, 1} and outputs a boolean value{0, 1}. A bitwise operation is defined by a truth table which holds the output for each combination of values.  \n",
    "Numpy supports 4 boolean bitwise operation :\n",
    "1. & (AND)\n",
    "1. | (OR)\n",
    "1. ^ (XOR)\n",
    "1. ~ (NOT)  \n",
    "\n"
   ]
  },
  {
   "cell_type": "markdown",
   "metadata": {
    "colab_type": "text",
    "id": "f2gLDVr_lpop"
   },
   "source": [
    "This enables us to check multiple attributes quickly"
   ]
  },
  {
   "cell_type": "code",
   "execution_count": 0,
   "metadata": {
    "colab": {
     "base_uri": "https://localhost:8080/",
     "height": 102
    },
    "colab_type": "code",
    "executionInfo": {
     "elapsed": 9717,
     "status": "ok",
     "timestamp": 1575266352316,
     "user": {
      "displayName": "Keren-Audrey Ouaknine",
      "photoUrl": "https://lh3.googleusercontent.com/a-/AAuE7mBQjOKX9Dq4HNrk47eKKKTmWpg4hZOmNe3UGntusA=s64",
      "userId": "10590988939558804557"
     },
     "user_tz": -120
    },
    "id": "D-w3_sevlpop",
    "outputId": "1a02ab1f-ed69-4fe8-c7af-947d4e7684e3"
   },
   "outputs": [
    {
     "data": {
      "text/plain": [
       "array([[19,  6,  8,  9],\n",
       "       [22,  8, 13, 12],\n",
       "       [27,  7, 26, 25],\n",
       "       [19,  6, 27, 13],\n",
       "       [12, 17,  2, 11]])"
      ]
     },
     "execution_count": 53,
     "metadata": {
      "tags": []
     },
     "output_type": "execute_result"
    }
   ],
   "source": [
    "np.random.seed(23)\n",
    "A = np.random.randint(low=0, high=30, size=(5, 4))\n",
    "A"
   ]
  },
  {
   "cell_type": "code",
   "execution_count": 0,
   "metadata": {
    "colab": {
     "base_uri": "https://localhost:8080/",
     "height": 102
    },
    "colab_type": "code",
    "executionInfo": {
     "elapsed": 9710,
     "status": "ok",
     "timestamp": 1575266352317,
     "user": {
      "displayName": "Keren-Audrey Ouaknine",
      "photoUrl": "https://lh3.googleusercontent.com/a-/AAuE7mBQjOKX9Dq4HNrk47eKKKTmWpg4hZOmNe3UGntusA=s64",
      "userId": "10590988939558804557"
     },
     "user_tz": -120
    },
    "id": "wjQD-U1ilpor",
    "outputId": "82d411c0-f917-421a-980e-8c467b0fd74b"
   },
   "outputs": [
    {
     "data": {
      "text/plain": [
       "array([[False, False, False,  True],\n",
       "       [False, False,  True,  True],\n",
       "       [False, False, False, False],\n",
       "       [False, False, False,  True],\n",
       "       [ True, False, False,  True]])"
      ]
     },
     "execution_count": 54,
     "metadata": {
      "tags": []
     },
     "output_type": "execute_result"
    }
   ],
   "source": [
    "(A > 8) & (A < 15) # Only values between 8 and 30 are evaluated to True"
   ]
  },
  {
   "cell_type": "markdown",
   "metadata": {
    "colab_type": "text",
    "id": "ywKwfRxxlpow"
   },
   "source": [
    "__Watch Out__ Bitwise operation precede comparison. For example, the following statements fail:"
   ]
  },
  {
   "cell_type": "code",
   "execution_count": 0,
   "metadata": {
    "colab": {
     "base_uri": "https://localhost:8080/",
     "height": 163
    },
    "colab_type": "code",
    "executionInfo": {
     "elapsed": 10169,
     "status": "error",
     "timestamp": 1575266352793,
     "user": {
      "displayName": "Keren-Audrey Ouaknine",
      "photoUrl": "https://lh3.googleusercontent.com/a-/AAuE7mBQjOKX9Dq4HNrk47eKKKTmWpg4hZOmNe3UGntusA=s64",
      "userId": "10590988939558804557"
     },
     "user_tz": -120
    },
    "id": "uU9nVswblpow",
    "outputId": "d3a6c2e5-8249-4e87-a5ba-f62cba92d8d9"
   },
   "outputs": [
    {
     "ename": "ValueError",
     "evalue": "ignored",
     "output_type": "error",
     "traceback": [
      "\u001b[0;31m---------------------------------------------------------------------------\u001b[0m",
      "\u001b[0;31mValueError\u001b[0m                                Traceback (most recent call last)",
      "\u001b[0;32m<ipython-input-55-df3330b38188>\u001b[0m in \u001b[0;36m<module>\u001b[0;34m()\u001b[0m\n\u001b[0;32m----> 1\u001b[0;31m \u001b[0mA\u001b[0m \u001b[0;34m>\u001b[0m \u001b[0;36m8\u001b[0m \u001b[0;34m&\u001b[0m \u001b[0mA\u001b[0m \u001b[0;34m<\u001b[0m \u001b[0;36m15\u001b[0m\u001b[0;34m\u001b[0m\u001b[0;34m\u001b[0m\u001b[0m\n\u001b[0m",
      "\u001b[0;31mValueError\u001b[0m: The truth value of an array with more than one element is ambiguous. Use a.any() or a.all()"
     ]
    }
   ],
   "source": [
    "A > 8 & A < 15"
   ]
  },
  {
   "cell_type": "markdown",
   "metadata": {
    "colab_type": "text",
    "id": "PGQGDw9ilpoy"
   },
   "source": [
    "> __and__ / **or** vs __&__ / **|** It could be confusing to see the difference between `and` and `&` (`or` and `|`). The `and` and `or` keyword works on \"truthfulness\" of an entire object. When you try to evaluate \n",
    "```py \n",
    "(A > 8) and (A < 15)\n",
    "```\n",
    "The interperter will raise an exception since A>8 can not be evaluated as a boolean value. And `and` is not a ufunc in numpy. But \n",
    "```py\n",
    "(A > 8) | (A < 15)\n",
    "```\n",
    "Works since `|` calls a numpy ufunc which operates in an element by element fashion."
   ]
  },
  {
   "cell_type": "markdown",
   "metadata": {
    "colab_type": "text",
    "id": "AIQn_N31CYdB"
   },
   "source": [
    "### Masking\n"
   ]
  },
  {
   "cell_type": "markdown",
   "metadata": {
    "colab_type": "text",
    "id": "EiKP51k5lpo2"
   },
   "source": [
    "One of the coolest features of numpy is that you can use boolean array for indexing. This is usually referred to as __masking__.  \n",
    "In the example below, we first build a boolean array, indicating whether a value is bigger than 7 or not. \n",
    "Then, we use this boolean array to extract all the values which are bigger than 7. This is a very powerful and convenient feature."
   ]
  },
  {
   "cell_type": "code",
   "execution_count": 0,
   "metadata": {
    "colab": {},
    "colab_type": "code",
    "id": "_vcO2aOxlpo2"
   },
   "outputs": [],
   "source": [
    "A[A > 7] # Get all values greater than 7"
   ]
  },
  {
   "cell_type": "code",
   "execution_count": 0,
   "metadata": {
    "colab": {},
    "colab_type": "code",
    "id": "-DCIvOs_lpo6"
   },
   "outputs": [],
   "source": [
    "A[(A < 10) & (A != 6)] # Get all values smaller than 10 which are not 6"
   ]
  },
  {
   "cell_type": "markdown",
   "metadata": {
    "colab_type": "text",
    "id": "7udPT0HLlpo_"
   },
   "source": [
    "***\n",
    "### Exercise\n",
    "***"
   ]
  },
  {
   "cell_type": "markdown",
   "metadata": {
    "colab_type": "text",
    "id": "fQGlSa4UlppA"
   },
   "source": [
    "__Get all the values from A which are between 10 and 20 but not 11__"
   ]
  },
  {
   "cell_type": "code",
   "execution_count": 0,
   "metadata": {
    "colab": {},
    "colab_type": "code",
    "id": "pSSU9IdMlppA"
   },
   "outputs": [],
   "source": [
    "np.random.seed(99)\n",
    "A = np.random.randint(low=0, high=20, size=(5, 5))\n",
    "A"
   ]
  },
  {
   "cell_type": "code",
   "execution_count": 0,
   "metadata": {
    "colab": {},
    "colab_type": "code",
    "id": "YIOBLkXSlppG"
   },
   "outputs": [],
   "source": [
    "# Your code starts here\n",
    "A[(A>=10) & (A<=20) & (A!=11)]\n",
    "# Your code ends here"
   ]
  },
  {
   "cell_type": "markdown",
   "metadata": {
    "colab_type": "text",
    "id": "5GhtThcDlppH"
   },
   "source": [
    "__Use np.where to find the indices of all the values between 10 and 20 or 30 to 40 in B__"
   ]
  },
  {
   "cell_type": "code",
   "execution_count": 0,
   "metadata": {
    "colab": {
     "base_uri": "https://localhost:8080/",
     "height": 34
    },
    "colab_type": "code",
    "executionInfo": {
     "elapsed": 797,
     "status": "ok",
     "timestamp": 1575266370027,
     "user": {
      "displayName": "Keren-Audrey Ouaknine",
      "photoUrl": "https://lh3.googleusercontent.com/a-/AAuE7mBQjOKX9Dq4HNrk47eKKKTmWpg4hZOmNe3UGntusA=s64",
      "userId": "10590988939558804557"
     },
     "user_tz": -120
    },
    "id": "2T4dxWFNlppI",
    "outputId": "762dd463-b96e-45ac-fc30-d232116050c0"
   },
   "outputs": [
    {
     "data": {
      "text/plain": [
       "array([25, 38, 23])"
      ]
     },
     "execution_count": 57,
     "metadata": {
      "tags": []
     },
     "output_type": "execute_result"
    }
   ],
   "source": [
    "np.random.seed(201004564)\n",
    "B = np.random.randint(low=0, high=41, size=3)\n",
    "B"
   ]
  },
  {
   "cell_type": "code",
   "execution_count": 0,
   "metadata": {
    "colab": {
     "base_uri": "https://localhost:8080/",
     "height": 34
    },
    "colab_type": "code",
    "executionInfo": {
     "elapsed": 997,
     "status": "ok",
     "timestamp": 1575266702447,
     "user": {
      "displayName": "Keren-Audrey Ouaknine",
      "photoUrl": "https://lh3.googleusercontent.com/a-/AAuE7mBQjOKX9Dq4HNrk47eKKKTmWpg4hZOmNe3UGntusA=s64",
      "userId": "10590988939558804557"
     },
     "user_tz": -120
    },
    "id": "Nw7iRgl4lppJ",
    "outputId": "c5204fb7-6867-47f4-f980-f2770c80a3a1"
   },
   "outputs": [
    {
     "data": {
      "text/plain": [
       "(array([1]),)"
      ]
     },
     "execution_count": 62,
     "metadata": {
      "tags": []
     },
     "output_type": "execute_result"
    }
   ],
   "source": [
    "# Your code starts here\n",
    "#print(B, ((B>=10) & (B<=20)) | ((B>=30) & (B<=40)))\n",
    "np.where(((B>=10) & (B<=20)) | ((B>=30) & (B<=40)))\n",
    "# Your code ends here"
   ]
  },
  {
   "cell_type": "markdown",
   "metadata": {
    "colab_type": "text",
    "id": "3_a4wLGrlppL"
   },
   "source": [
    "__Use the same technique to find the indices of all the wines which have `alcohol` level of above 12.5 or `malic acid` of below 2 but not both!__"
   ]
  },
  {
   "cell_type": "code",
   "execution_count": 0,
   "metadata": {
    "colab": {},
    "colab_type": "code",
    "id": "cCM3Q-zxlppM"
   },
   "outputs": [],
   "source": [
    "from sklearn import datasets # We are going to use sklearn to load a sample dataset.\n",
    "\n",
    "# Load the wine dataset.\n",
    "wine_dataset = datasets.load_wine()\n",
    "\n",
    "# Extract the feature names from the dataset.\n",
    "features_names = wine_dataset['feature_names']\n",
    "\n",
    "# Extract the features matrix from the dataset.\n",
    "X = wine_dataset['data']"
   ]
  },
  {
   "cell_type": "code",
   "execution_count": 0,
   "metadata": {
    "colab": {
     "base_uri": "https://localhost:8080/",
     "height": 357
    },
    "colab_type": "code",
    "executionInfo": {
     "elapsed": 1250,
     "status": "ok",
     "timestamp": 1575267077617,
     "user": {
      "displayName": "Keren-Audrey Ouaknine",
      "photoUrl": "https://lh3.googleusercontent.com/a-/AAuE7mBQjOKX9Dq4HNrk47eKKKTmWpg4hZOmNe3UGntusA=s64",
      "userId": "10590988939558804557"
     },
     "user_tz": -120
    },
    "id": "e17Qm5eJlppN",
    "outputId": "df61602a-0f26-4c08-ac8e-1897054ea095"
   },
   "outputs": [
    {
     "data": {
      "text/plain": [
       "(['alcohol',\n",
       "  'malic_acid',\n",
       "  'ash',\n",
       "  'alcalinity_of_ash',\n",
       "  'magnesium',\n",
       "  'total_phenols',\n",
       "  'flavanoids',\n",
       "  'nonflavanoid_phenols',\n",
       "  'proanthocyanins',\n",
       "  'color_intensity',\n",
       "  'hue',\n",
       "  'od280/od315_of_diluted_wines',\n",
       "  'proline'],\n",
       " array([[  14.23,    1.71,    2.43, ...,    1.04,    3.92, 1065.  ],\n",
       "        [  13.2 ,    1.78,    2.14, ...,    1.05,    3.4 , 1050.  ],\n",
       "        [  13.16,    2.36,    2.67, ...,    1.03,    3.17, 1185.  ],\n",
       "        ...,\n",
       "        [  13.27,    4.28,    2.26, ...,    0.59,    1.56,  835.  ],\n",
       "        [  13.17,    2.59,    2.37, ...,    0.6 ,    1.62,  840.  ],\n",
       "        [  14.13,    4.1 ,    2.74, ...,    0.61,    1.6 ,  560.  ]]))"
      ]
     },
     "execution_count": 65,
     "metadata": {
      "tags": []
     },
     "output_type": "execute_result"
    }
   ],
   "source": [
    "features_names, X"
   ]
  },
  {
   "cell_type": "code",
   "execution_count": 0,
   "metadata": {
    "colab": {
     "base_uri": "https://localhost:8080/",
     "height": 306
    },
    "colab_type": "code",
    "executionInfo": {
     "elapsed": 1213,
     "status": "ok",
     "timestamp": 1575268833829,
     "user": {
      "displayName": "Keren-Audrey Ouaknine",
      "photoUrl": "https://lh3.googleusercontent.com/a-/AAuE7mBQjOKX9Dq4HNrk47eKKKTmWpg4hZOmNe3UGntusA=s64",
      "userId": "10590988939558804557"
     },
     "user_tz": -120
    },
    "id": "0jqrDwJUlppP",
    "outputId": "c2c4c2a2-ae58-4d07-e6ab-7ac8ac3d6e68"
   },
   "outputs": [
    {
     "name": "stdout",
     "output_type": "stream",
     "text": [
      "(178, 13)\n"
     ]
    },
    {
     "data": {
      "text/plain": [
       "array([[  14.23,    1.71,    2.43,   15.6 ,  127.  ,    2.8 ,    3.06,\n",
       "           0.28,    2.29,    5.64,    1.04,    3.92, 1065.  ],\n",
       "       [  13.2 ,    1.78,    2.14,   11.2 ,  100.  ,    2.65,    2.76,\n",
       "           0.26,    1.28,    4.38,    1.05,    3.4 , 1050.  ],\n",
       "       [  14.37,    1.95,    2.5 ,   16.8 ,  113.  ,    3.85,    3.49,\n",
       "           0.24,    2.18,    7.8 ,    0.86,    3.45, 1480.  ],\n",
       "       [  13.24,    2.59,    2.87,   21.  ,  118.  ,    2.8 ,    2.69,\n",
       "           0.39,    1.82,    4.32,    1.04,    2.93,  735.  ],\n",
       "       [  14.06,    2.15,    2.61,   17.6 ,  121.  ,    2.6 ,    2.51,\n",
       "           0.31,    1.25,    5.05,    1.06,    3.58, 1295.  ],\n",
       "       [  14.83,    1.64,    2.17,   14.  ,   97.  ,    2.8 ,    2.98,\n",
       "           0.29,    1.98,    5.2 ,    1.08,    2.85, 1045.  ],\n",
       "       [  14.1 ,    2.16,    2.3 ,   18.  ,  105.  ,    2.95,    3.32,\n",
       "           0.22,    2.38,    5.75,    1.25,    3.17, 1510.  ],\n",
       "       [  13.75,    1.73,    2.41,   16.  ,   89.  ,    2.6 ,    2.76,\n",
       "           0.29,    1.81,    5.6 ,    1.15,    2.9 , 1320.  ]])"
      ]
     },
     "execution_count": 89,
     "metadata": {
      "tags": []
     },
     "output_type": "execute_result"
    }
   ],
   "source": [
    "alcohol = X[0] \n",
    "malic_acid = X[1]\n",
    "mask1 = alcohol>12.5\n",
    "mask2 = malic_acid<2\n",
    "mask = mask1 ^ mask2\n",
    "# Your code starts here\n",
    "print(X.shape)\n",
    "X[np.where(mask)]\n",
    "# Your code ends here"
   ]
  },
  {
   "cell_type": "markdown",
   "metadata": {
    "colab_type": "text",
    "id": "01ZEXAPOlppT"
   },
   "source": [
    "### Fancy indexing\n",
    "Once we have extracted the indices from the features we can use those indices to get all the rows that match our criterion. The idea of using an array of integers as an indexer is called fancy indexing."
   ]
  },
  {
   "cell_type": "code",
   "execution_count": 0,
   "metadata": {
    "colab": {},
    "colab_type": "code",
    "id": "Y0OEtW0HlppT"
   },
   "outputs": [],
   "source": [
    "ind = np.where(mask) # Assuming you got the mask right.\n",
    "X[np.where(mask)]"
   ]
  },
  {
   "cell_type": "markdown",
   "metadata": {
    "colab_type": "text",
    "id": "8EH8a0VslppV"
   },
   "source": [
    "The idea of Fancy indexing is pretty simple : we can use a scalar to pick a specific element from an array. So let's use an array to access multiple elements in an array."
   ]
  },
  {
   "cell_type": "markdown",
   "metadata": {
    "colab_type": "text",
    "id": "DiWAcF3GlppW"
   },
   "source": [
    "<img src=\"https://media.giphy.com/media/dQkcf8GANR0ps57oBH/giphy.gif\" width=\"200\">"
   ]
  },
  {
   "cell_type": "code",
   "execution_count": 0,
   "metadata": {
    "colab": {},
    "colab_type": "code",
    "id": "yHc8Mf_olppW"
   },
   "outputs": [],
   "source": [
    "a = np.arange(20)"
   ]
  },
  {
   "cell_type": "code",
   "execution_count": 0,
   "metadata": {
    "colab": {
     "base_uri": "https://localhost:8080/",
     "height": 34
    },
    "colab_type": "code",
    "executionInfo": {
     "elapsed": 917,
     "status": "ok",
     "timestamp": 1575270667204,
     "user": {
      "displayName": "Keren-Audrey Ouaknine",
      "photoUrl": "https://lh3.googleusercontent.com/a-/AAuE7mBQjOKX9Dq4HNrk47eKKKTmWpg4hZOmNe3UGntusA=s64",
      "userId": "10590988939558804557"
     },
     "user_tz": -120
    },
    "id": "twXycMBalppY",
    "outputId": "9ee60b55-e76d-42be-bb6a-50775a6bf925"
   },
   "outputs": [
    {
     "data": {
      "text/plain": [
       "(0, 2, 5, 17)"
      ]
     },
     "execution_count": 91,
     "metadata": {
      "tags": []
     },
     "output_type": "execute_result"
    }
   ],
   "source": [
    "a[0], a[2], a[5], a[17] # Cumbersome way of accessing 4 elements in an array."
   ]
  },
  {
   "cell_type": "code",
   "execution_count": 0,
   "metadata": {
    "colab": {
     "base_uri": "https://localhost:8080/",
     "height": 34
    },
    "colab_type": "code",
    "executionInfo": {
     "elapsed": 1167,
     "status": "ok",
     "timestamp": 1575270674520,
     "user": {
      "displayName": "Keren-Audrey Ouaknine",
      "photoUrl": "https://lh3.googleusercontent.com/a-/AAuE7mBQjOKX9Dq4HNrk47eKKKTmWpg4hZOmNe3UGntusA=s64",
      "userId": "10590988939558804557"
     },
     "user_tz": -120
    },
    "id": "JXMlAbpylppb",
    "outputId": "354cb56e-45bb-4799-af85-3232ee360654"
   },
   "outputs": [
    {
     "data": {
      "text/plain": [
       "array([ 0,  2,  5, 17])"
      ]
     },
     "execution_count": 92,
     "metadata": {
      "tags": []
     },
     "output_type": "execute_result"
    }
   ],
   "source": [
    "ind = [0, 2, 5, 17] # Fancy indexing!\n",
    "a[ind]"
   ]
  },
  {
   "cell_type": "markdown",
   "metadata": {
    "colab_type": "text",
    "id": "Oz4LRd8olppc"
   },
   "source": [
    "We can build an array with any dimension we want using fancy indexing"
   ]
  },
  {
   "cell_type": "code",
   "execution_count": 0,
   "metadata": {
    "colab": {
     "base_uri": "https://localhost:8080/",
     "height": 34
    },
    "colab_type": "code",
    "executionInfo": {
     "elapsed": 814,
     "status": "ok",
     "timestamp": 1575270791359,
     "user": {
      "displayName": "Keren-Audrey Ouaknine",
      "photoUrl": "https://lh3.googleusercontent.com/a-/AAuE7mBQjOKX9Dq4HNrk47eKKKTmWpg4hZOmNe3UGntusA=s64",
      "userId": "10590988939558804557"
     },
     "user_tz": -120
    },
    "id": "040Tk2NZlppd",
    "outputId": "cbfc8bf9-b528-430d-e14b-675df3c783b8"
   },
   "outputs": [
    {
     "data": {
      "text/plain": [
       "array([0, 1, 3])"
      ]
     },
     "execution_count": 95,
     "metadata": {
      "tags": []
     },
     "output_type": "execute_result"
    }
   ],
   "source": [
    "mat_1 = [[0, 1, 2], [1, 2, 3]]\n",
    "a[[0, 1, 3]]"
   ]
  },
  {
   "cell_type": "markdown",
   "metadata": {
    "colab_type": "text",
    "id": "t99jq5qwlpph"
   },
   "source": [
    "We can also do fancy indexing on multiple axis"
   ]
  },
  {
   "cell_type": "code",
   "execution_count": 0,
   "metadata": {
    "colab": {
     "base_uri": "https://localhost:8080/",
     "height": 85
    },
    "colab_type": "code",
    "executionInfo": {
     "elapsed": 1040,
     "status": "ok",
     "timestamp": 1575270865838,
     "user": {
      "displayName": "Keren-Audrey Ouaknine",
      "photoUrl": "https://lh3.googleusercontent.com/a-/AAuE7mBQjOKX9Dq4HNrk47eKKKTmWpg4hZOmNe3UGntusA=s64",
      "userId": "10590988939558804557"
     },
     "user_tz": -120
    },
    "id": "rOFske5Klppi",
    "outputId": "ecc8413b-97e3-403f-ee38-f1f005222ebb"
   },
   "outputs": [
    {
     "data": {
      "text/plain": [
       "array([[ 0,  1,  2,  3,  4],\n",
       "       [ 5,  6,  7,  8,  9],\n",
       "       [10, 11, 12, 13, 14],\n",
       "       [15, 16, 17, 18, 19]])"
      ]
     },
     "execution_count": 96,
     "metadata": {
      "tags": []
     },
     "output_type": "execute_result"
    }
   ],
   "source": [
    "A = np.arange(20).reshape(4, 5)\n",
    "A"
   ]
  },
  {
   "cell_type": "code",
   "execution_count": 0,
   "metadata": {
    "colab": {
     "base_uri": "https://localhost:8080/",
     "height": 34
    },
    "colab_type": "code",
    "executionInfo": {
     "elapsed": 1503,
     "status": "ok",
     "timestamp": 1575270873521,
     "user": {
      "displayName": "Keren-Audrey Ouaknine",
      "photoUrl": "https://lh3.googleusercontent.com/a-/AAuE7mBQjOKX9Dq4HNrk47eKKKTmWpg4hZOmNe3UGntusA=s64",
      "userId": "10590988939558804557"
     },
     "user_tz": -120
    },
    "id": "uX-JxdhClppp",
    "outputId": "3aca2d41-770d-4c6f-e48c-c286405a26e8"
   },
   "outputs": [
    {
     "data": {
      "text/plain": [
       "array([ 1,  7, 19])"
      ]
     },
     "execution_count": 97,
     "metadata": {
      "tags": []
     },
     "output_type": "execute_result"
    }
   ],
   "source": [
    "row = [0, 1, 3]\n",
    "col = [1, 2, 4]\n",
    "A[row, col]"
   ]
  },
  {
   "cell_type": "markdown",
   "metadata": {
    "colab_type": "text",
    "id": "Ttii7Do2lppr"
   },
   "source": [
    "And keeping the same dimensions"
   ]
  },
  {
   "cell_type": "markdown",
   "metadata": {
    "colab_type": "text",
    "id": "TH2dW8Uvlpps"
   },
   "source": [
    "If you want to take the [1, 2, 4] col values from [0, 1, 3] rows we can use __broadcasting!__"
   ]
  },
  {
   "cell_type": "code",
   "execution_count": 0,
   "metadata": {
    "colab": {},
    "colab_type": "code",
    "id": "y9nuxpnslpps"
   },
   "outputs": [],
   "source": [
    "row = np.array([0, 1, 3])\n",
    "A[row[:, np.newaxis], col]"
   ]
  },
  {
   "cell_type": "markdown",
   "metadata": {
    "colab_type": "text",
    "id": "aACFiqzilppy"
   },
   "source": [
    "and you can also mix between indexing types"
   ]
  },
  {
   "cell_type": "code",
   "execution_count": 0,
   "metadata": {
    "colab": {
     "base_uri": "https://localhost:8080/",
     "height": 153
    },
    "colab_type": "code",
    "executionInfo": {
     "elapsed": 1024,
     "status": "ok",
     "timestamp": 1575271124048,
     "user": {
      "displayName": "Keren-Audrey Ouaknine",
      "photoUrl": "https://lh3.googleusercontent.com/a-/AAuE7mBQjOKX9Dq4HNrk47eKKKTmWpg4hZOmNe3UGntusA=s64",
      "userId": "10590988939558804557"
     },
     "user_tz": -120
    },
    "id": "2MYBl7kTlppy",
    "outputId": "b6e7554f-d74c-4cc1-b684-0a2bcb81fe52"
   },
   "outputs": [
    {
     "data": {
      "text/plain": [
       "array([[96,  8, 67, 67, 91],\n",
       "       [ 3, 71, 56, 29, 48],\n",
       "       [32, 24, 74,  9, 51],\n",
       "       [11, 55, 62, 67, 69],\n",
       "       [48, 28, 20,  8, 38],\n",
       "       [84, 65,  1, 79, 69],\n",
       "       [74, 73, 62, 21, 29],\n",
       "       [90,  6, 38, 22, 63]])"
      ]
     },
     "execution_count": 98,
     "metadata": {
      "tags": []
     },
     "output_type": "execute_result"
    }
   ],
   "source": [
    "np.random.seed(2020)\n",
    "A = np.random.randint(low=0, high=100, size=(8, 5))\n",
    "A"
   ]
  },
  {
   "cell_type": "markdown",
   "metadata": {
    "colab_type": "text",
    "id": "bluNmjZdlpp0"
   },
   "source": [
    "Using slicing and fancy indexing:"
   ]
  },
  {
   "cell_type": "code",
   "execution_count": 0,
   "metadata": {
    "colab": {
     "base_uri": "https://localhost:8080/",
     "height": 51
    },
    "colab_type": "code",
    "executionInfo": {
     "elapsed": 1298,
     "status": "ok",
     "timestamp": 1575271136649,
     "user": {
      "displayName": "Keren-Audrey Ouaknine",
      "photoUrl": "https://lh3.googleusercontent.com/a-/AAuE7mBQjOKX9Dq4HNrk47eKKKTmWpg4hZOmNe3UGntusA=s64",
      "userId": "10590988939558804557"
     },
     "user_tz": -120
    },
    "id": "n6cIkm3Hlpp0",
    "outputId": "b5c95236-140a-4415-fe10-5d10289c6ebd"
   },
   "outputs": [
    {
     "data": {
      "text/plain": [
       "array([[71, 56, 48],\n",
       "       [24, 74, 51]])"
      ]
     },
     "execution_count": 99,
     "metadata": {
      "tags": []
     },
     "output_type": "execute_result"
    }
   ],
   "source": [
    "A[1:3, [1, 2, 4]] # Grab row 1 and2  take col values 1, 2, 4"
   ]
  },
  {
   "cell_type": "markdown",
   "metadata": {
    "colab_type": "text",
    "id": "pa2gGLa1lpp2"
   },
   "source": [
    "Using boolean and fancy indexing."
   ]
  },
  {
   "cell_type": "code",
   "execution_count": 0,
   "metadata": {
    "colab": {
     "base_uri": "https://localhost:8080/",
     "height": 306
    },
    "colab_type": "code",
    "executionInfo": {
     "elapsed": 1121,
     "status": "ok",
     "timestamp": 1575271163577,
     "user": {
      "displayName": "Keren-Audrey Ouaknine",
      "photoUrl": "https://lh3.googleusercontent.com/a-/AAuE7mBQjOKX9Dq4HNrk47eKKKTmWpg4hZOmNe3UGntusA=s64",
      "userId": "10590988939558804557"
     },
     "user_tz": -120
    },
    "id": "h-Ssl-UMlpp3",
    "outputId": "d30a67f6-50c8-499f-f2a4-9031058655be"
   },
   "outputs": [
    {
     "name": "stdout",
     "output_type": "stream",
     "text": [
      "(4,) (4, 1) \n",
      " [[96  8 67 67 91]\n",
      " [ 3 71 56 29 48]\n",
      " [32 24 74  9 51]\n",
      " [11 55 62 67 69]\n",
      " [48 28 20  8 38]\n",
      " [84 65  1 79 69]\n",
      " [74 73 62 21 29]\n",
      " [90  6 38 22 63]] \n",
      " [[1]\n",
      " [4]\n",
      " [5]\n",
      " [6]] [ True False False False  True]\n"
     ]
    },
    {
     "data": {
      "text/plain": [
       "array([[ 3, 48],\n",
       "       [48, 38],\n",
       "       [84, 69],\n",
       "       [74, 29]])"
      ]
     },
     "execution_count": 100,
     "metadata": {
      "tags": []
     },
     "output_type": "execute_result"
    }
   ],
   "source": [
    "import numpy as np\n",
    "# Take the 1st, 4th, 5th and 6th row, and keep only columns that have a mean greater than 50.\n",
    "rows = np.array([1, 4, 5, 6])\n",
    "col = A.mean(0) > 50\n",
    "print(rows.shape, rows[:, np.newaxis].shape, \"\\n\", A, \"\\n\", rows[:, np.newaxis], col)\n",
    "A[rows[:, np.newaxis], col]\n"
   ]
  },
  {
   "cell_type": "code",
   "execution_count": 0,
   "metadata": {
    "colab": {
     "base_uri": "https://localhost:8080/",
     "height": 85
    },
    "colab_type": "code",
    "executionInfo": {
     "elapsed": 993,
     "status": "ok",
     "timestamp": 1575271169896,
     "user": {
      "displayName": "Keren-Audrey Ouaknine",
      "photoUrl": "https://lh3.googleusercontent.com/a-/AAuE7mBQjOKX9Dq4HNrk47eKKKTmWpg4hZOmNe3UGntusA=s64",
      "userId": "10590988939558804557"
     },
     "user_tz": -120
    },
    "id": "d6ul626plpp4",
    "outputId": "c185b4a3-f6e2-4dc7-f8b3-0be492501e76"
   },
   "outputs": [
    {
     "data": {
      "text/plain": [
       "(array([[1],\n",
       "        [4],\n",
       "        [5],\n",
       "        [6]]), array([ True, False, False, False,  True]))"
      ]
     },
     "execution_count": 101,
     "metadata": {
      "tags": []
     },
     "output_type": "execute_result"
    }
   ],
   "source": [
    "rows[:, np.newaxis], col"
   ]
  },
  {
   "cell_type": "code",
   "execution_count": 0,
   "metadata": {
    "colab": {
     "base_uri": "https://localhost:8080/",
     "height": 85
    },
    "colab_type": "code",
    "executionInfo": {
     "elapsed": 877,
     "status": "ok",
     "timestamp": 1575271173564,
     "user": {
      "displayName": "Keren-Audrey Ouaknine",
      "photoUrl": "https://lh3.googleusercontent.com/a-/AAuE7mBQjOKX9Dq4HNrk47eKKKTmWpg4hZOmNe3UGntusA=s64",
      "userId": "10590988939558804557"
     },
     "user_tz": -120
    },
    "id": "50KXlw7Qlpp6",
    "outputId": "ccc4352c-553e-4844-99e7-b7d30cfd4f5b"
   },
   "outputs": [
    {
     "data": {
      "text/plain": [
       "array([[1, 1, 1, 1, 1],\n",
       "       [4, 4, 4, 4, 4],\n",
       "       [5, 5, 5, 5, 5],\n",
       "       [6, 6, 6, 6, 6]])"
      ]
     },
     "execution_count": 102,
     "metadata": {
      "tags": []
     },
     "output_type": "execute_result"
    }
   ],
   "source": [
    "np.tile(rows[:, np.newaxis], [5])"
   ]
  },
  {
   "cell_type": "code",
   "execution_count": 0,
   "metadata": {
    "colab": {
     "base_uri": "https://localhost:8080/",
     "height": 102
    },
    "colab_type": "code",
    "executionInfo": {
     "elapsed": 1004,
     "status": "ok",
     "timestamp": 1575271491125,
     "user": {
      "displayName": "Keren-Audrey Ouaknine",
      "photoUrl": "https://lh3.googleusercontent.com/a-/AAuE7mBQjOKX9Dq4HNrk47eKKKTmWpg4hZOmNe3UGntusA=s64",
      "userId": "10590988939558804557"
     },
     "user_tz": -120
    },
    "id": "Hke8g2O9lpp_",
    "outputId": "ceff9805-dbf8-4533-aaa9-eb7e92a05768"
   },
   "outputs": [
    {
     "name": "stdout",
     "output_type": "stream",
     "text": [
      "[ True False False False  True]\n"
     ]
    },
    {
     "data": {
      "text/plain": [
       "array([[ True, False, False, False,  True],\n",
       "       [ True, False, False, False,  True],\n",
       "       [ True, False, False, False,  True],\n",
       "       [ True, False, False, False,  True]])"
      ]
     },
     "execution_count": 104,
     "metadata": {
      "tags": []
     },
     "output_type": "execute_result"
    }
   ],
   "source": [
    "print(col)\n",
    "np.tile(col, (4, 1))"
   ]
  },
  {
   "cell_type": "markdown",
   "metadata": {
    "colab_type": "text",
    "id": "yu0a0yiclpqC"
   },
   "source": [
    "# \"Losing Your Loops\": Fast Numerical Computing with NumPy \n",
    "\n",
    "From the PyCon 2015 conferece, a [presentation](https://speakerdeck.com/jakevdp/losing-your-loops-fast-numerical-computing-with-numpy-pycon-2015) by [Jake VanderPlas](http://vanderplas.com).\n",
    "\n",
    "Also available on [YouTube](https://www.youtube.com/watch?v=EEUXKG97YRw)."
   ]
  },
  {
   "cell_type": "markdown",
   "metadata": {
    "colab_type": "text",
    "id": "hAGxmMENlpqD"
   },
   "source": [
    "# References\n",
    "\n",
    "- [Python Data Science Handbook](https://jakevdp.github.io/PythonDataScienceHandbook/) A thorough tour into Numpy. \n",
    "\n",
    "- [Yoav Ram Numpy Notebook](https://github.com/yoavram/SciComPy/blob/master/notebooks/numpy.ipynb) If you want to skim through most topics in Numpy."
   ]
  }
 ],
 "metadata": {
  "colab": {
   "name": "Numpy II.ipynb",
   "provenance": []
  },
  "kernelspec": {
   "display_name": "Python 3",
   "language": "python",
   "name": "python3"
  },
  "language_info": {
   "codemirror_mode": {
    "name": "ipython",
    "version": 3
   },
   "file_extension": ".py",
   "mimetype": "text/x-python",
   "name": "python",
   "nbconvert_exporter": "python",
   "pygments_lexer": "ipython3",
   "version": "3.6.9"
  },
  "varInspector": {
   "cols": {
    "lenName": 16,
    "lenType": 16,
    "lenVar": 40
   },
   "kernels_config": {
    "python": {
     "delete_cmd_postfix": "",
     "delete_cmd_prefix": "del ",
     "library": "var_list.py",
     "varRefreshCmd": "print(var_dic_list())"
    },
    "r": {
     "delete_cmd_postfix": ") ",
     "delete_cmd_prefix": "rm(",
     "library": "var_list.r",
     "varRefreshCmd": "cat(var_dic_list()) "
    }
   },
   "position": {
    "height": "159px",
    "left": "1550px",
    "right": "20px",
    "top": "120px",
    "width": "350px"
   },
   "types_to_exclude": [
    "module",
    "function",
    "builtin_function_or_method",
    "instance",
    "_Feature"
   ],
   "window_display": true
  }
 },
 "nbformat": 4,
 "nbformat_minor": 1
}
