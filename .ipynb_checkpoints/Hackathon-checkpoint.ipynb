{
 "cells": [
  {
   "cell_type": "code",
   "execution_count": 1,
   "metadata": {},
   "outputs": [],
   "source": [
    "import pandas as pd \n",
    "import numpy as np "
   ]
  },
  {
   "cell_type": "code",
   "execution_count": null,
   "metadata": {},
   "outputs": [],
   "source": [
    "import random\n",
    "import sys\n",
    "import math\n",
    "import csv\n",
    "\n",
    "\n",
    "latitude = 13.53\n",
    "longitude = 2.46\n",
    "\n",
    "\n",
    "df = pd.DataFrame({'Lat': np.random.uniform(-3, 3, 1001), \\\n",
    "                   'Long':np.random.uniform(-3,3, 1001)})\n",
    "#print(df['A'] + latitude)\n",
    "\n",
    "df['Lat'] =  df['Lat'] + latitude\n",
    "\n",
    "df['Long'] =  df['Long'] + longitude\n",
    "\n",
    "df.to_csv('Random_Long_Lat_Points.csv')\n",
    "\n",
    "#Export = df.to_json('/Users/alexhu/Documents/Geo_Points.json')\n",
    "\n",
    "#df['A'] + latitude, df['B'] + longitude\n",
    "\n",
    "#print(df)\n",
    "\n",
    "#newest_df = new_df['B'] + longitude\n",
    "#print(newest_df)\n",
    "\n",
    "df_csvFile = pd.read_csv('Ebola_1K_Sample_Nov12_2014 - Sheet 1.csv')\n",
    "\n",
    "#print(df_csvFile)\n",
    "\n",
    "df_csvFile['Lat'] = df['Lat']\n",
    "\n",
    "df_csvFile['Long'] = df['Long']\n",
    "\n",
    "print(df_csvFile)\n",
    "\n",
    "df_csvFile.to_csv('Ebola_1K_Sample_Nov12_2014 - APPENDED.csv')\n",
    "\n",
    "\n",
    "\n"
   ]
  },
  {
   "cell_type": "code",
   "execution_count": null,
   "metadata": {
    "scrolled": true
   },
   "outputs": [],
   "source": []
  },
  {
   "cell_type": "code",
   "execution_count": null,
   "metadata": {},
   "outputs": [],
   "source": []
  },
  {
   "cell_type": "code",
   "execution_count": 17,
   "metadata": {},
   "outputs": [],
   "source": []
  },
  {
   "cell_type": "code",
   "execution_count": null,
   "metadata": {},
   "outputs": [],
   "source": []
  }
 ],
 "metadata": {
  "kernelspec": {
   "display_name": "Python 3",
   "language": "python",
   "name": "python3"
  },
  "language_info": {
   "codemirror_mode": {
    "name": "ipython",
    "version": 3
   },
   "file_extension": ".py",
   "mimetype": "text/x-python",
   "name": "python",
   "nbconvert_exporter": "python",
   "pygments_lexer": "ipython3",
   "version": "3.6.9"
  }
 },
 "nbformat": 4,
 "nbformat_minor": 4
}
